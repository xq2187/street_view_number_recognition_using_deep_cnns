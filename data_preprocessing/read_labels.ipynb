{
 "cells": [
  {
   "cell_type": "markdown",
   "metadata": {},
   "source": [
    "# Read and Store Labels"
   ]
  },
  {
   "cell_type": "code",
   "execution_count": 2,
   "metadata": {},
   "outputs": [],
   "source": [
    "import tensorflow\n",
    "import os\n",
    "import tarfile\n",
    "import cv2\n",
    "import h5py\n",
    "import numpy as np\n",
    "import imageio\n",
    "from PIL import Image\n",
    "import matplotlib.pyplot as plt\n",
    "from PIL import ImageOps\n",
    "import pandas as pd\n",
    "from skimage.util import img_as_ubyte\n",
    "import csv\n",
    "from numpy import savez_compressed\n",
    "from numpy import load"
   ]
  },
  {
   "cell_type": "code",
   "execution_count": 3,
   "metadata": {},
   "outputs": [],
   "source": [
    "# get the label of one picture\n",
    "def get_one_label(data_path, index, debug=False): \n",
    "    #get_img_bbox(data_path =\"/data/test/digitStruct.mat\",index)\n",
    "    attrs = {}\n",
    "    data = h5py.File(data_path, 'r')\n",
    "    item = data['digitStruct']['bbox'][index].item()\n",
    "    key_list = ['label']\n",
    "    for key in key_list:\n",
    "        attr = data[item][key]\n",
    "        values = []\n",
    "        for i in range(len(attr)):\n",
    "            # if multi-digits in the image, get infomation digit by digit\n",
    "            if len(attr) > 1:\n",
    "                values.append(data[attr.value[i].item()].value[0][0])\n",
    "            # if only one digit in the image\n",
    "            else:\n",
    "                values = [attr.value[0][0]]\n",
    "        attrs[key] = values[:5]\n",
    "    return attrs['label']"
   ]
  },
  {
   "cell_type": "code",
   "execution_count": 4,
   "metadata": {},
   "outputs": [],
   "source": [
    "# get all labels\n",
    "def labels(path_img, path_mat, debug=False):\n",
    "    labels = list()\n",
    "    mat_file = h5py.File(os.getcwd()+path_mat,'r')\n",
    "    bbox_df = pd.DataFrame([],columns=['img_name','label','left','top','width','height'])\n",
    "    for i in range(mat_file['/digitStruct/bbox'].shape[0]):\n",
    "        label = get_one_label(os.getcwd()+path_mat,i,debug=debug)\n",
    "        #print(label)\n",
    "        label = [0.0 if x==10 else x for x in label]\n",
    "        lenth = len(label)\n",
    "        if lenth < 5:\n",
    "            add_list = [10.0]*(5-lenth)\n",
    "            label.extend(add_list)\n",
    "        label.insert(0, lenth)\n",
    "        labels.append(np.array(label))\n",
    "    labels = np.asarray(labels)\n",
    "    return labels"
   ]
  },
  {
   "cell_type": "code",
   "execution_count": 1,
   "metadata": {},
   "outputs": [],
   "source": [
    "# get and store test labels\n",
    "test_label = labels('/data/test','/data/test/digitStruct.mat',debug=False)\n",
    "savez_compressed(os.path.join(os.getcwd()+'/data/','test_label2.npz'),test_label)"
   ]
  },
  {
   "cell_type": "code",
   "execution_count": 63,
   "metadata": {},
   "outputs": [],
   "source": [
    "# get and store train labels\n",
    "train_label = labels('/data/train','/data/train/digitStruct.mat',debug=False)\n",
    "savez_compressed(os.path.join(os.getcwd()+'/data/','train_label2.npz'),train_label)"
   ]
  },
  {
   "cell_type": "code",
   "execution_count": 6,
   "metadata": {},
   "outputs": [],
   "source": [
    "# get and store extra labels\n",
    "extra_label = labels('/data/extra','/data/extra/digitStruct.mat',debug=False)\n",
    "savez_compressed(os.path.join(os.getcwd()+'/data/','extra_label2.npz'),extra_label)"
   ]
  },
  {
   "cell_type": "code",
   "execution_count": 8,
   "metadata": {},
   "outputs": [],
   "source": []
  }
 ],
 "metadata": {
  "kernelspec": {
   "display_name": "Python 3",
   "language": "python",
   "name": "python3"
  },
  "language_info": {
   "codemirror_mode": {
    "name": "ipython",
    "version": 3
   },
   "file_extension": ".py",
   "mimetype": "text/x-python",
   "name": "python",
   "nbconvert_exporter": "python",
   "pygments_lexer": "ipython3",
   "version": "3.6.8"
  }
 },
 "nbformat": 4,
 "nbformat_minor": 2
}
