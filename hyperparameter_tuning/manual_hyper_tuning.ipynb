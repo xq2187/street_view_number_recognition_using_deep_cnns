{
 "cells": [
  {
   "cell_type": "code",
   "execution_count": 1,
   "metadata": {},
   "outputs": [],
   "source": [
    "#!pip install keras\n",
    "#!pip install pydot\n",
    "#!pip install graphviz\n",
    "#!pip install pydotplus\n"
   ]
  },
  {
   "cell_type": "code",
   "execution_count": 27,
   "metadata": {},
   "outputs": [],
   "source": [
    "import os\n",
    "import numpy as np\n",
    "import tensorflow as tf\n",
    "import tensorflow.keras as keras \n",
    "import tensorflow.keras.backend as K\n",
    "from sklearn.model_selection import train_test_split\n",
    "import matplotlib.pyplot as plt\n",
    "import tensorflow\n",
    "import tarfile\n",
    "import cv2\n",
    "import h5py\n",
    "import imageio\n",
    "from PIL import Image\n",
    "import matplotlib.pyplot as plt\n",
    "from PIL import ImageOps\n",
    "import pandas as pd\n",
    "from skimage.util import img_as_ubyte\n",
    "import csv\n",
    "from numpy import savez_compressed\n",
    "from numpy import load\n",
    "import glob\n",
    "import zipfile\n",
    "%matplotlib inline\n",
    "import keras\n",
    "from keras import optimizers\n",
    "from keras.models import Sequential\n",
    "from keras.layers import Dense, Conv2D, MaxPooling2D, Dropout, Flatten, Activation,Input\n",
    "from keras.layers.normalization import BatchNormalization\n",
    "from keras.models import Model\n",
    "from keras.layers import Convolution2D\n",
    "from keras.layers.core import Dropout\n",
    "from sklearn.model_selection import train_test_split\n",
    "from keras.utils import to_categorical,plot_model,model_to_dot\n",
    "import pydot\n",
    "import graphviz\n",
    "import pydotplus"
   ]
  },
  {
   "cell_type": "code",
   "execution_count": 28,
   "metadata": {},
   "outputs": [],
   "source": [
    "# import os\n",
    "# os.environ[\"PATH\"] += '/home/ecbm4040/miniconda3/envs/envTF113/lib/python3.6/site-packages/'"
   ]
  },
  {
   "cell_type": "markdown",
   "metadata": {},
   "source": [
    "# 0.0 Read Train and Test Data From .npz Files"
   ]
  },
  {
   "cell_type": "code",
   "execution_count": 3,
   "metadata": {},
   "outputs": [
    {
     "name": "stdout",
     "output_type": "stream",
     "text": [
      "(33402, 64, 64, 3)\n",
      "(33402, 6)\n"
     ]
    }
   ],
   "source": [
    "# read train image infomation from training array, which is stored in train_cropped.npz\n",
    "# tra_images has shape (33402,64,64,3)\n",
    "train_data1 = load(os.getcwd()+'/data/train_cropped.npz', allow_pickle=True)\n",
    "train_images = np.asarray(train_data1['arr_0'])\n",
    "print(train_images.shape)\n",
    "# read array infomation from training array, which is stored in train_cropped.npz\n",
    "# tra_images has shape (33402,6)\n",
    "label_data1 = load(os.getcwd()+'/data/label/train_label.npz', allow_pickle=True)\n",
    "train_labels = np.asarray(label_data1['arr_0'])\n",
    "print(train_labels.shape)"
   ]
  },
  {
   "cell_type": "code",
   "execution_count": 4,
   "metadata": {},
   "outputs": [
    {
     "name": "stdout",
     "output_type": "stream",
     "text": [
      "(13068, 64, 64, 3)\n",
      "(13068, 6)\n"
     ]
    }
   ],
   "source": [
    "# read train image infomation from training array, which is stored in train_cropped.npz\n",
    "# tra_images has shape (13068, 64, 64, 3)\n",
    "test_data1 = load(os.getcwd()+'/data/test_cropped.npz', allow_pickle=True)\n",
    "test_images = np.asarray(test_data1['arr_0'])\n",
    "print(test_images.shape)\n",
    "# read array infomation from training array, which is stored in train_cropped.npz\n",
    "# tra_images has shape (13068, 6)\n",
    "label_data2 = load(os.getcwd()+'/data/label/test_label.npz', allow_pickle=True)\n",
    "test_labels = np.asarray(label_data2['arr_0'])\n",
    "print(test_labels.shape)"
   ]
  },
  {
   "cell_type": "code",
   "execution_count": 5,
   "metadata": {},
   "outputs": [],
   "source": [
    "# get test and train datasets\n",
    "x_train = train_images\n",
    "x_test = test_images"
   ]
  },
  {
   "cell_type": "code",
   "execution_count": 6,
   "metadata": {},
   "outputs": [],
   "source": [
    "#x_train, x_valid, y_train, y_valid = train_test_split(train_images,train_labels, test_size=0.2, shuffle= True)"
   ]
  },
  {
   "cell_type": "code",
   "execution_count": 7,
   "metadata": {},
   "outputs": [],
   "source": [
    "# change the shape of array, which is similar to .T\n",
    "def change_shape(array1):\n",
    "    label_emp = np.empty((array1.shape[1],array1.shape[0]), dtype='uint8')\n",
    "    for i in range(array1.shape[0]):\n",
    "        for j in range(array1.shape[1]):\n",
    "            label_emp[j,i] = array1[i,j]\n",
    "    return label_emp"
   ]
  },
  {
   "cell_type": "code",
   "execution_count": 8,
   "metadata": {},
   "outputs": [
    {
     "name": "stdout",
     "output_type": "stream",
     "text": [
      "y_train shape is right\n",
      "y_train shape is right\n"
     ]
    }
   ],
   "source": [
    "# reshape and test\n",
    "y_train = change_shape(train_labels)\n",
    "y_test = change_shape(test_labels)\n",
    "if y_train.shape[0] == 6:\n",
    "    print('y_train shape is right')\n",
    "if y_test.shape[0] == 6:\n",
    "    print('y_train shape is right')\n",
    "# print(y_train[0].reshape([-1,1]))\n",
    "# print(y_train.shape)"
   ]
  },
  {
   "cell_type": "markdown",
   "metadata": {},
   "source": [
    "# 0.1 Functions"
   ]
  },
  {
   "cell_type": "code",
   "execution_count": 9,
   "metadata": {},
   "outputs": [],
   "source": [
    "# get test accurracy\n",
    "def test_acc(model_name):\n",
    "    pre = model_name.predict(x_test, batch_size=None, verbose=0, steps=None, callbacks=None, max_queue_size=10, workers=1, use_multiprocessing=False)\n",
    "    n_pre = [np.argmax(i, axis = 1) for i in pre]\n",
    "    n_pre = np.asarray(n_pre).T\n",
    "    acc_result = np.sum(y_test.T == n_pre, axis = 1)\n",
    "    return np.sum(acc_result==6)/len(y_test.T)"
   ]
  },
  {
   "cell_type": "code",
   "execution_count": 10,
   "metadata": {},
   "outputs": [],
   "source": [
    "# read number of digits to one-hot code of shape(,6)\n",
    "def digit_to_categorical_label(data):\n",
    "    n = data.shape[0]   \n",
    "    data_cat = np.empty([n, 6])\n",
    "    for i in range(n):\n",
    "        data_cat[i] = to_categorical(data[i], num_classes=6)        \n",
    "    return data_cat"
   ]
  },
  {
   "cell_type": "code",
   "execution_count": 11,
   "metadata": {},
   "outputs": [],
   "source": [
    "# read every digits to one-hot code of shape(,11)\n",
    "def digit_to_categorical(data):\n",
    "    n = data.shape[1]\n",
    "    data_cat = np.empty([len(data), n, 11])    \n",
    "    for i in range(n):\n",
    "        data_cat[:, i] = to_categorical(data[:, i], num_classes=11)        \n",
    "    return data_cat\n"
   ]
  },
  {
   "cell_type": "code",
   "execution_count": 12,
   "metadata": {},
   "outputs": [
    {
     "name": "stdout",
     "output_type": "stream",
     "text": [
      "(33402, 6)\n",
      "(5, 33402, 11)\n",
      "(13068, 6)\n",
      "(5, 13068, 11)\n"
     ]
    }
   ],
   "source": [
    "# convert all train and test labels to one-hot code\n",
    "y_train_num = digit_to_categorical_label(y_train[0])\n",
    "y_train_digits = digit_to_categorical(y_train[1:])\n",
    "y_test_num = digit_to_categorical_label(y_test[0])\n",
    "y_test_digits = digit_to_categorical(y_test[1:])\n",
    "# \n",
    "print(y_train_num.shape)\n",
    "print(y_train_digits.shape)\n",
    "print(y_test_num.shape)\n",
    "print(y_test_digits.shape)"
   ]
  },
  {
   "cell_type": "code",
   "execution_count": 13,
   "metadata": {},
   "outputs": [],
   "source": [
    "# function for get results of model for plotting\n",
    "def get_array(his_name,i):\n",
    "    val_loss = np.asarray(his_name.history['val_loss'])\n",
    "    val_acc1 = np.asarray(his_name.history[f'val_dense_{i}_accuracy'])\n",
    "    val_acc2 = np.asarray(his_name.history[f'val_dense_{i+1}_accuracy'])\n",
    "    val_acc3 = np.asarray(his_name.history[f'val_dense_{i+2}_accuracy'])\n",
    "    val_acc4 = np.asarray(his_name.history[f'val_dense_{i+3}_accuracy'])\n",
    "    val_acc5 = np.asarray(his_name.history[f'val_dense_{i+4}_accuracy'])\n",
    "    val_acc6 = np.asarray(his_name.history[f'val_dense_{i+5}_accuracy'])\n",
    "    val_acc = val_acc1*val_acc2*val_acc3*val_acc4*val_acc5*val_acc6\n",
    "    train_loss = np.asarray(his_name.history['loss'])\n",
    "    train_acc1 = np.asarray(his_name.history[f'dense_{i}_accuracy'])\n",
    "    train_acc2 = np.asarray(his_name.history[f'dense_{i+1}_accuracy'])\n",
    "    train_acc3 = np.asarray(his_name.history[f'dense_{i+2}_accuracy'])\n",
    "    train_acc4 = np.asarray(his_name.history[f'dense_{i+3}_accuracy'])\n",
    "    train_acc5 = np.asarray(his_name.history[f'dense_{i+4}_accuracy'])\n",
    "    train_acc6 = np.asarray(his_name.history[f'dense_{i+5}_accuracy'])\n",
    "    train_acc =  train_acc1*train_acc2*train_acc3*train_acc4*train_acc5*train_acc6\n",
    "    return val_loss,val_acc,train_loss,train_acc"
   ]
  },
  {
   "cell_type": "markdown",
   "metadata": {},
   "source": [
    "# 1. Model with Different Optimizers"
   ]
  },
  {
   "cell_type": "code",
   "execution_count": 15,
   "metadata": {},
   "outputs": [],
   "source": [
    "# base model with 8 hidden layers\n",
    "def build_model():\n",
    "    identifier = Sequential()\n",
    "    Input_1 = Input(shape=(64,64,3))\n",
    "    conv_model = BatchNormalization()(Input_1)\n",
    "    conv_model = Convolution2D(48, (5, 5), activation='relu',padding=\"same\")(conv_model)\n",
    "    conv_model = MaxPooling2D(pool_size=(2, 2), strides=(2,2))(conv_model)\n",
    "\n",
    "    conv_model = BatchNormalization()(conv_model)\n",
    "    conv_model = Convolution2D(54, (5, 5), activation='relu',padding=\"same\")(conv_model)\n",
    "    conv_model = MaxPooling2D(pool_size=(2, 2), strides=(1,1))(conv_model)\n",
    "\n",
    "    conv_model = BatchNormalization()(conv_model)\n",
    "    conv_model = Convolution2D(128, (5, 5), activation='relu',padding=\"same\")(conv_model)\n",
    "    conv_model = MaxPooling2D(pool_size=(2, 2), strides=(2,2))(conv_model)\n",
    "    conv_model = Dropout(0.1)(conv_model)\n",
    "\n",
    "    conv_model = BatchNormalization()(conv_model)\n",
    "    conv_model = Convolution2D(160, (5, 5), activation='relu',padding=\"same\")(conv_model)\n",
    "    conv_model = MaxPooling2D(pool_size=(2, 2), strides=(1,1))(conv_model)\n",
    "\n",
    "    conv_model = BatchNormalization()(conv_model)\n",
    "    conv_model = Convolution2D(192, (5, 5), activation='relu',padding=\"same\")(conv_model)\n",
    "    conv_model = MaxPooling2D(pool_size=(2, 2), strides=(2,2))(conv_model)\n",
    "\n",
    "    conv_model = BatchNormalization()(conv_model)\n",
    "    conv_model = Convolution2D(192, (5, 5), activation='relu',padding=\"same\")(conv_model)\n",
    "    conv_model = MaxPooling2D(pool_size=(2, 2), strides=(1,1))(conv_model)\n",
    "\n",
    "    conv_model = BatchNormalization()(conv_model)\n",
    "    conv_model = Convolution2D(192, (5, 5), activation='relu',padding=\"same\")(conv_model)\n",
    "    conv_model = MaxPooling2D(pool_size=(2, 2), strides=(2,2))(conv_model)\n",
    "\n",
    "    conv_model = BatchNormalization()(conv_model)\n",
    "    conv_model = Convolution2D(192, (5, 5), activation='relu',padding=\"same\")(conv_model)\n",
    "    conv_model = MaxPooling2D(pool_size=(2, 2), strides=(1,1))(conv_model)\n",
    "\n",
    "    conv_model = Flatten()(conv_model)\n",
    "    conv_model = Dense(1024,activation = 'relu')(conv_model)\n",
    "    conv_model = Dense(512,activation = 'relu')(conv_model)\n",
    "\n",
    "    x1 = Dense(6, activation = 'softmax')(conv_model)\n",
    "    x2 = Dense(11, activation = 'softmax')(conv_model)\n",
    "    x3 = Dense(11, activation = 'softmax')(conv_model)\n",
    "    x4 = Dense(11, activation = 'softmax')(conv_model)\n",
    "    x5 = Dense(11, activation = 'softmax')(conv_model)\n",
    "    x6 = Dense(11, activation = 'softmax')(conv_model)\n",
    "\n",
    "    y = [x1,x2,x3,x4,x5,x6]\n",
    "\n",
    "    identifier = Model(inputs = Input_1, outputs = y)\n",
    "    return identifier"
   ]
  },
  {
   "cell_type": "markdown",
   "metadata": {},
   "source": [
    "## 1.1 SGD-8Layers-0Dropout"
   ]
  },
  {
   "cell_type": "code",
   "execution_count": 102,
   "metadata": {},
   "outputs": [
    {
     "name": "stdout",
     "output_type": "stream",
     "text": [
      "Train on 26721 samples, validate on 6681 samples\n",
      "Epoch 1/20\n",
      "26721/26721 [==============================] - 47s 2ms/step - loss: 13.3166 - dense_51_loss: 1.5827 - dense_52_loss: 2.5299 - dense_53_loss: 2.4776 - dense_54_loss: 2.2994 - dense_55_loss: 2.1587 - dense_56_loss: 2.2626 - dense_51_accuracy: 0.3603 - dense_52_accuracy: 0.0885 - dense_53_accuracy: 0.0789 - dense_54_accuracy: 0.1232 - dense_55_accuracy: 0.1875 - dense_56_accuracy: 0.0757 - val_loss: 13.1411 - val_dense_51_loss: 1.6722 - val_dense_52_loss: 2.3892 - val_dense_53_loss: 2.4080 - val_dense_54_loss: 2.2389 - val_dense_55_loss: 2.2120 - val_dense_56_loss: 2.2188 - val_dense_51_accuracy: 0.5462 - val_dense_52_accuracy: 0.0913 - val_dense_53_accuracy: 0.0865 - val_dense_54_accuracy: 0.5335 - val_dense_55_accuracy: 0.6515 - val_dense_56_accuracy: 0.0000e+00\n",
      "Epoch 2/20\n",
      "26721/26721 [==============================] - 44s 2ms/step - loss: 11.4669 - dense_51_loss: 1.4329 - dense_52_loss: 2.4667 - dense_53_loss: 2.4721 - dense_54_loss: 1.9552 - dense_55_loss: 1.5830 - dense_56_loss: 1.5514 - dense_51_accuracy: 0.4979 - dense_52_accuracy: 0.1134 - dense_53_accuracy: 0.0807 - dense_54_accuracy: 0.4846 - dense_55_accuracy: 0.8297 - dense_56_accuracy: 0.7685 - val_loss: 11.7488 - val_dense_51_loss: 1.5477 - val_dense_52_loss: 2.3892 - val_dense_53_loss: 2.4244 - val_dense_54_loss: 1.9541 - val_dense_55_loss: 1.7481 - val_dense_56_loss: 1.6774 - val_dense_51_accuracy: 0.5418 - val_dense_52_accuracy: 0.1440 - val_dense_53_accuracy: 0.0817 - val_dense_54_accuracy: 0.6956 - val_dense_55_accuracy: 0.9542 - val_dense_56_accuracy: 0.9975\n",
      "Epoch 3/20\n",
      "26721/26721 [==============================] - 44s 2ms/step - loss: 9.9332 - dense_51_loss: 1.3206 - dense_52_loss: 2.4110 - dense_53_loss: 2.4705 - dense_54_loss: 1.6697 - dense_55_loss: 1.0937 - dense_56_loss: 0.9621 - dense_51_accuracy: 0.5363 - dense_52_accuracy: 0.1365 - dense_53_accuracy: 0.0793 - dense_54_accuracy: 0.6823 - dense_55_accuracy: 0.9564 - dense_56_accuracy: 0.9986 - val_loss: 9.9979 - val_dense_51_loss: 1.3889 - val_dense_52_loss: 2.3766 - val_dense_53_loss: 2.4410 - val_dense_54_loss: 1.6149 - val_dense_55_loss: 1.1624 - val_dense_56_loss: 1.0002 - val_dense_51_accuracy: 0.5478 - val_dense_52_accuracy: 0.1658 - val_dense_53_accuracy: 0.0808 - val_dense_54_accuracy: 0.6959 - val_dense_55_accuracy: 0.9542 - val_dense_56_accuracy: 0.9997\n",
      "Epoch 4/20\n",
      "26721/26721 [==============================] - 44s 2ms/step - loss: 8.7752 - dense_51_loss: 1.2359 - dense_52_loss: 2.3452 - dense_53_loss: 2.4675 - dense_54_loss: 1.4692 - dense_55_loss: 0.7193 - dense_56_loss: 0.5366 - dense_51_accuracy: 0.5487 - dense_52_accuracy: 0.1559 - dense_53_accuracy: 0.0805 - dense_54_accuracy: 0.6964 - dense_55_accuracy: 0.9574 - dense_56_accuracy: 0.9997 - val_loss: 8.6339 - val_dense_51_loss: 1.2527 - val_dense_52_loss: 2.3258 - val_dense_53_loss: 2.4432 - val_dense_54_loss: 1.3790 - val_dense_55_loss: 0.7018 - val_dense_56_loss: 0.5152 - val_dense_51_accuracy: 0.5502 - val_dense_52_accuracy: 0.1679 - val_dense_53_accuracy: 0.0765 - val_dense_54_accuracy: 0.6959 - val_dense_55_accuracy: 0.9542 - val_dense_56_accuracy: 0.9997\n",
      "Epoch 5/20\n",
      "26721/26721 [==============================] - 44s 2ms/step - loss: 8.0382 - dense_51_loss: 1.1777 - dense_52_loss: 2.2696 - dense_53_loss: 2.4524 - dense_54_loss: 1.3542 - dense_55_loss: 0.4891 - dense_56_loss: 0.2932 - dense_51_accuracy: 0.5525 - dense_52_accuracy: 0.1737 - dense_53_accuracy: 0.0860 - dense_54_accuracy: 0.6967 - dense_55_accuracy: 0.9574 - dense_56_accuracy: 0.9997 - val_loss: 7.8969 - val_dense_51_loss: 1.1703 - val_dense_52_loss: 2.2530 - val_dense_53_loss: 2.4258 - val_dense_54_loss: 1.2942 - val_dense_55_loss: 0.4578 - val_dense_56_loss: 0.2758 - val_dense_51_accuracy: 0.5562 - val_dense_52_accuracy: 0.1708 - val_dense_53_accuracy: 0.0825 - val_dense_54_accuracy: 0.6959 - val_dense_55_accuracy: 0.9542 - val_dense_56_accuracy: 0.9997\n",
      "Epoch 6/20\n",
      "26721/26721 [==============================] - 44s 2ms/step - loss: 7.6155 - dense_51_loss: 1.1399 - dense_52_loss: 2.1972 - dense_53_loss: 2.4296 - dense_54_loss: 1.3010 - dense_55_loss: 0.3729 - dense_56_loss: 0.1745 - dense_51_accuracy: 0.5570 - dense_52_accuracy: 0.1862 - dense_53_accuracy: 0.0957 - dense_54_accuracy: 0.6968 - dense_55_accuracy: 0.9574 - dense_56_accuracy: 0.9997 - val_loss: 7.5351 - val_dense_51_loss: 1.1243 - val_dense_52_loss: 2.1889 - val_dense_53_loss: 2.4048 - val_dense_54_loss: 1.2698 - val_dense_55_loss: 0.3555 - val_dense_56_loss: 0.1705 - val_dense_51_accuracy: 0.5620 - val_dense_52_accuracy: 0.1878 - val_dense_53_accuracy: 0.0967 - val_dense_54_accuracy: 0.6959 - val_dense_55_accuracy: 0.9542 - val_dense_56_accuracy: 0.9997\n",
      "Epoch 7/20\n",
      "26721/26721 [==============================] - 44s 2ms/step - loss: 7.3630 - dense_51_loss: 1.1071 - dense_52_loss: 2.1389 - dense_53_loss: 2.4028 - dense_54_loss: 1.2785 - dense_55_loss: 0.3176 - dense_56_loss: 0.1164 - dense_51_accuracy: 0.5602 - dense_52_accuracy: 0.2153 - dense_53_accuracy: 0.1159 - dense_54_accuracy: 0.6968 - dense_55_accuracy: 0.9574 - dense_56_accuracy: 0.9997 - val_loss: 7.3316 - val_dense_51_loss: 1.0938 - val_dense_52_loss: 2.1455 - val_dense_53_loss: 2.3856 - val_dense_54_loss: 1.2582 - val_dense_55_loss: 0.3093 - val_dense_56_loss: 0.1185 - val_dense_51_accuracy: 0.5680 - val_dense_52_accuracy: 0.2155 - val_dense_53_accuracy: 0.1347 - val_dense_54_accuracy: 0.6959 - val_dense_55_accuracy: 0.9542 - val_dense_56_accuracy: 0.9997\n",
      "Epoch 8/20\n",
      "26721/26721 [==============================] - 44s 2ms/step - loss: 7.2004 - dense_51_loss: 1.0813 - dense_52_loss: 2.1038 - dense_53_loss: 2.3805 - dense_54_loss: 1.2603 - dense_55_loss: 0.2870 - dense_56_loss: 0.0848 - dense_51_accuracy: 0.5644 - dense_52_accuracy: 0.2449 - dense_53_accuracy: 0.1457 - dense_54_accuracy: 0.6968 - dense_55_accuracy: 0.9574 - dense_56_accuracy: 0.9997 - val_loss: 7.2037 - val_dense_51_loss: 1.0721 - val_dense_52_loss: 2.1190 - val_dense_53_loss: 2.3697 - val_dense_54_loss: 1.2475 - val_dense_55_loss: 0.2853 - val_dense_56_loss: 0.0900 - val_dense_51_accuracy: 0.5725 - val_dense_52_accuracy: 0.2458 - val_dense_53_accuracy: 0.1621 - val_dense_54_accuracy: 0.6959 - val_dense_55_accuracy: 0.9542 - val_dense_56_accuracy: 0.9997\n",
      "Epoch 9/20\n",
      "26721/26721 [==============================] - 44s 2ms/step - loss: 7.0844 - dense_51_loss: 1.0583 - dense_52_loss: 2.0818 - dense_53_loss: 2.3598 - dense_54_loss: 1.2466 - dense_55_loss: 0.2708 - dense_56_loss: 0.0655 - dense_51_accuracy: 0.5675 - dense_52_accuracy: 0.2632 - dense_53_accuracy: 0.1683 - dense_54_accuracy: 0.6968 - dense_55_accuracy: 0.9574 - dense_56_accuracy: 0.9997 - val_loss: 7.1151 - val_dense_51_loss: 1.0540 - val_dense_52_loss: 2.1041 - val_dense_53_loss: 2.3586 - val_dense_54_loss: 1.2370 - val_dense_55_loss: 0.2706 - val_dense_56_loss: 0.0722 - val_dense_51_accuracy: 0.5760 - val_dense_52_accuracy: 0.2510 - val_dense_53_accuracy: 0.1684 - val_dense_54_accuracy: 0.6959 - val_dense_55_accuracy: 0.9542 - val_dense_56_accuracy: 0.9997\n",
      "Epoch 10/20\n",
      "26721/26721 [==============================] - 44s 2ms/step - loss: 6.9988 - dense_51_loss: 1.0370 - dense_52_loss: 2.0673 - dense_53_loss: 2.3455 - dense_54_loss: 1.2349 - dense_55_loss: 0.2607 - dense_56_loss: 0.0527 - dense_51_accuracy: 0.5733 - dense_52_accuracy: 0.2706 - dense_53_accuracy: 0.1802 - dense_54_accuracy: 0.6968 - dense_55_accuracy: 0.9574 - dense_56_accuracy: 0.9997 - val_loss: 7.0466 - val_dense_51_loss: 1.0375 - val_dense_52_loss: 2.0929 - val_dense_53_loss: 2.3500 - val_dense_54_loss: 1.2274 - val_dense_55_loss: 0.2610 - val_dense_56_loss: 0.0600 - val_dense_51_accuracy: 0.5799 - val_dense_52_accuracy: 0.2576 - val_dense_53_accuracy: 0.1730 - val_dense_54_accuracy: 0.6959 - val_dense_55_accuracy: 0.9542 - val_dense_56_accuracy: 0.9997\n",
      "Epoch 11/20\n",
      "26721/26721 [==============================] - 44s 2ms/step - loss: 6.9324 - dense_51_loss: 1.0210 - dense_52_loss: 2.0586 - dense_53_loss: 2.3335 - dense_54_loss: 1.2225 - dense_55_loss: 0.2530 - dense_56_loss: 0.0438 - dense_51_accuracy: 0.5746 - dense_52_accuracy: 0.2718 - dense_53_accuracy: 0.1852 - dense_54_accuracy: 0.6968 - dense_55_accuracy: 0.9574 - dense_56_accuracy: 0.9997 - val_loss: 6.9934 - val_dense_51_loss: 1.0236 - val_dense_52_loss: 2.0854 - val_dense_53_loss: 2.3441 - val_dense_54_loss: 1.2181 - val_dense_55_loss: 0.2538 - val_dense_56_loss: 0.0515 - val_dense_51_accuracy: 0.5857 - val_dense_52_accuracy: 0.2585 - val_dense_53_accuracy: 0.1732 - val_dense_54_accuracy: 0.6959 - val_dense_55_accuracy: 0.9542 - val_dense_56_accuracy: 0.9997\n",
      "Epoch 12/20\n",
      "26721/26721 [==============================] - 44s 2ms/step - loss: 6.8728 - dense_51_loss: 1.0029 - dense_52_loss: 2.0508 - dense_53_loss: 2.3231 - dense_54_loss: 1.2115 - dense_55_loss: 0.2470 - dense_56_loss: 0.0373 - dense_51_accuracy: 0.5812 - dense_52_accuracy: 0.2757 - dense_53_accuracy: 0.1900 - dense_54_accuracy: 0.6968 - dense_55_accuracy: 0.9574 - dense_56_accuracy: 0.9997 - val_loss: 6.9444 - val_dense_51_loss: 1.0103 - val_dense_52_loss: 2.0781 - val_dense_53_loss: 2.3378 - val_dense_54_loss: 1.2080 - val_dense_55_loss: 0.2483 - val_dense_56_loss: 0.0448 - val_dense_51_accuracy: 0.5891 - val_dense_52_accuracy: 0.2637 - val_dense_53_accuracy: 0.1756 - val_dense_54_accuracy: 0.6960 - val_dense_55_accuracy: 0.9542 - val_dense_56_accuracy: 0.9997\n",
      "Epoch 13/20\n",
      "26721/26721 [==============================] - 44s 2ms/step - loss: 6.8250 - dense_51_loss: 0.9876 - dense_52_loss: 2.0444 - dense_53_loss: 2.3180 - dense_54_loss: 1.2006 - dense_55_loss: 0.2429 - dense_56_loss: 0.0326 - dense_51_accuracy: 0.5846 - dense_52_accuracy: 0.2769 - dense_53_accuracy: 0.1897 - dense_54_accuracy: 0.6968 - dense_55_accuracy: 0.9574 - dense_56_accuracy: 0.9997 - val_loss: 6.8985 - val_dense_51_loss: 0.9959 - val_dense_52_loss: 2.0720 - val_dense_53_loss: 2.3321 - val_dense_54_loss: 1.1984 - val_dense_55_loss: 0.2432 - val_dense_56_loss: 0.0397 - val_dense_51_accuracy: 0.5945 - val_dense_52_accuracy: 0.2672 - val_dense_53_accuracy: 0.1760 - val_dense_54_accuracy: 0.6962 - val_dense_55_accuracy: 0.9542 - val_dense_56_accuracy: 0.9997\n",
      "Epoch 14/20\n",
      "26721/26721 [==============================] - 44s 2ms/step - loss: 6.7755 - dense_51_loss: 0.9710 - dense_52_loss: 2.0396 - dense_53_loss: 2.3082 - dense_54_loss: 1.1893 - dense_55_loss: 0.2392 - dense_56_loss: 0.0290 - dense_51_accuracy: 0.5907 - dense_52_accuracy: 0.2778 - dense_53_accuracy: 0.1961 - dense_54_accuracy: 0.6968 - dense_55_accuracy: 0.9574 - dense_56_accuracy: 0.9997 - val_loss: 6.8613 - val_dense_51_loss: 0.9842 - val_dense_52_loss: 2.0677 - val_dense_53_loss: 2.3280 - val_dense_54_loss: 1.1892 - val_dense_55_loss: 0.2393 - val_dense_56_loss: 0.0358 - val_dense_51_accuracy: 0.6007 - val_dense_52_accuracy: 0.2708 - val_dense_53_accuracy: 0.1780 - val_dense_54_accuracy: 0.6962 - val_dense_55_accuracy: 0.9542 - val_dense_56_accuracy: 0.9997\n",
      "Epoch 15/20\n",
      "26721/26721 [==============================] - 44s 2ms/step - loss: 6.7284 - dense_51_loss: 0.9548 - dense_52_loss: 2.0323 - dense_53_loss: 2.3000 - dense_54_loss: 1.1791 - dense_55_loss: 0.2351 - dense_56_loss: 0.0260 - dense_51_accuracy: 0.5980 - dense_52_accuracy: 0.2786 - dense_53_accuracy: 0.1987 - dense_54_accuracy: 0.6967 - dense_55_accuracy: 0.9574 - dense_56_accuracy: 0.9997 - val_loss: 6.8181 - val_dense_51_loss: 0.9697 - val_dense_52_loss: 2.0628 - val_dense_53_loss: 2.3217 - val_dense_54_loss: 1.1782 - val_dense_55_loss: 0.2359 - val_dense_56_loss: 0.0329 - val_dense_51_accuracy: 0.6046 - val_dense_52_accuracy: 0.2712 - val_dense_53_accuracy: 0.1799 - val_dense_54_accuracy: 0.6963 - val_dense_55_accuracy: 0.9542 - val_dense_56_accuracy: 0.9997\n",
      "Epoch 16/20\n",
      "26721/26721 [==============================] - 44s 2ms/step - loss: 6.6834 - dense_51_loss: 0.9391 - dense_52_loss: 2.0268 - dense_53_loss: 2.2926 - dense_54_loss: 1.1674 - dense_55_loss: 0.2314 - dense_56_loss: 0.0237 - dense_51_accuracy: 0.6034 - dense_52_accuracy: 0.2791 - dense_53_accuracy: 0.2006 - dense_54_accuracy: 0.6970 - dense_55_accuracy: 0.9574 - dense_56_accuracy: 0.9997 - val_loss: 6.7818 - val_dense_51_loss: 0.9581 - val_dense_52_loss: 2.0579 - val_dense_53_loss: 2.3170 - val_dense_54_loss: 1.1688 - val_dense_55_loss: 0.2332 - val_dense_56_loss: 0.0301 - val_dense_51_accuracy: 0.6065 - val_dense_52_accuracy: 0.2711 - val_dense_53_accuracy: 0.1823 - val_dense_54_accuracy: 0.6963 - val_dense_55_accuracy: 0.9542 - val_dense_56_accuracy: 0.9997\n",
      "Epoch 17/20\n",
      "26721/26721 [==============================] - 44s 2ms/step - loss: 6.6426 - dense_51_loss: 0.9248 - dense_52_loss: 2.0237 - dense_53_loss: 2.2837 - dense_54_loss: 1.1579 - dense_55_loss: 0.2294 - dense_56_loss: 0.0217 - dense_51_accuracy: 0.6135 - dense_52_accuracy: 0.2802 - dense_53_accuracy: 0.2026 - dense_54_accuracy: 0.6970 - dense_55_accuracy: 0.9574 - dense_56_accuracy: 0.9997 - val_loss: 6.7393 - val_dense_51_loss: 0.9438 - val_dense_52_loss: 2.0526 - val_dense_53_loss: 2.3095 - val_dense_54_loss: 1.1584 - val_dense_55_loss: 0.2301 - val_dense_56_loss: 0.0283 - val_dense_51_accuracy: 0.6152 - val_dense_52_accuracy: 0.2715 - val_dense_53_accuracy: 0.1878 - val_dense_54_accuracy: 0.6963 - val_dense_55_accuracy: 0.9542 - val_dense_56_accuracy: 0.9997\n",
      "Epoch 18/20\n",
      "26721/26721 [==============================] - 44s 2ms/step - loss: 6.6026 - dense_51_loss: 0.9112 - dense_52_loss: 2.0184 - dense_53_loss: 2.2768 - dense_54_loss: 1.1498 - dense_55_loss: 0.2270 - dense_56_loss: 0.0202 - dense_51_accuracy: 0.6171 - dense_52_accuracy: 0.2813 - dense_53_accuracy: 0.2063 - dense_54_accuracy: 0.6970 - dense_55_accuracy: 0.9574 - dense_56_accuracy: 0.9997 - val_loss: 6.7023 - val_dense_51_loss: 0.9308 - val_dense_52_loss: 2.0489 - val_dense_53_loss: 2.3037 - val_dense_54_loss: 1.1491 - val_dense_55_loss: 0.2280 - val_dense_56_loss: 0.0260 - val_dense_51_accuracy: 0.6167 - val_dense_52_accuracy: 0.2732 - val_dense_53_accuracy: 0.1907 - val_dense_54_accuracy: 0.6968 - val_dense_55_accuracy: 0.9542 - val_dense_56_accuracy: 0.9997\n",
      "Epoch 19/20\n",
      "26721/26721 [==============================] - 44s 2ms/step - loss: 6.5665 - dense_51_loss: 0.8965 - dense_52_loss: 2.0155 - dense_53_loss: 2.2710 - dense_54_loss: 1.1404 - dense_55_loss: 0.2248 - dense_56_loss: 0.0187 - dense_51_accuracy: 0.6228 - dense_52_accuracy: 0.2820 - dense_53_accuracy: 0.2081 - dense_54_accuracy: 0.6969 - dense_55_accuracy: 0.9574 - dense_56_accuracy: 0.9997 - val_loss: 6.6635 - val_dense_51_loss: 0.9168 - val_dense_52_loss: 2.0440 - val_dense_53_loss: 2.2969 - val_dense_54_loss: 1.1398 - val_dense_55_loss: 0.2254 - val_dense_56_loss: 0.0247 - val_dense_51_accuracy: 0.6228 - val_dense_52_accuracy: 0.2732 - val_dense_53_accuracy: 0.1907 - val_dense_54_accuracy: 0.6969 - val_dense_55_accuracy: 0.9542 - val_dense_56_accuracy: 0.9997\n",
      "Epoch 20/20\n",
      "26721/26721 [==============================] - 44s 2ms/step - loss: 6.5288 - dense_51_loss: 0.8816 - dense_52_loss: 2.0118 - dense_53_loss: 2.2640 - dense_54_loss: 1.1291 - dense_55_loss: 0.2227 - dense_56_loss: 0.0173 - dense_51_accuracy: 0.6299 - dense_52_accuracy: 0.2828 - dense_53_accuracy: 0.2115 - dense_54_accuracy: 0.6973 - dense_55_accuracy: 0.9574 - dense_56_accuracy: 0.9997 - val_loss: 6.6286 - val_dense_51_loss: 0.9047 - val_dense_52_loss: 2.0407 - val_dense_53_loss: 2.2911 - val_dense_54_loss: 1.1299 - val_dense_55_loss: 0.2232 - val_dense_56_loss: 0.0231 - val_dense_51_accuracy: 0.6270 - val_dense_52_accuracy: 0.2723 - val_dense_53_accuracy: 0.1938 - val_dense_54_accuracy: 0.6975 - val_dense_55_accuracy: 0.9542 - val_dense_56_accuracy: 0.9997\n"
     ]
    }
   ],
   "source": [
    "# model with different optimizers\n",
    "# 1.1 with optimizer stochastic gradient descent optimizer\n",
    "model1_1= build_model()\n",
    "sgd = optimizers.SGD(lr=0.001, clipnorm=1.)\n",
    "model1_1.compile(optimizer = sgd, loss = \"categorical_crossentropy\",metrics = [\"accuracy\"])\n",
    "history1_1 = model1_1.fit(x=x_train,\n",
    "               y=[y_train_num,y_train_digits[0],y_train_digits[1],y_train_digits[2],y_train_digits[3],y_train_digits[4]],\n",
    "                batch_size=256, epochs=20,verbose=1,validation_split=0.2,shuffle=True)"
   ]
  },
  {
   "cell_type": "code",
   "execution_count": 103,
   "metadata": {},
   "outputs": [
    {
     "name": "stdout",
     "output_type": "stream",
     "text": [
      "['loss', 'dense_51_loss', 'dense_52_loss', 'dense_53_loss', 'dense_54_loss', 'dense_55_loss', 'dense_56_loss', 'dense_51_accuracy', 'dense_52_accuracy', 'dense_53_accuracy', 'dense_54_accuracy', 'dense_55_accuracy', 'dense_56_accuracy']\n"
     ]
    }
   ],
   "source": [
    "print(model1_1.metrics_names)"
   ]
  },
  {
   "cell_type": "code",
   "execution_count": 104,
   "metadata": {},
   "outputs": [
    {
     "name": "stdout",
     "output_type": "stream",
     "text": [
      "0.011401897765534129\n"
     ]
    }
   ],
   "source": [
    "test1_1 = test_acc(model1_1)\n",
    "print(test1_1)\n",
    "val_loss1_1,val_acc1_1,train_loss1_1,train_acc1_1 = get_array(history1_1,51)\n",
    "val_acc1_1 = np.insert(val_acc1_1,0,0)\n",
    "train_acc1_1 = np.insert(train_acc1_1,0,0)"
   ]
  },
  {
   "cell_type": "code",
   "execution_count": 105,
   "metadata": {},
   "outputs": [
    {
     "data": {
      "image/png": "[encoded data removed]",
      "text/plain": [
       "<Figure size 432x288 with 1 Axes>"
      ]
     },
     "metadata": {
      "needs_background": "light"
     },
     "output_type": "display_data"
    }
   ],
   "source": [
    "# plt.plot(val_loss1_2)\n",
    "%matplotlib inline\n",
    "# plt.plot(plt.plot(val_acc1_2))\n",
    "plt.plot(train_acc1_1)\n",
    "plt.plot(val_acc1_1)\n",
    "plt.plot(20,test1_1,'o')\n",
    "plt.title('Model Accurracy: SGD-8Layers-0Dropout')\n",
    "plt.ylabel('Accuracy')\n",
    "plt.xlabel('Epoch')\n",
    "plt.legend(['Train','Validatiaon','Test'], loc='upper left')\n",
    "plt.grid()\n",
    "plt.show()"
   ]
  },
  {
   "cell_type": "markdown",
   "metadata": {},
   "source": [
    "## 1.2 RMSProp-8Layer-0Dropout"
   ]
  },
  {
   "cell_type": "code",
   "execution_count": 41,
   "metadata": {},
   "outputs": [
    {
     "name": "stdout",
     "output_type": "stream",
     "text": [
      "Train on 26721 samples, validate on 6681 samples\n",
      "Epoch 1/20\n",
      "26721/26721 [==============================] - 64s 2ms/step - loss: 6.6567 - dense_27_loss: 0.8667 - dense_28_loss: 2.0470 - dense_29_loss: 2.2786 - dense_30_loss: 1.1816 - dense_31_loss: 0.2643 - dense_32_loss: 0.0166 - dense_27_accuracy: 0.6399 - dense_28_accuracy: 0.2702 - dense_29_accuracy: 0.2083 - dense_30_accuracy: 0.6977 - dense_31_accuracy: 0.9549 - dense_32_accuracy: 0.9973 - val_loss: 5.7719 - val_dense_27_loss: 0.6777 - val_dense_28_loss: 1.8139 - val_dense_29_loss: 2.0633 - val_dense_30_loss: 0.9477 - val_dense_31_loss: 0.2649 - val_dense_32_loss: 0.0038 - val_dense_27_accuracy: 0.7520 - val_dense_28_accuracy: 0.3312 - val_dense_29_accuracy: 0.3040 - val_dense_30_accuracy: 0.7165 - val_dense_31_accuracy: 0.9542 - val_dense_32_accuracy: 0.9997\n",
      "Epoch 2/20\n",
      "26721/26721 [==============================] - 60s 2ms/step - loss: 3.8918 - dense_27_loss: 0.3780 - dense_28_loss: 1.1488 - dense_29_loss: 1.4070 - dense_30_loss: 0.7842 - dense_31_loss: 0.1673 - dense_32_loss: 0.0045 - dense_27_accuracy: 0.8547 - dense_28_accuracy: 0.6040 - dense_29_accuracy: 0.5089 - dense_30_accuracy: 0.7484 - dense_31_accuracy: 0.9579 - dense_32_accuracy: 0.9997 - val_loss: 3.0015 - val_dense_27_loss: 0.2375 - val_dense_28_loss: 0.9265 - val_dense_29_loss: 1.0590 - val_dense_30_loss: 0.6277 - val_dense_31_loss: 0.1446 - val_dense_32_loss: 0.0048 - val_dense_27_accuracy: 0.9193 - val_dense_28_accuracy: 0.7126 - val_dense_29_accuracy: 0.6468 - val_dense_30_accuracy: 0.7973 - val_dense_31_accuracy: 0.9588 - val_dense_32_accuracy: 0.9997\n",
      "Epoch 3/20\n",
      "26721/26721 [==============================] - 60s 2ms/step - loss: 2.2741 - dense_27_loss: 0.2288 - dense_28_loss: 0.5969 - dense_29_loss: 0.7959 - dense_30_loss: 0.5113 - dense_31_loss: 0.1358 - dense_32_loss: 0.0048 - dense_27_accuracy: 0.9186 - dense_28_accuracy: 0.8125 - dense_29_accuracy: 0.7392 - dense_30_accuracy: 0.8344 - dense_31_accuracy: 0.9610 - dense_32_accuracy: 0.9997 - val_loss: 2.0030 - val_dense_27_loss: 0.1950 - val_dense_28_loss: 0.5385 - val_dense_29_loss: 0.6723 - val_dense_30_loss: 0.4614 - val_dense_31_loss: 0.1301 - val_dense_32_loss: 0.0048 - val_dense_27_accuracy: 0.9317 - val_dense_28_accuracy: 0.8363 - val_dense_29_accuracy: 0.7899 - val_dense_30_accuracy: 0.8551 - val_dense_31_accuracy: 0.9636 - val_dense_32_accuracy: 0.9997\n",
      "Epoch 4/20\n",
      "26721/26721 [==============================] - 60s 2ms/step - loss: 1.6650 - dense_27_loss: 0.1729 - dense_28_loss: 0.4260 - dense_29_loss: 0.5692 - dense_30_loss: 0.3757 - dense_31_loss: 0.1161 - dense_32_loss: 0.0048 - dense_27_accuracy: 0.9417 - dense_28_accuracy: 0.8699 - dense_29_accuracy: 0.8219 - dense_30_accuracy: 0.8844 - dense_31_accuracy: 0.9661 - dense_32_accuracy: 0.9997 - val_loss: 1.7165 - val_dense_27_loss: 0.1888 - val_dense_28_loss: 0.4614 - val_dense_29_loss: 0.5730 - val_dense_30_loss: 0.3667 - val_dense_31_loss: 0.1202 - val_dense_32_loss: 0.0048 - val_dense_27_accuracy: 0.9389 - val_dense_28_accuracy: 0.8683 - val_dense_29_accuracy: 0.8186 - val_dense_30_accuracy: 0.8912 - val_dense_31_accuracy: 0.9660 - val_dense_32_accuracy: 0.9997\n",
      "Epoch 5/20\n",
      "26721/26721 [==============================] - 60s 2ms/step - loss: 1.3444 - dense_27_loss: 0.1344 - dense_28_loss: 0.3473 - dense_29_loss: 0.4597 - dense_30_loss: 0.2985 - dense_31_loss: 0.0997 - dense_32_loss: 0.0048 - dense_27_accuracy: 0.9553 - dense_28_accuracy: 0.8951 - dense_29_accuracy: 0.8562 - dense_30_accuracy: 0.9087 - dense_31_accuracy: 0.9711 - dense_32_accuracy: 0.9997 - val_loss: 1.6602 - val_dense_27_loss: 0.1725 - val_dense_28_loss: 0.4289 - val_dense_29_loss: 0.4905 - val_dense_30_loss: 0.4119 - val_dense_31_loss: 0.1544 - val_dense_32_loss: 0.0048 - val_dense_27_accuracy: 0.9512 - val_dense_28_accuracy: 0.8797 - val_dense_29_accuracy: 0.8512 - val_dense_30_accuracy: 0.8816 - val_dense_31_accuracy: 0.9627 - val_dense_32_accuracy: 0.9997\n",
      "Epoch 6/20\n",
      "26721/26721 [==============================] - 60s 2ms/step - loss: 1.1345 - dense_27_loss: 0.1176 - dense_28_loss: 0.2952 - dense_29_loss: 0.3777 - dense_30_loss: 0.2506 - dense_31_loss: 0.0887 - dense_32_loss: 0.0048 - dense_27_accuracy: 0.9616 - dense_28_accuracy: 0.9095 - dense_29_accuracy: 0.8835 - dense_30_accuracy: 0.9237 - dense_31_accuracy: 0.9723 - dense_32_accuracy: 0.9997 - val_loss: 1.4787 - val_dense_27_loss: 0.1649 - val_dense_28_loss: 0.3977 - val_dense_29_loss: 0.4918 - val_dense_30_loss: 0.3133 - val_dense_31_loss: 0.1038 - val_dense_32_loss: 0.0048 - val_dense_27_accuracy: 0.9517 - val_dense_28_accuracy: 0.8840 - val_dense_29_accuracy: 0.8557 - val_dense_30_accuracy: 0.9127 - val_dense_31_accuracy: 0.9714 - val_dense_32_accuracy: 0.9997\n",
      "Epoch 7/20\n",
      "26721/26721 [==============================] - 60s 2ms/step - loss: 0.9937 - dense_27_loss: 0.1024 - dense_28_loss: 0.2534 - dense_29_loss: 0.3373 - dense_30_loss: 0.2202 - dense_31_loss: 0.0763 - dense_32_loss: 0.0048 - dense_27_accuracy: 0.9670 - dense_28_accuracy: 0.9249 - dense_29_accuracy: 0.8995 - dense_30_accuracy: 0.9329 - dense_31_accuracy: 0.9772 - dense_32_accuracy: 0.9997 - val_loss: 1.9284 - val_dense_27_loss: 0.2828 - val_dense_28_loss: 0.5320 - val_dense_29_loss: 0.5169 - val_dense_30_loss: 0.3836 - val_dense_31_loss: 0.2125 - val_dense_32_loss: 0.0048 - val_dense_27_accuracy: 0.9268 - val_dense_28_accuracy: 0.8583 - val_dense_29_accuracy: 0.8611 - val_dense_30_accuracy: 0.9081 - val_dense_31_accuracy: 0.9629 - val_dense_32_accuracy: 0.9997\n",
      "Epoch 8/20\n",
      "26721/26721 [==============================] - 60s 2ms/step - loss: 0.8646 - dense_27_loss: 0.0846 - dense_28_loss: 0.2286 - dense_29_loss: 0.2961 - dense_30_loss: 0.1830 - dense_31_loss: 0.0670 - dense_32_loss: 0.0048 - dense_27_accuracy: 0.9734 - dense_28_accuracy: 0.9324 - dense_29_accuracy: 0.9111 - dense_30_accuracy: 0.9442 - dense_31_accuracy: 0.9802 - dense_32_accuracy: 0.9997 - val_loss: 1.3092 - val_dense_27_loss: 0.1523 - val_dense_28_loss: 0.3290 - val_dense_29_loss: 0.4229 - val_dense_30_loss: 0.2939 - val_dense_31_loss: 0.1035 - val_dense_32_loss: 0.0048 - val_dense_27_accuracy: 0.9588 - val_dense_28_accuracy: 0.9059 - val_dense_29_accuracy: 0.8809 - val_dense_30_accuracy: 0.9244 - val_dense_31_accuracy: 0.9755 - val_dense_32_accuracy: 0.9997\n",
      "Epoch 9/20\n",
      "26721/26721 [==============================] - 60s 2ms/step - loss: 0.7768 - dense_27_loss: 0.0768 - dense_28_loss: 0.2127 - dense_29_loss: 0.2550 - dense_30_loss: 0.1663 - dense_31_loss: 0.0613 - dense_32_loss: 0.0048 - dense_27_accuracy: 0.9766 - dense_28_accuracy: 0.9387 - dense_29_accuracy: 0.9229 - dense_30_accuracy: 0.9491 - dense_31_accuracy: 0.9820 - dense_32_accuracy: 0.9997 - val_loss: 1.5522 - val_dense_27_loss: 0.1943 - val_dense_28_loss: 0.4121 - val_dense_29_loss: 0.4929 - val_dense_30_loss: 0.3292 - val_dense_31_loss: 0.1191 - val_dense_32_loss: 0.0048 - val_dense_27_accuracy: 0.9582 - val_dense_28_accuracy: 0.9014 - val_dense_29_accuracy: 0.8728 - val_dense_30_accuracy: 0.9237 - val_dense_31_accuracy: 0.9711 - val_dense_32_accuracy: 0.9997\n",
      "Epoch 10/20\n",
      "26721/26721 [==============================] - 60s 2ms/step - loss: 0.7008 - dense_27_loss: 0.0672 - dense_28_loss: 0.1863 - dense_29_loss: 0.2361 - dense_30_loss: 0.1523 - dense_31_loss: 0.0539 - dense_32_loss: 0.0048 - dense_27_accuracy: 0.9797 - dense_28_accuracy: 0.9466 - dense_29_accuracy: 0.9269 - dense_30_accuracy: 0.9530 - dense_31_accuracy: 0.9843 - dense_32_accuracy: 0.9997 - val_loss: 1.4441 - val_dense_27_loss: 0.1541 - val_dense_28_loss: 0.3893 - val_dense_29_loss: 0.4930 - val_dense_30_loss: 0.3039 - val_dense_31_loss: 0.0985 - val_dense_32_loss: 0.0048 - val_dense_27_accuracy: 0.9584 - val_dense_28_accuracy: 0.8978 - val_dense_29_accuracy: 0.8678 - val_dense_30_accuracy: 0.9192 - val_dense_31_accuracy: 0.9755 - val_dense_32_accuracy: 0.9997\n",
      "Epoch 11/20\n",
      "26721/26721 [==============================] - 60s 2ms/step - loss: 0.6347 - dense_27_loss: 0.0581 - dense_28_loss: 0.1711 - dense_29_loss: 0.2166 - dense_30_loss: 0.1367 - dense_31_loss: 0.0482 - dense_32_loss: 0.0048 - dense_27_accuracy: 0.9829 - dense_28_accuracy: 0.9514 - dense_29_accuracy: 0.9347 - dense_30_accuracy: 0.9589 - dense_31_accuracy: 0.9848 - dense_32_accuracy: 0.9997 - val_loss: 1.3606 - val_dense_27_loss: 0.1665 - val_dense_28_loss: 0.3442 - val_dense_29_loss: 0.4761 - val_dense_30_loss: 0.2722 - val_dense_31_loss: 0.0981 - val_dense_32_loss: 0.0048 - val_dense_27_accuracy: 0.9594 - val_dense_28_accuracy: 0.9157 - val_dense_29_accuracy: 0.8747 - val_dense_30_accuracy: 0.9289 - val_dense_31_accuracy: 0.9738 - val_dense_32_accuracy: 0.9997\n",
      "Epoch 12/20\n",
      "26721/26721 [==============================] - 60s 2ms/step - loss: 0.5734 - dense_27_loss: 0.0559 - dense_28_loss: 0.1569 - dense_29_loss: 0.1908 - dense_30_loss: 0.1195 - dense_31_loss: 0.0454 - dense_32_loss: 0.0048 - dense_27_accuracy: 0.9845 - dense_28_accuracy: 0.9544 - dense_29_accuracy: 0.9439 - dense_30_accuracy: 0.9641 - dense_31_accuracy: 0.9865 - dense_32_accuracy: 0.9997 - val_loss: 1.5818 - val_dense_27_loss: 0.2044 - val_dense_28_loss: 0.4115 - val_dense_29_loss: 0.4947 - val_dense_30_loss: 0.3708 - val_dense_31_loss: 0.0963 - val_dense_32_loss: 0.0048 - val_dense_27_accuracy: 0.9636 - val_dense_28_accuracy: 0.9112 - val_dense_29_accuracy: 0.8898 - val_dense_30_accuracy: 0.9249 - val_dense_31_accuracy: 0.9783 - val_dense_32_accuracy: 0.9997\n",
      "Epoch 13/20\n",
      "26721/26721 [==============================] - 60s 2ms/step - loss: 0.5551 - dense_27_loss: 0.0488 - dense_28_loss: 0.1552 - dense_29_loss: 0.1846 - dense_30_loss: 0.1216 - dense_31_loss: 0.0401 - dense_32_loss: 0.0048 - dense_27_accuracy: 0.9863 - dense_28_accuracy: 0.9561 - dense_29_accuracy: 0.9452 - dense_30_accuracy: 0.9652 - dense_31_accuracy: 0.9877 - dense_32_accuracy: 0.9997 - val_loss: 1.5492 - val_dense_27_loss: 0.2076 - val_dense_28_loss: 0.3997 - val_dense_29_loss: 0.5144 - val_dense_30_loss: 0.3353 - val_dense_31_loss: 0.0889 - val_dense_32_loss: 0.0048 - val_dense_27_accuracy: 0.9591 - val_dense_28_accuracy: 0.9159 - val_dense_29_accuracy: 0.8879 - val_dense_30_accuracy: 0.9280 - val_dense_31_accuracy: 0.9784 - val_dense_32_accuracy: 0.9997\n",
      "Epoch 14/20\n",
      "26721/26721 [==============================] - 60s 2ms/step - loss: 0.5228 - dense_27_loss: 0.0480 - dense_28_loss: 0.1439 - dense_29_loss: 0.1784 - dense_30_loss: 0.1098 - dense_31_loss: 0.0382 - dense_32_loss: 0.0048 - dense_27_accuracy: 0.9870 - dense_28_accuracy: 0.9601 - dense_29_accuracy: 0.9502 - dense_30_accuracy: 0.9685 - dense_31_accuracy: 0.9888 - dense_32_accuracy: 0.9997 - val_loss: 1.6158 - val_dense_27_loss: 0.2039 - val_dense_28_loss: 0.3771 - val_dense_29_loss: 0.5915 - val_dense_30_loss: 0.3523 - val_dense_31_loss: 0.0852 - val_dense_32_loss: 0.0048 - val_dense_27_accuracy: 0.9618 - val_dense_28_accuracy: 0.9138 - val_dense_29_accuracy: 0.8759 - val_dense_30_accuracy: 0.9273 - val_dense_31_accuracy: 0.9811 - val_dense_32_accuracy: 0.9997\n",
      "Epoch 15/20\n",
      "26721/26721 [==============================] - 60s 2ms/step - loss: 0.4958 - dense_27_loss: 0.0445 - dense_28_loss: 0.1432 - dense_29_loss: 0.1678 - dense_30_loss: 0.0971 - dense_31_loss: 0.0385 - dense_32_loss: 0.0048 - dense_27_accuracy: 0.9877 - dense_28_accuracy: 0.9624 - dense_29_accuracy: 0.9534 - dense_30_accuracy: 0.9709 - dense_31_accuracy: 0.9891 - dense_32_accuracy: 0.9997 - val_loss: 1.6680 - val_dense_27_loss: 0.2352 - val_dense_28_loss: 0.4100 - val_dense_29_loss: 0.5454 - val_dense_30_loss: 0.3762 - val_dense_31_loss: 0.1034 - val_dense_32_loss: 0.0048 - val_dense_27_accuracy: 0.9606 - val_dense_28_accuracy: 0.9144 - val_dense_29_accuracy: 0.8949 - val_dense_30_accuracy: 0.9271 - val_dense_31_accuracy: 0.9767 - val_dense_32_accuracy: 0.9997\n",
      "Epoch 16/20\n",
      "26721/26721 [==============================] - 60s 2ms/step - loss: 0.4529 - dense_27_loss: 0.0409 - dense_28_loss: 0.1164 - dense_29_loss: 0.1601 - dense_30_loss: 0.0929 - dense_31_loss: 0.0373 - dense_32_loss: 0.0048 - dense_27_accuracy: 0.9883 - dense_28_accuracy: 0.9672 - dense_29_accuracy: 0.9552 - dense_30_accuracy: 0.9717 - dense_31_accuracy: 0.9897 - dense_32_accuracy: 0.9997 - val_loss: 1.5837 - val_dense_27_loss: 0.2062 - val_dense_28_loss: 0.4069 - val_dense_29_loss: 0.4812 - val_dense_30_loss: 0.3725 - val_dense_31_loss: 0.1091 - val_dense_32_loss: 0.0048 - val_dense_27_accuracy: 0.9651 - val_dense_28_accuracy: 0.9223 - val_dense_29_accuracy: 0.9039 - val_dense_30_accuracy: 0.9364 - val_dense_31_accuracy: 0.9802 - val_dense_32_accuracy: 0.9997\n",
      "Epoch 17/20\n",
      "26721/26721 [==============================] - 60s 2ms/step - loss: 0.4429 - dense_27_loss: 0.0424 - dense_28_loss: 0.1197 - dense_29_loss: 0.1472 - dense_30_loss: 0.0959 - dense_31_loss: 0.0325 - dense_32_loss: 0.0048 - dense_27_accuracy: 0.9896 - dense_28_accuracy: 0.9688 - dense_29_accuracy: 0.9578 - dense_30_accuracy: 0.9722 - dense_31_accuracy: 0.9913 - dense_32_accuracy: 0.9997 - val_loss: 1.7861 - val_dense_27_loss: 0.2464 - val_dense_28_loss: 0.4639 - val_dense_29_loss: 0.5765 - val_dense_30_loss: 0.3925 - val_dense_31_loss: 0.1006 - val_dense_32_loss: 0.0048 - val_dense_27_accuracy: 0.9593 - val_dense_28_accuracy: 0.9156 - val_dense_29_accuracy: 0.8927 - val_dense_30_accuracy: 0.9302 - val_dense_31_accuracy: 0.9819 - val_dense_32_accuracy: 0.9997\n",
      "Epoch 18/20\n",
      "26721/26721 [==============================] - 60s 2ms/step - loss: 0.4202 - dense_27_loss: 0.0373 - dense_28_loss: 0.1201 - dense_29_loss: 0.1388 - dense_30_loss: 0.0848 - dense_31_loss: 0.0345 - dense_32_loss: 0.0048 - dense_27_accuracy: 0.9903 - dense_28_accuracy: 0.9677 - dense_29_accuracy: 0.9601 - dense_30_accuracy: 0.9753 - dense_31_accuracy: 0.9906 - dense_32_accuracy: 0.9997 - val_loss: 1.6600 - val_dense_27_loss: 0.2131 - val_dense_28_loss: 0.5103 - val_dense_29_loss: 0.4935 - val_dense_30_loss: 0.3554 - val_dense_31_loss: 0.0834 - val_dense_32_loss: 0.0048 - val_dense_27_accuracy: 0.9615 - val_dense_28_accuracy: 0.9078 - val_dense_29_accuracy: 0.8919 - val_dense_30_accuracy: 0.9329 - val_dense_31_accuracy: 0.9816 - val_dense_32_accuracy: 0.9997\n",
      "Epoch 19/20\n",
      "26721/26721 [==============================] - 60s 2ms/step - loss: 0.3951 - dense_27_loss: 0.0359 - dense_28_loss: 0.1075 - dense_29_loss: 0.1329 - dense_30_loss: 0.0844 - dense_31_loss: 0.0297 - dense_32_loss: 0.0048 - dense_27_accuracy: 0.9908 - dense_28_accuracy: 0.9715 - dense_29_accuracy: 0.9616 - dense_30_accuracy: 0.9761 - dense_31_accuracy: 0.9917 - dense_32_accuracy: 0.9997 - val_loss: 1.7210 - val_dense_27_loss: 0.2444 - val_dense_28_loss: 0.4256 - val_dense_29_loss: 0.5383 - val_dense_30_loss: 0.3914 - val_dense_31_loss: 0.1148 - val_dense_32_loss: 0.0048 - val_dense_27_accuracy: 0.9615 - val_dense_28_accuracy: 0.9265 - val_dense_29_accuracy: 0.9003 - val_dense_30_accuracy: 0.9377 - val_dense_31_accuracy: 0.9810 - val_dense_32_accuracy: 0.9997\n",
      "Epoch 20/20\n",
      "26721/26721 [==============================] - 60s 2ms/step - loss: 0.3890 - dense_27_loss: 0.0377 - dense_28_loss: 0.1113 - dense_29_loss: 0.1246 - dense_30_loss: 0.0811 - dense_31_loss: 0.0293 - dense_32_loss: 0.0048 - dense_27_accuracy: 0.9907 - dense_28_accuracy: 0.9702 - dense_29_accuracy: 0.9646 - dense_30_accuracy: 0.9780 - dense_31_accuracy: 0.9922 - dense_32_accuracy: 0.9997 - val_loss: 2.1453 - val_dense_27_loss: 0.3496 - val_dense_28_loss: 0.5154 - val_dense_29_loss: 0.6626 - val_dense_30_loss: 0.4944 - val_dense_31_loss: 0.1148 - val_dense_32_loss: 0.0048 - val_dense_27_accuracy: 0.9503 - val_dense_28_accuracy: 0.9160 - val_dense_29_accuracy: 0.8831 - val_dense_30_accuracy: 0.9244 - val_dense_31_accuracy: 0.9823 - val_dense_32_accuracy: 0.9997\n"
     ]
    }
   ],
   "source": [
    "# model with different optimizers\n",
    "# 1.2 with optimizer stochastic RMSprop optimizer\n",
    "model1_2= build_model()\n",
    "rms = optimizers.RMSprop(learning_rate=0.001, rho=0.9)\n",
    "model1_2.compile(optimizer = rms, loss = \"categorical_crossentropy\",metrics = [\"accuracy\"])\n",
    "history1_2 = model1_2.fit(x=x_train,\n",
    "               y=[y_train_num,y_train_digits[0],y_train_digits[1],y_train_digits[2],y_train_digits[3],y_train_digits[4]],\n",
    "                batch_size=64, epochs=20,verbose=1,validation_split=0.2,shuffle=True)"
   ]
  },
  {
   "cell_type": "code",
   "execution_count": 77,
   "metadata": {},
   "outputs": [
    {
     "name": "stdout",
     "output_type": "stream",
     "text": [
      "0.8193296602387512\n"
     ]
    }
   ],
   "source": [
    "test1_2 = test_acc(model1_2)\n",
    "print(test1_2)"
   ]
  },
  {
   "cell_type": "code",
   "execution_count": 90,
   "metadata": {},
   "outputs": [],
   "source": [
    "val_loss1_2,val_acc1_2,train_loss1_2,train_acc1_2 = get_array(history1_2,27)\n",
    "val_acc1_2 = np.insert(val_acc1_2,0,0)\n",
    "train_acc1_2 = np.insert(train_acc1_2,0,0)"
   ]
  },
  {
   "cell_type": "code",
   "execution_count": 98,
   "metadata": {},
   "outputs": [
    {
     "data": {
      "image/png": "[encoded data removed]",
      "text/plain": [
       "<Figure size 432x288 with 1 Axes>"
      ]
     },
     "metadata": {
      "needs_background": "light"
     },
     "output_type": "display_data"
    }
   ],
   "source": [
    "# plt.plot(val_loss1_2)\n",
    "%matplotlib inline\n",
    "# plt.plot(plt.plot(val_acc1_2))\n",
    "plt.plot(train_acc1_2)\n",
    "plt.plot(val_acc1_2)\n",
    "plt.plot(20,test1_2,'o')\n",
    "plt.title('Model Accurracy: RMS-8Layers-0Dropout')\n",
    "plt.ylabel('Accuracy')\n",
    "plt.xlabel('Epoch')\n",
    "plt.legend([ 'Train','Validatiaon','Test'], loc='upper left')\n",
    "plt.grid()\n",
    "plt.show()"
   ]
  },
  {
   "cell_type": "markdown",
   "metadata": {},
   "source": [
    "## 1.3 Nadam-8Layer-0Dropout"
   ]
  },
  {
   "cell_type": "code",
   "execution_count": 43,
   "metadata": {},
   "outputs": [
    {
     "name": "stdout",
     "output_type": "stream",
     "text": [
      "Train on 26721 samples, validate on 6681 samples\n",
      "Epoch 1/20\n",
      "26721/26721 [==============================] - 70s 3ms/step - loss: 5.0155 - dense_35_loss: 0.6018 - dense_36_loss: 1.4907 - dense_37_loss: 1.7523 - dense_38_loss: 0.9522 - dense_39_loss: 0.2054 - dense_40_loss: 0.0111 - dense_35_accuracy: 0.7523 - dense_36_accuracy: 0.4813 - dense_37_accuracy: 0.3965 - dense_38_accuracy: 0.7267 - dense_39_accuracy: 0.9554 - dense_40_accuracy: 0.9977 - val_loss: 3.1146 - val_dense_35_loss: 0.3098 - val_dense_36_loss: 0.9154 - val_dense_37_loss: 1.1197 - val_dense_38_loss: 0.6098 - val_dense_39_loss: 0.1566 - val_dense_40_loss: 0.0029 - val_dense_35_accuracy: 0.8877 - val_dense_36_accuracy: 0.7170 - val_dense_37_accuracy: 0.6402 - val_dense_38_accuracy: 0.8086 - val_dense_39_accuracy: 0.9591 - val_dense_40_accuracy: 0.9997\n",
      "Epoch 2/20\n",
      "26721/26721 [==============================] - 67s 2ms/step - loss: 2.0224 - dense_35_loss: 0.2075 - dense_36_loss: 0.5324 - dense_37_loss: 0.6988 - dense_38_loss: 0.4509 - dense_39_loss: 0.1288 - dense_40_loss: 0.0034 - dense_35_accuracy: 0.9276 - dense_36_accuracy: 0.8315 - dense_37_accuracy: 0.7746 - dense_38_accuracy: 0.8569 - dense_39_accuracy: 0.9624 - dense_40_accuracy: 0.9997 - val_loss: 2.0379 - val_dense_35_loss: 0.2224 - val_dense_36_loss: 0.5492 - val_dense_37_loss: 0.7148 - val_dense_38_loss: 0.4045 - val_dense_39_loss: 0.1425 - val_dense_40_loss: 0.0040 - val_dense_35_accuracy: 0.9237 - val_dense_36_accuracy: 0.8380 - val_dense_37_accuracy: 0.7738 - val_dense_38_accuracy: 0.8782 - val_dense_39_accuracy: 0.9621 - val_dense_40_accuracy: 0.9997\n",
      "Epoch 3/20\n",
      "26721/26721 [==============================] - 67s 2ms/step - loss: 1.3460 - dense_35_loss: 0.1438 - dense_36_loss: 0.3412 - dense_37_loss: 0.4524 - dense_38_loss: 0.3042 - dense_39_loss: 0.1014 - dense_40_loss: 0.0029 - dense_35_accuracy: 0.9513 - dense_36_accuracy: 0.8948 - dense_37_accuracy: 0.8585 - dense_38_accuracy: 0.9061 - dense_39_accuracy: 0.9688 - dense_40_accuracy: 0.9997 - val_loss: 1.3377 - val_dense_35_loss: 0.1325 - val_dense_36_loss: 0.3444 - val_dense_37_loss: 0.4534 - val_dense_38_loss: 0.3014 - val_dense_39_loss: 0.1028 - val_dense_40_loss: 0.0028 - val_dense_35_accuracy: 0.9545 - val_dense_36_accuracy: 0.8949 - val_dense_37_accuracy: 0.8614 - val_dense_38_accuracy: 0.9057 - val_dense_39_accuracy: 0.9684 - val_dense_40_accuracy: 0.9997\n",
      "Epoch 4/20\n",
      "26721/26721 [==============================] - 67s 2ms/step - loss: 1.0185 - dense_35_loss: 0.1059 - dense_36_loss: 0.2585 - dense_37_loss: 0.3399 - dense_38_loss: 0.2302 - dense_39_loss: 0.0828 - dense_40_loss: 0.0024 - dense_35_accuracy: 0.9649 - dense_36_accuracy: 0.9205 - dense_37_accuracy: 0.8972 - dense_38_accuracy: 0.9278 - dense_39_accuracy: 0.9744 - dense_40_accuracy: 0.9997 - val_loss: 1.3020 - val_dense_35_loss: 0.1432 - val_dense_36_loss: 0.3025 - val_dense_37_loss: 0.4705 - val_dense_38_loss: 0.2867 - val_dense_39_loss: 0.0956 - val_dense_40_loss: 0.0034 - val_dense_35_accuracy: 0.9509 - val_dense_36_accuracy: 0.9091 - val_dense_37_accuracy: 0.8556 - val_dense_38_accuracy: 0.9124 - val_dense_39_accuracy: 0.9698 - val_dense_40_accuracy: 0.9997\n",
      "Epoch 5/20\n",
      "26721/26721 [==============================] - 67s 2ms/step - loss: 0.8079 - dense_35_loss: 0.0795 - dense_36_loss: 0.2131 - dense_37_loss: 0.2678 - dense_38_loss: 0.1808 - dense_39_loss: 0.0647 - dense_40_loss: 0.0020 - dense_35_accuracy: 0.9734 - dense_36_accuracy: 0.9353 - dense_37_accuracy: 0.9199 - dense_38_accuracy: 0.9452 - dense_39_accuracy: 0.9790 - dense_40_accuracy: 0.9997 - val_loss: 1.1122 - val_dense_35_loss: 0.1177 - val_dense_36_loss: 0.2820 - val_dense_37_loss: 0.3799 - val_dense_38_loss: 0.2507 - val_dense_39_loss: 0.0766 - val_dense_40_loss: 0.0030 - val_dense_35_accuracy: 0.9635 - val_dense_36_accuracy: 0.9204 - val_dense_37_accuracy: 0.8909 - val_dense_38_accuracy: 0.9302 - val_dense_39_accuracy: 0.9771 - val_dense_40_accuracy: 0.9997\n",
      "Epoch 6/20\n",
      "26721/26721 [==============================] - 67s 2ms/step - loss: 0.6662 - dense_35_loss: 0.0649 - dense_36_loss: 0.1757 - dense_37_loss: 0.2266 - dense_38_loss: 0.1471 - dense_39_loss: 0.0503 - dense_40_loss: 0.0016 - dense_35_accuracy: 0.9785 - dense_36_accuracy: 0.9460 - dense_37_accuracy: 0.9291 - dense_38_accuracy: 0.9536 - dense_39_accuracy: 0.9844 - dense_40_accuracy: 0.9997 - val_loss: 1.1589 - val_dense_35_loss: 0.1306 - val_dense_36_loss: 0.3106 - val_dense_37_loss: 0.3720 - val_dense_38_loss: 0.2598 - val_dense_39_loss: 0.0808 - val_dense_40_loss: 0.0039 - val_dense_35_accuracy: 0.9624 - val_dense_36_accuracy: 0.9133 - val_dense_37_accuracy: 0.8949 - val_dense_38_accuracy: 0.9289 - val_dense_39_accuracy: 0.9783 - val_dense_40_accuracy: 0.9997\n",
      "Epoch 7/20\n",
      "26721/26721 [==============================] - 67s 2ms/step - loss: 0.5591 - dense_35_loss: 0.0532 - dense_36_loss: 0.1483 - dense_37_loss: 0.1913 - dense_38_loss: 0.1218 - dense_39_loss: 0.0435 - dense_40_loss: 0.0012 - dense_35_accuracy: 0.9813 - dense_36_accuracy: 0.9544 - dense_37_accuracy: 0.9412 - dense_38_accuracy: 0.9608 - dense_39_accuracy: 0.9862 - dense_40_accuracy: 0.9996 - val_loss: 1.1244 - val_dense_35_loss: 0.1326 - val_dense_36_loss: 0.2936 - val_dense_37_loss: 0.3672 - val_dense_38_loss: 0.2532 - val_dense_39_loss: 0.0737 - val_dense_40_loss: 0.0045 - val_dense_35_accuracy: 0.9629 - val_dense_36_accuracy: 0.9196 - val_dense_37_accuracy: 0.9009 - val_dense_38_accuracy: 0.9328 - val_dense_39_accuracy: 0.9829 - val_dense_40_accuracy: 0.9997\n",
      "Epoch 8/20\n",
      "26721/26721 [==============================] - 67s 2ms/step - loss: 0.4699 - dense_35_loss: 0.0448 - dense_36_loss: 0.1310 - dense_37_loss: 0.1592 - dense_38_loss: 0.0998 - dense_39_loss: 0.0336 - dense_40_loss: 0.0014 - dense_35_accuracy: 0.9848 - dense_36_accuracy: 0.9596 - dense_37_accuracy: 0.9493 - dense_38_accuracy: 0.9677 - dense_39_accuracy: 0.9893 - dense_40_accuracy: 0.9996 - val_loss: 1.1337 - val_dense_35_loss: 0.1374 - val_dense_36_loss: 0.2833 - val_dense_37_loss: 0.3645 - val_dense_38_loss: 0.2556 - val_dense_39_loss: 0.0866 - val_dense_40_loss: 0.0048 - val_dense_35_accuracy: 0.9608 - val_dense_36_accuracy: 0.9286 - val_dense_37_accuracy: 0.9033 - val_dense_38_accuracy: 0.9322 - val_dense_39_accuracy: 0.9778 - val_dense_40_accuracy: 0.9997\n",
      "Epoch 9/20\n",
      "26721/26721 [==============================] - 67s 2ms/step - loss: 0.4007 - dense_35_loss: 0.0369 - dense_36_loss: 0.1083 - dense_37_loss: 0.1349 - dense_38_loss: 0.0886 - dense_39_loss: 0.0302 - dense_40_loss: 0.0015 - dense_35_accuracy: 0.9875 - dense_36_accuracy: 0.9675 - dense_37_accuracy: 0.9575 - dense_38_accuracy: 0.9718 - dense_39_accuracy: 0.9899 - dense_40_accuracy: 0.9997 - val_loss: 1.1989 - val_dense_35_loss: 0.1446 - val_dense_36_loss: 0.3102 - val_dense_37_loss: 0.4034 - val_dense_38_loss: 0.2601 - val_dense_39_loss: 0.0747 - val_dense_40_loss: 0.0050 - val_dense_35_accuracy: 0.9627 - val_dense_36_accuracy: 0.9228 - val_dense_37_accuracy: 0.9026 - val_dense_38_accuracy: 0.9391 - val_dense_39_accuracy: 0.9826 - val_dense_40_accuracy: 0.9997\n",
      "Epoch 10/20\n",
      "26721/26721 [==============================] - 67s 2ms/step - loss: 0.3578 - dense_35_loss: 0.0321 - dense_36_loss: 0.1021 - dense_37_loss: 0.1202 - dense_38_loss: 0.0772 - dense_39_loss: 0.0248 - dense_40_loss: 0.0011 - dense_35_accuracy: 0.9893 - dense_36_accuracy: 0.9686 - dense_37_accuracy: 0.9621 - dense_38_accuracy: 0.9747 - dense_39_accuracy: 0.9914 - dense_40_accuracy: 0.9997 - val_loss: 1.2021 - val_dense_35_loss: 0.1346 - val_dense_36_loss: 0.3216 - val_dense_37_loss: 0.3962 - val_dense_38_loss: 0.2653 - val_dense_39_loss: 0.0810 - val_dense_40_loss: 0.0050 - val_dense_35_accuracy: 0.9696 - val_dense_36_accuracy: 0.9240 - val_dense_37_accuracy: 0.9085 - val_dense_38_accuracy: 0.9413 - val_dense_39_accuracy: 0.9825 - val_dense_40_accuracy: 0.9997\n",
      "Epoch 11/20\n",
      "26721/26721 [==============================] - 66s 2ms/step - loss: 0.2981 - dense_35_loss: 0.0261 - dense_36_loss: 0.0817 - dense_37_loss: 0.0992 - dense_38_loss: 0.0680 - dense_39_loss: 0.0221 - dense_40_loss: 8.0374e-04 - dense_35_accuracy: 0.9907 - dense_36_accuracy: 0.9745 - dense_37_accuracy: 0.9689 - dense_38_accuracy: 0.9792 - dense_39_accuracy: 0.9927 - dense_40_accuracy: 0.9998 - val_loss: 1.2469 - val_dense_35_loss: 0.1526 - val_dense_36_loss: 0.3281 - val_dense_37_loss: 0.3934 - val_dense_38_loss: 0.2783 - val_dense_39_loss: 0.0870 - val_dense_40_loss: 0.0047 - val_dense_35_accuracy: 0.9638 - val_dense_36_accuracy: 0.9223 - val_dense_37_accuracy: 0.9039 - val_dense_38_accuracy: 0.9385 - val_dense_39_accuracy: 0.9811 - val_dense_40_accuracy: 0.9997\n",
      "Epoch 12/20\n",
      "26721/26721 [==============================] - 66s 2ms/step - loss: 0.2733 - dense_35_loss: 0.0215 - dense_36_loss: 0.0757 - dense_37_loss: 0.0956 - dense_38_loss: 0.0606 - dense_39_loss: 0.0186 - dense_40_loss: 0.0011 - dense_35_accuracy: 0.9931 - dense_36_accuracy: 0.9766 - dense_37_accuracy: 0.9699 - dense_38_accuracy: 0.9807 - dense_39_accuracy: 0.9935 - dense_40_accuracy: 0.9998 - val_loss: 1.3167 - val_dense_35_loss: 0.1638 - val_dense_36_loss: 0.3232 - val_dense_37_loss: 0.4566 - val_dense_38_loss: 0.2877 - val_dense_39_loss: 0.0822 - val_dense_40_loss: 0.0049 - val_dense_35_accuracy: 0.9669 - val_dense_36_accuracy: 0.9282 - val_dense_37_accuracy: 0.9030 - val_dense_38_accuracy: 0.9394 - val_dense_39_accuracy: 0.9826 - val_dense_40_accuracy: 0.9997\n",
      "Epoch 13/20\n",
      "26721/26721 [==============================] - 66s 2ms/step - loss: 0.3003 - dense_35_loss: 0.0303 - dense_36_loss: 0.0837 - dense_37_loss: 0.0986 - dense_38_loss: 0.0650 - dense_39_loss: 0.0216 - dense_40_loss: 9.0101e-04 - dense_35_accuracy: 0.9902 - dense_36_accuracy: 0.9743 - dense_37_accuracy: 0.9687 - dense_38_accuracy: 0.9795 - dense_39_accuracy: 0.9936 - dense_40_accuracy: 0.9998 - val_loss: 1.2404 - val_dense_35_loss: 0.1584 - val_dense_36_loss: 0.3266 - val_dense_37_loss: 0.3887 - val_dense_38_loss: 0.2827 - val_dense_39_loss: 0.0823 - val_dense_40_loss: 0.0056 - val_dense_35_accuracy: 0.9647 - val_dense_36_accuracy: 0.9238 - val_dense_37_accuracy: 0.9118 - val_dense_38_accuracy: 0.9368 - val_dense_39_accuracy: 0.9816 - val_dense_40_accuracy: 0.9994\n",
      "Epoch 14/20\n",
      "26721/26721 [==============================] - 66s 2ms/step - loss: 0.2189 - dense_35_loss: 0.0178 - dense_36_loss: 0.0638 - dense_37_loss: 0.0696 - dense_38_loss: 0.0467 - dense_39_loss: 0.0204 - dense_40_loss: 0.0010 - dense_35_accuracy: 0.9944 - dense_36_accuracy: 0.9812 - dense_37_accuracy: 0.9784 - dense_38_accuracy: 0.9851 - dense_39_accuracy: 0.9941 - dense_40_accuracy: 0.9997 - val_loss: 1.2751 - val_dense_35_loss: 0.1540 - val_dense_36_loss: 0.3383 - val_dense_37_loss: 0.4045 - val_dense_38_loss: 0.2906 - val_dense_39_loss: 0.0834 - val_dense_40_loss: 0.0048 - val_dense_35_accuracy: 0.9662 - val_dense_36_accuracy: 0.9277 - val_dense_37_accuracy: 0.9141 - val_dense_38_accuracy: 0.9418 - val_dense_39_accuracy: 0.9819 - val_dense_40_accuracy: 0.9997\n",
      "Epoch 15/20\n",
      "26721/26721 [==============================] - 66s 2ms/step - loss: 0.2322 - dense_35_loss: 0.0221 - dense_36_loss: 0.0622 - dense_37_loss: 0.0746 - dense_38_loss: 0.0525 - dense_39_loss: 0.0197 - dense_40_loss: 8.7328e-04 - dense_35_accuracy: 0.9931 - dense_36_accuracy: 0.9807 - dense_37_accuracy: 0.9765 - dense_38_accuracy: 0.9841 - dense_39_accuracy: 0.9940 - dense_40_accuracy: 0.9998 - val_loss: 1.3942 - val_dense_35_loss: 0.1613 - val_dense_36_loss: 0.3782 - val_dense_37_loss: 0.4894 - val_dense_38_loss: 0.2810 - val_dense_39_loss: 0.0793 - val_dense_40_loss: 0.0048 - val_dense_35_accuracy: 0.9662 - val_dense_36_accuracy: 0.9217 - val_dense_37_accuracy: 0.9027 - val_dense_38_accuracy: 0.9446 - val_dense_39_accuracy: 0.9834 - val_dense_40_accuracy: 0.9997\n",
      "Epoch 16/20\n",
      "26721/26721 [==============================] - 67s 2ms/step - loss: 0.2077 - dense_35_loss: 0.0207 - dense_36_loss: 0.0564 - dense_37_loss: 0.0708 - dense_38_loss: 0.0451 - dense_39_loss: 0.0143 - dense_40_loss: 3.8691e-04 - dense_35_accuracy: 0.9936 - dense_36_accuracy: 0.9825 - dense_37_accuracy: 0.9783 - dense_38_accuracy: 0.9859 - dense_39_accuracy: 0.9955 - dense_40_accuracy: 0.9998 - val_loss: 1.2682 - val_dense_35_loss: 0.1412 - val_dense_36_loss: 0.3489 - val_dense_37_loss: 0.4241 - val_dense_38_loss: 0.2753 - val_dense_39_loss: 0.0769 - val_dense_40_loss: 0.0049 - val_dense_35_accuracy: 0.9665 - val_dense_36_accuracy: 0.9229 - val_dense_37_accuracy: 0.9102 - val_dense_38_accuracy: 0.9394 - val_dense_39_accuracy: 0.9837 - val_dense_40_accuracy: 0.9997\n",
      "Epoch 17/20\n",
      "26721/26721 [==============================] - 66s 2ms/step - loss: 0.1815 - dense_35_loss: 0.0163 - dense_36_loss: 0.0474 - dense_37_loss: 0.0637 - dense_38_loss: 0.0404 - dense_39_loss: 0.0130 - dense_40_loss: 4.7337e-04 - dense_35_accuracy: 0.9945 - dense_36_accuracy: 0.9849 - dense_37_accuracy: 0.9792 - dense_38_accuracy: 0.9883 - dense_39_accuracy: 0.9960 - dense_40_accuracy: 0.9999 - val_loss: 1.3507 - val_dense_35_loss: 0.1646 - val_dense_36_loss: 0.3586 - val_dense_37_loss: 0.4337 - val_dense_38_loss: 0.3083 - val_dense_39_loss: 0.0863 - val_dense_40_loss: 0.0045 - val_dense_35_accuracy: 0.9662 - val_dense_36_accuracy: 0.9289 - val_dense_37_accuracy: 0.9114 - val_dense_38_accuracy: 0.9446 - val_dense_39_accuracy: 0.9849 - val_dense_40_accuracy: 0.9997\n",
      "Epoch 18/20\n",
      "26721/26721 [==============================] - 66s 2ms/step - loss: 0.1672 - dense_35_loss: 0.0148 - dense_36_loss: 0.0482 - dense_37_loss: 0.0543 - dense_38_loss: 0.0344 - dense_39_loss: 0.0156 - dense_40_loss: 1.7495e-04 - dense_35_accuracy: 0.9951 - dense_36_accuracy: 0.9847 - dense_37_accuracy: 0.9837 - dense_38_accuracy: 0.9884 - dense_39_accuracy: 0.9950 - dense_40_accuracy: 0.9999 - val_loss: 1.3788 - val_dense_35_loss: 0.1654 - val_dense_36_loss: 0.3653 - val_dense_37_loss: 0.4561 - val_dense_38_loss: 0.2781 - val_dense_39_loss: 0.1074 - val_dense_40_loss: 0.0050 - val_dense_35_accuracy: 0.9669 - val_dense_36_accuracy: 0.9265 - val_dense_37_accuracy: 0.9129 - val_dense_38_accuracy: 0.9439 - val_dense_39_accuracy: 0.9796 - val_dense_40_accuracy: 0.9997\n",
      "Epoch 19/20\n",
      "26721/26721 [==============================] - 66s 2ms/step - loss: 0.1657 - dense_35_loss: 0.0122 - dense_36_loss: 0.0513 - dense_37_loss: 0.0551 - dense_38_loss: 0.0323 - dense_39_loss: 0.0138 - dense_40_loss: 8.4125e-04 - dense_35_accuracy: 0.9961 - dense_36_accuracy: 0.9850 - dense_37_accuracy: 0.9837 - dense_38_accuracy: 0.9901 - dense_39_accuracy: 0.9958 - dense_40_accuracy: 0.9998 - val_loss: 1.4233 - val_dense_35_loss: 0.1804 - val_dense_36_loss: 0.3600 - val_dense_37_loss: 0.4638 - val_dense_38_loss: 0.3367 - val_dense_39_loss: 0.0840 - val_dense_40_loss: 0.0057 - val_dense_35_accuracy: 0.9629 - val_dense_36_accuracy: 0.9297 - val_dense_37_accuracy: 0.9087 - val_dense_38_accuracy: 0.9385 - val_dense_39_accuracy: 0.9828 - val_dense_40_accuracy: 0.9993\n",
      "Epoch 20/20\n",
      "26721/26721 [==============================] - 66s 2ms/step - loss: 0.1635 - dense_35_loss: 0.0161 - dense_36_loss: 0.0420 - dense_37_loss: 0.0560 - dense_38_loss: 0.0392 - dense_39_loss: 0.0098 - dense_40_loss: 5.3112e-04 - dense_35_accuracy: 0.9954 - dense_36_accuracy: 0.9874 - dense_37_accuracy: 0.9830 - dense_38_accuracy: 0.9888 - dense_39_accuracy: 0.9971 - dense_40_accuracy: 0.9998 - val_loss: 1.3592 - val_dense_35_loss: 0.1722 - val_dense_36_loss: 0.3447 - val_dense_37_loss: 0.4405 - val_dense_38_loss: 0.3173 - val_dense_39_loss: 0.0797 - val_dense_40_loss: 0.0049 - val_dense_35_accuracy: 0.9657 - val_dense_36_accuracy: 0.9325 - val_dense_37_accuracy: 0.9175 - val_dense_38_accuracy: 0.9446 - val_dense_39_accuracy: 0.9838 - val_dense_40_accuracy: 0.9997\n"
     ]
    }
   ],
   "source": [
    "# model with different optimizers\n",
    "# 1.3 with optimizer stochastic Nadam\n",
    "model1_3= build_model()\n",
    "nadam = keras.optimizers.Nadam(learning_rate=0.001, beta_1=0.9, beta_2=0.999)\n",
    "model1_3.compile(optimizer = nadam, loss = \"categorical_crossentropy\",metrics = [\"accuracy\"])\n",
    "history1_3 = model1_3.fit(x=x_train,\n",
    "               y=[y_train_num,y_train_digits[0],y_train_digits[1],y_train_digits[2],y_train_digits[3],y_train_digits[4]],\n",
    "                batch_size=64, epochs=20,verbose=1,validation_split=0.2,shuffle=True)"
   ]
  },
  {
   "cell_type": "code",
   "execution_count": 79,
   "metadata": {},
   "outputs": [
    {
     "name": "stdout",
     "output_type": "stream",
     "text": [
      "['loss', 'dense_35_loss', 'dense_36_loss', 'dense_37_loss', 'dense_38_loss', 'dense_39_loss', 'dense_40_loss', 'dense_35_accuracy', 'dense_36_accuracy', 'dense_37_accuracy', 'dense_38_accuracy', 'dense_39_accuracy', 'dense_40_accuracy']\n"
     ]
    }
   ],
   "source": [
    "print(model1_3.metrics_names)"
   ]
  },
  {
   "cell_type": "code",
   "execution_count": 95,
   "metadata": {},
   "outputs": [
    {
     "name": "stdout",
     "output_type": "stream",
     "text": [
      "0.8561371288644016\n"
     ]
    }
   ],
   "source": [
    "test1_3 = test_acc(model1_3)\n",
    "print(test1_3)\n",
    "val_loss1_3,val_acc1_3,train_loss1_3,train_acc1_3 = get_array(history1_3,35)\n",
    "val_acc1_3 = np.insert(val_acc1_3,0,0)\n",
    "train_acc1_3 = np.insert(train_acc1_3,0,0)"
   ]
  },
  {
   "cell_type": "code",
   "execution_count": 97,
   "metadata": {
    "scrolled": true
   },
   "outputs": [
    {
     "data": {
      "image/png": "[encoded data removed]",
      "text/plain": [
       "<Figure size 432x288 with 1 Axes>"
      ]
     },
     "metadata": {
      "needs_background": "light"
     },
     "output_type": "display_data"
    }
   ],
   "source": [
    "# plt.plot(val_loss1_2)\n",
    "%matplotlib inline\n",
    "# plt.plot(plt.plot(val_acc1_2))\n",
    "plt.plot(train_acc1_3)\n",
    "plt.plot(val_acc1_3)\n",
    "plt.plot(20,test1_3,'o')\n",
    "plt.title('Model Accurracy: Nadam-8Layers-0Dropout')\n",
    "plt.ylabel('Accuracy')\n",
    "plt.xlabel('Epoch')\n",
    "plt.legend(['Train','Validatiaon','Test'], loc='upper left')\n",
    "plt.grid()\n",
    "plt.show()"
   ]
  },
  {
   "cell_type": "markdown",
   "metadata": {},
   "source": [
    "## 1.4 Adam-8Layer-0Dropout"
   ]
  },
  {
   "cell_type": "code",
   "execution_count": 45,
   "metadata": {},
   "outputs": [
    {
     "name": "stdout",
     "output_type": "stream",
     "text": [
      "Train on 26721 samples, validate on 6681 samples\n",
      "Epoch 1/20\n",
      "26721/26721 [==============================] - 65s 2ms/step - loss: 5.4119 - dense_43_loss: 0.5896 - dense_44_loss: 1.6706 - dense_45_loss: 1.9486 - dense_46_loss: 0.9938 - dense_47_loss: 0.1983 - dense_48_loss: 0.0083 - dense_43_accuracy: 0.7586 - dense_44_accuracy: 0.4116 - dense_45_accuracy: 0.3190 - dense_46_accuracy: 0.7103 - dense_47_accuracy: 0.9551 - dense_48_accuracy: 0.9996 - val_loss: 3.8922 - val_dense_43_loss: 0.3689 - val_dense_44_loss: 1.0852 - val_dense_45_loss: 1.3939 - val_dense_46_loss: 0.8370 - val_dense_47_loss: 0.2013 - val_dense_48_loss: 0.0028 - val_dense_43_accuracy: 0.8716 - val_dense_44_accuracy: 0.6322 - val_dense_45_accuracy: 0.5323 - val_dense_46_accuracy: 0.7273 - val_dense_47_accuracy: 0.9552 - val_dense_48_accuracy: 0.9997\n",
      "Epoch 2/20\n",
      "26721/26721 [==============================] - 62s 2ms/step - loss: 2.5453 - dense_43_loss: 0.2427 - dense_44_loss: 0.6766 - dense_45_loss: 0.9089 - dense_46_loss: 0.5729 - dense_47_loss: 0.1416 - dense_48_loss: 0.0029 - dense_43_accuracy: 0.9120 - dense_44_accuracy: 0.7764 - dense_45_accuracy: 0.6975 - dense_46_accuracy: 0.8121 - dense_47_accuracy: 0.9603 - dense_48_accuracy: 0.9997 - val_loss: 1.9401 - val_dense_43_loss: 0.1981 - val_dense_44_loss: 0.5328 - val_dense_45_loss: 0.6419 - val_dense_46_loss: 0.4318 - val_dense_47_loss: 0.1327 - val_dense_48_loss: 0.0024 - val_dense_43_accuracy: 0.9323 - val_dense_44_accuracy: 0.8255 - val_dense_45_accuracy: 0.7910 - val_dense_46_accuracy: 0.8581 - val_dense_47_accuracy: 0.9609 - val_dense_48_accuracy: 0.9997\n",
      "Epoch 3/20\n",
      "26721/26721 [==============================] - 62s 2ms/step - loss: 1.6058 - dense_43_loss: 0.1639 - dense_44_loss: 0.4092 - dense_45_loss: 0.5499 - dense_46_loss: 0.3639 - dense_47_loss: 0.1164 - dense_48_loss: 0.0024 - dense_43_accuracy: 0.9441 - dense_44_accuracy: 0.8729 - dense_45_accuracy: 0.8256 - dense_46_accuracy: 0.8859 - dense_47_accuracy: 0.9650 - dense_48_accuracy: 0.9997 - val_loss: 1.6497 - val_dense_43_loss: 0.2006 - val_dense_44_loss: 0.4053 - val_dense_45_loss: 0.5318 - val_dense_46_loss: 0.3554 - val_dense_47_loss: 0.1519 - val_dense_48_loss: 0.0029 - val_dense_43_accuracy: 0.9338 - val_dense_44_accuracy: 0.8783 - val_dense_45_accuracy: 0.8351 - val_dense_46_accuracy: 0.8951 - val_dense_47_accuracy: 0.9540 - val_dense_48_accuracy: 0.9997\n",
      "Epoch 4/20\n",
      "26721/26721 [==============================] - 62s 2ms/step - loss: 1.1977 - dense_43_loss: 0.1179 - dense_44_loss: 0.2975 - dense_45_loss: 0.4086 - dense_46_loss: 0.2745 - dense_47_loss: 0.0958 - dense_48_loss: 0.0028 - dense_43_accuracy: 0.9604 - dense_44_accuracy: 0.9070 - dense_45_accuracy: 0.8748 - dense_46_accuracy: 0.9129 - dense_47_accuracy: 0.9706 - dense_48_accuracy: 0.9997 - val_loss: 1.3431 - val_dense_43_loss: 0.1409 - val_dense_44_loss: 0.3792 - val_dense_45_loss: 0.4245 - val_dense_46_loss: 0.2918 - val_dense_47_loss: 0.1046 - val_dense_48_loss: 0.0029 - val_dense_43_accuracy: 0.9521 - val_dense_44_accuracy: 0.8894 - val_dense_45_accuracy: 0.8704 - val_dense_46_accuracy: 0.9183 - val_dense_47_accuracy: 0.9686 - val_dense_48_accuracy: 0.9997\n",
      "Epoch 5/20\n",
      "26721/26721 [==============================] - 62s 2ms/step - loss: 0.9686 - dense_43_loss: 0.0931 - dense_44_loss: 0.2484 - dense_45_loss: 0.3245 - dense_46_loss: 0.2169 - dense_47_loss: 0.0833 - dense_48_loss: 0.0018 - dense_43_accuracy: 0.9677 - dense_44_accuracy: 0.9237 - dense_45_accuracy: 0.8976 - dense_46_accuracy: 0.9316 - dense_47_accuracy: 0.9747 - dense_48_accuracy: 0.9997 - val_loss: 1.2356 - val_dense_43_loss: 0.1455 - val_dense_44_loss: 0.3115 - val_dense_45_loss: 0.4135 - val_dense_46_loss: 0.2702 - val_dense_47_loss: 0.0936 - val_dense_48_loss: 0.0023 - val_dense_43_accuracy: 0.9549 - val_dense_44_accuracy: 0.9136 - val_dense_45_accuracy: 0.8840 - val_dense_46_accuracy: 0.9192 - val_dense_47_accuracy: 0.9726 - val_dense_48_accuracy: 0.9997\n",
      "Epoch 6/20\n",
      "26721/26721 [==============================] - 62s 2ms/step - loss: 0.7860 - dense_43_loss: 0.0748 - dense_44_loss: 0.1966 - dense_45_loss: 0.2631 - dense_46_loss: 0.1789 - dense_47_loss: 0.0709 - dense_48_loss: 0.0015 - dense_43_accuracy: 0.9741 - dense_44_accuracy: 0.9396 - dense_45_accuracy: 0.9184 - dense_46_accuracy: 0.9440 - dense_47_accuracy: 0.9775 - dense_48_accuracy: 0.9997 - val_loss: 1.1615 - val_dense_43_loss: 0.1269 - val_dense_44_loss: 0.3007 - val_dense_45_loss: 0.3917 - val_dense_46_loss: 0.2586 - val_dense_47_loss: 0.0807 - val_dense_48_loss: 0.0028 - val_dense_43_accuracy: 0.9627 - val_dense_44_accuracy: 0.9195 - val_dense_45_accuracy: 0.8891 - val_dense_46_accuracy: 0.9288 - val_dense_47_accuracy: 0.9764 - val_dense_48_accuracy: 0.9997\n",
      "Epoch 7/20\n",
      "26721/26721 [==============================] - 62s 2ms/step - loss: 0.6456 - dense_43_loss: 0.0585 - dense_44_loss: 0.1676 - dense_45_loss: 0.2157 - dense_46_loss: 0.1471 - dense_47_loss: 0.0553 - dense_48_loss: 0.0019 - dense_43_accuracy: 0.9796 - dense_44_accuracy: 0.9487 - dense_45_accuracy: 0.9311 - dense_46_accuracy: 0.9525 - dense_47_accuracy: 0.9822 - dense_48_accuracy: 0.9996 - val_loss: 1.2572 - val_dense_43_loss: 0.1367 - val_dense_44_loss: 0.3452 - val_dense_45_loss: 0.4001 - val_dense_46_loss: 0.2762 - val_dense_47_loss: 0.0920 - val_dense_48_loss: 0.0041 - val_dense_43_accuracy: 0.9603 - val_dense_44_accuracy: 0.9054 - val_dense_45_accuracy: 0.8898 - val_dense_46_accuracy: 0.9207 - val_dense_47_accuracy: 0.9720 - val_dense_48_accuracy: 0.9997\n",
      "Epoch 8/20\n",
      "26721/26721 [==============================] - 62s 2ms/step - loss: 0.5426 - dense_43_loss: 0.0482 - dense_44_loss: 0.1423 - dense_45_loss: 0.1827 - dense_46_loss: 0.1206 - dense_47_loss: 0.0476 - dense_48_loss: 0.0013 - dense_43_accuracy: 0.9836 - dense_44_accuracy: 0.9558 - dense_45_accuracy: 0.9416 - dense_46_accuracy: 0.9612 - dense_47_accuracy: 0.9846 - dense_48_accuracy: 0.9997 - val_loss: 1.1841 - val_dense_43_loss: 0.1443 - val_dense_44_loss: 0.2883 - val_dense_45_loss: 0.3974 - val_dense_46_loss: 0.2763 - val_dense_47_loss: 0.0722 - val_dense_48_loss: 0.0029 - val_dense_43_accuracy: 0.9593 - val_dense_44_accuracy: 0.9217 - val_dense_45_accuracy: 0.8930 - val_dense_46_accuracy: 0.9271 - val_dense_47_accuracy: 0.9810 - val_dense_48_accuracy: 0.9997\n",
      "Epoch 9/20\n",
      "26721/26721 [==============================] - 62s 2ms/step - loss: 0.4572 - dense_43_loss: 0.0410 - dense_44_loss: 0.1208 - dense_45_loss: 0.1515 - dense_46_loss: 0.1004 - dense_47_loss: 0.0427 - dense_48_loss: 8.5213e-04 - dense_43_accuracy: 0.9857 - dense_44_accuracy: 0.9622 - dense_45_accuracy: 0.9519 - dense_46_accuracy: 0.9680 - dense_47_accuracy: 0.9862 - dense_48_accuracy: 0.9997 - val_loss: 1.2633 - val_dense_43_loss: 0.1423 - val_dense_44_loss: 0.3194 - val_dense_45_loss: 0.4436 - val_dense_46_loss: 0.2725 - val_dense_47_loss: 0.0794 - val_dense_48_loss: 0.0028 - val_dense_43_accuracy: 0.9638 - val_dense_44_accuracy: 0.9180 - val_dense_45_accuracy: 0.8901 - val_dense_46_accuracy: 0.9319 - val_dense_47_accuracy: 0.9795 - val_dense_48_accuracy: 0.9997\n",
      "Epoch 10/20\n",
      "26721/26721 [==============================] - 62s 2ms/step - loss: 0.4082 - dense_43_loss: 0.0356 - dense_44_loss: 0.1094 - dense_45_loss: 0.1368 - dense_46_loss: 0.0886 - dense_47_loss: 0.0364 - dense_48_loss: 0.0013 - dense_43_accuracy: 0.9885 - dense_44_accuracy: 0.9665 - dense_45_accuracy: 0.9567 - dense_46_accuracy: 0.9718 - dense_47_accuracy: 0.9879 - dense_48_accuracy: 0.9996 - val_loss: 1.2716 - val_dense_43_loss: 0.1554 - val_dense_44_loss: 0.3467 - val_dense_45_loss: 0.4023 - val_dense_46_loss: 0.2842 - val_dense_47_loss: 0.0786 - val_dense_48_loss: 0.0031 - val_dense_43_accuracy: 0.9645 - val_dense_44_accuracy: 0.9192 - val_dense_45_accuracy: 0.8990 - val_dense_46_accuracy: 0.9322 - val_dense_47_accuracy: 0.9822 - val_dense_48_accuracy: 0.9997\n",
      "Epoch 11/20\n",
      "26721/26721 [==============================] - 62s 2ms/step - loss: 0.3479 - dense_43_loss: 0.0311 - dense_44_loss: 0.0938 - dense_45_loss: 0.1144 - dense_46_loss: 0.0733 - dense_47_loss: 0.0340 - dense_48_loss: 9.9549e-04 - dense_43_accuracy: 0.9904 - dense_44_accuracy: 0.9702 - dense_45_accuracy: 0.9640 - dense_46_accuracy: 0.9762 - dense_47_accuracy: 0.9896 - dense_48_accuracy: 0.9997 - val_loss: 1.3857 - val_dense_43_loss: 0.2035 - val_dense_44_loss: 0.3217 - val_dense_45_loss: 0.4467 - val_dense_46_loss: 0.3380 - val_dense_47_loss: 0.0696 - val_dense_48_loss: 0.0032 - val_dense_43_accuracy: 0.9535 - val_dense_44_accuracy: 0.9231 - val_dense_45_accuracy: 0.8910 - val_dense_46_accuracy: 0.9314 - val_dense_47_accuracy: 0.9813 - val_dense_48_accuracy: 0.9997\n",
      "Epoch 12/20\n",
      "26721/26721 [==============================] - 62s 2ms/step - loss: 0.3198 - dense_43_loss: 0.0270 - dense_44_loss: 0.0891 - dense_45_loss: 0.1040 - dense_46_loss: 0.0727 - dense_47_loss: 0.0261 - dense_48_loss: 0.0010 - dense_43_accuracy: 0.9903 - dense_44_accuracy: 0.9716 - dense_45_accuracy: 0.9664 - dense_46_accuracy: 0.9765 - dense_47_accuracy: 0.9916 - dense_48_accuracy: 0.9997 - val_loss: 1.2911 - val_dense_43_loss: 0.1590 - val_dense_44_loss: 0.3564 - val_dense_45_loss: 0.4250 - val_dense_46_loss: 0.2753 - val_dense_47_loss: 0.0725 - val_dense_48_loss: 0.0026 - val_dense_43_accuracy: 0.9609 - val_dense_44_accuracy: 0.9144 - val_dense_45_accuracy: 0.9072 - val_dense_46_accuracy: 0.9376 - val_dense_47_accuracy: 0.9814 - val_dense_48_accuracy: 0.9997\n",
      "Epoch 13/20\n",
      "26721/26721 [==============================] - 62s 2ms/step - loss: 0.2727 - dense_43_loss: 0.0214 - dense_44_loss: 0.0739 - dense_45_loss: 0.0949 - dense_46_loss: 0.0613 - dense_47_loss: 0.0202 - dense_48_loss: 0.0012 - dense_43_accuracy: 0.9930 - dense_44_accuracy: 0.9763 - dense_45_accuracy: 0.9692 - dense_46_accuracy: 0.9817 - dense_47_accuracy: 0.9932 - dense_48_accuracy: 0.9996 - val_loss: 1.3061 - val_dense_43_loss: 0.1483 - val_dense_44_loss: 0.3631 - val_dense_45_loss: 0.4257 - val_dense_46_loss: 0.2813 - val_dense_47_loss: 0.0834 - val_dense_48_loss: 0.0043 - val_dense_43_accuracy: 0.9648 - val_dense_44_accuracy: 0.9199 - val_dense_45_accuracy: 0.9068 - val_dense_46_accuracy: 0.9410 - val_dense_47_accuracy: 0.9810 - val_dense_48_accuracy: 0.9997\n",
      "Epoch 14/20\n",
      "26721/26721 [==============================] - 62s 2ms/step - loss: 0.2500 - dense_43_loss: 0.0191 - dense_44_loss: 0.0687 - dense_45_loss: 0.0871 - dense_46_loss: 0.0527 - dense_47_loss: 0.0214 - dense_48_loss: 0.0011 - dense_43_accuracy: 0.9937 - dense_44_accuracy: 0.9789 - dense_45_accuracy: 0.9721 - dense_46_accuracy: 0.9830 - dense_47_accuracy: 0.9929 - dense_48_accuracy: 0.9996 - val_loss: 1.5270 - val_dense_43_loss: 0.1837 - val_dense_44_loss: 0.3834 - val_dense_45_loss: 0.4930 - val_dense_46_loss: 0.3584 - val_dense_47_loss: 0.1068 - val_dense_48_loss: 0.0043 - val_dense_43_accuracy: 0.9626 - val_dense_44_accuracy: 0.9177 - val_dense_45_accuracy: 0.8981 - val_dense_46_accuracy: 0.9297 - val_dense_47_accuracy: 0.9762 - val_dense_48_accuracy: 0.9997\n",
      "Epoch 15/20\n",
      "26721/26721 [==============================] - 62s 2ms/step - loss: 0.2427 - dense_43_loss: 0.0230 - dense_44_loss: 0.0615 - dense_45_loss: 0.0785 - dense_46_loss: 0.0544 - dense_47_loss: 0.0247 - dense_48_loss: 5.8225e-04 - dense_43_accuracy: 0.9932 - dense_44_accuracy: 0.9808 - dense_45_accuracy: 0.9744 - dense_46_accuracy: 0.9833 - dense_47_accuracy: 0.9920 - dense_48_accuracy: 0.9997 - val_loss: 1.4792 - val_dense_43_loss: 0.1988 - val_dense_44_loss: 0.3883 - val_dense_45_loss: 0.4785 - val_dense_46_loss: 0.3212 - val_dense_47_loss: 0.0890 - val_dense_48_loss: 0.0033 - val_dense_43_accuracy: 0.9611 - val_dense_44_accuracy: 0.9163 - val_dense_45_accuracy: 0.8967 - val_dense_46_accuracy: 0.9380 - val_dense_47_accuracy: 0.9810 - val_dense_48_accuracy: 0.9997\n",
      "Epoch 16/20\n",
      "26721/26721 [==============================] - 62s 2ms/step - loss: 0.2298 - dense_43_loss: 0.0234 - dense_44_loss: 0.0588 - dense_45_loss: 0.0778 - dense_46_loss: 0.0503 - dense_47_loss: 0.0187 - dense_48_loss: 8.0075e-04 - dense_43_accuracy: 0.9928 - dense_44_accuracy: 0.9819 - dense_45_accuracy: 0.9751 - dense_46_accuracy: 0.9847 - dense_47_accuracy: 0.9943 - dense_48_accuracy: 0.9997 - val_loss: 1.3745 - val_dense_43_loss: 0.1694 - val_dense_44_loss: 0.3499 - val_dense_45_loss: 0.4486 - val_dense_46_loss: 0.3207 - val_dense_47_loss: 0.0867 - val_dense_48_loss: 0.0037 - val_dense_43_accuracy: 0.9653 - val_dense_44_accuracy: 0.9249 - val_dense_45_accuracy: 0.9045 - val_dense_46_accuracy: 0.9370 - val_dense_47_accuracy: 0.9816 - val_dense_48_accuracy: 0.9997\n",
      "Epoch 17/20\n",
      "26721/26721 [==============================] - 62s 2ms/step - loss: 0.1963 - dense_43_loss: 0.0164 - dense_44_loss: 0.0511 - dense_45_loss: 0.0682 - dense_46_loss: 0.0439 - dense_47_loss: 0.0156 - dense_48_loss: 9.5586e-04 - dense_43_accuracy: 0.9951 - dense_44_accuracy: 0.9840 - dense_45_accuracy: 0.9794 - dense_46_accuracy: 0.9872 - dense_47_accuracy: 0.9953 - dense_48_accuracy: 0.9998 - val_loss: 1.3785 - val_dense_43_loss: 0.1699 - val_dense_44_loss: 0.3602 - val_dense_45_loss: 0.4540 - val_dense_46_loss: 0.3044 - val_dense_47_loss: 0.0799 - val_dense_48_loss: 0.0044 - val_dense_43_accuracy: 0.9647 - val_dense_44_accuracy: 0.9276 - val_dense_45_accuracy: 0.9070 - val_dense_46_accuracy: 0.9392 - val_dense_47_accuracy: 0.9826 - val_dense_48_accuracy: 0.9997\n",
      "Epoch 18/20\n",
      "26721/26721 [==============================] - 62s 2ms/step - loss: 0.1760 - dense_43_loss: 0.0165 - dense_44_loss: 0.0516 - dense_45_loss: 0.0568 - dense_46_loss: 0.0357 - dense_47_loss: 0.0147 - dense_48_loss: 4.7835e-04 - dense_43_accuracy: 0.9946 - dense_44_accuracy: 0.9845 - dense_45_accuracy: 0.9820 - dense_46_accuracy: 0.9887 - dense_47_accuracy: 0.9953 - dense_48_accuracy: 0.9998 - val_loss: 1.3408 - val_dense_43_loss: 0.1487 - val_dense_44_loss: 0.3610 - val_dense_45_loss: 0.4528 - val_dense_46_loss: 0.2949 - val_dense_47_loss: 0.0793 - val_dense_48_loss: 0.0030 - val_dense_43_accuracy: 0.9633 - val_dense_44_accuracy: 0.9261 - val_dense_45_accuracy: 0.9076 - val_dense_46_accuracy: 0.9425 - val_dense_47_accuracy: 0.9811 - val_dense_48_accuracy: 0.9997\n",
      "Epoch 19/20\n",
      "26721/26721 [==============================] - 62s 2ms/step - loss: 0.1728 - dense_43_loss: 0.0136 - dense_44_loss: 0.0500 - dense_45_loss: 0.0561 - dense_46_loss: 0.0367 - dense_47_loss: 0.0161 - dense_48_loss: 2.2908e-04 - dense_43_accuracy: 0.9960 - dense_44_accuracy: 0.9855 - dense_45_accuracy: 0.9834 - dense_46_accuracy: 0.9892 - dense_47_accuracy: 0.9951 - dense_48_accuracy: 0.9999 - val_loss: 1.4334 - val_dense_43_loss: 0.1885 - val_dense_44_loss: 0.3265 - val_dense_45_loss: 0.4867 - val_dense_46_loss: 0.3358 - val_dense_47_loss: 0.0876 - val_dense_48_loss: 0.0037 - val_dense_43_accuracy: 0.9624 - val_dense_44_accuracy: 0.9326 - val_dense_45_accuracy: 0.8994 - val_dense_46_accuracy: 0.9368 - val_dense_47_accuracy: 0.9823 - val_dense_48_accuracy: 0.9997\n",
      "Epoch 20/20\n",
      "26721/26721 [==============================] - 62s 2ms/step - loss: 0.1652 - dense_43_loss: 0.0136 - dense_44_loss: 0.0430 - dense_45_loss: 0.0573 - dense_46_loss: 0.0377 - dense_47_loss: 0.0125 - dense_48_loss: 9.7154e-04 - dense_43_accuracy: 0.9961 - dense_44_accuracy: 0.9873 - dense_45_accuracy: 0.9825 - dense_46_accuracy: 0.9884 - dense_47_accuracy: 0.9958 - dense_48_accuracy: 0.9999 - val_loss: 1.4591 - val_dense_43_loss: 0.1843 - val_dense_44_loss: 0.3761 - val_dense_45_loss: 0.4731 - val_dense_46_loss: 0.3231 - val_dense_47_loss: 0.0914 - val_dense_48_loss: 0.0066 - val_dense_43_accuracy: 0.9626 - val_dense_44_accuracy: 0.9201 - val_dense_45_accuracy: 0.9075 - val_dense_46_accuracy: 0.9400 - val_dense_47_accuracy: 0.9825 - val_dense_48_accuracy: 0.9985\n"
     ]
    }
   ],
   "source": [
    "# model with different optimizers\n",
    "# 1.4 with optimizer stochastic Adam optimizer\n",
    "model1_4= build_model()\n",
    "adam = optimizers.Adam(learning_rate=0.001, beta_1=0.9, beta_2=0.999, amsgrad=False)\n",
    "model1_4.compile(optimizer = adam, loss = \"categorical_crossentropy\",metrics = [\"accuracy\"])\n",
    "history1_4 = model1_4.fit(x=x_train,\n",
    "               y=[y_train_num,y_train_digits[0],y_train_digits[1],y_train_digits[2],y_train_digits[3],y_train_digits[4]],\n",
    "                batch_size=64, epochs=20,verbose=1,validation_split=0.2,shuffle=True)"
   ]
  },
  {
   "cell_type": "code",
   "execution_count": 81,
   "metadata": {},
   "outputs": [
    {
     "name": "stdout",
     "output_type": "stream",
     "text": [
      "['loss', 'dense_43_loss', 'dense_44_loss', 'dense_45_loss', 'dense_46_loss', 'dense_47_loss', 'dense_48_loss', 'dense_43_accuracy', 'dense_44_accuracy', 'dense_45_accuracy', 'dense_46_accuracy', 'dense_47_accuracy', 'dense_48_accuracy']\n"
     ]
    }
   ],
   "source": [
    "print(model1_4.metrics_names)"
   ]
  },
  {
   "cell_type": "code",
   "execution_count": 100,
   "metadata": {},
   "outputs": [
    {
     "name": "stdout",
     "output_type": "stream",
     "text": [
      "0.8339455157636976\n"
     ]
    }
   ],
   "source": [
    "test1_4 = test_acc(model1_4)\n",
    "print(test1_4)\n",
    "val_loss1_4,val_acc1_4,train_loss1_4,train_acc1_4 = get_array(history1_4,43)\n",
    "val_acc1_4 = np.insert(val_acc1_4,0,0)\n",
    "train_acc1_4 = np.insert(train_acc1_4,0,0)"
   ]
  },
  {
   "cell_type": "code",
   "execution_count": 101,
   "metadata": {},
   "outputs": [
    {
     "data": {
      "image/png": "[encoded data removed]",
      "text/plain": [
       "<Figure size 432x288 with 1 Axes>"
      ]
     },
     "metadata": {
      "needs_background": "light"
     },
     "output_type": "display_data"
    }
   ],
   "source": [
    "# plt.plot(val_loss1_2)\n",
    "%matplotlib inline\n",
    "# plt.plot(plt.plot(val_acc1_2))\n",
    "plt.plot(train_acc1_4)\n",
    "plt.plot(val_acc1_4)\n",
    "plt.plot(20,test1_4,'o')\n",
    "plt.title('Model Accurracy: Adam-8Layers-0Dropout')\n",
    "plt.ylabel('Accuracy')\n",
    "plt.xlabel('Epoch')\n",
    "plt.legend(['Train','Validatiaon','Test'], loc='upper left')\n",
    "plt.grid()\n",
    "plt.show()"
   ]
  },
  {
   "cell_type": "markdown",
   "metadata": {},
   "source": [
    "# 2. Model with different Dropout Rates"
   ]
  },
  {
   "cell_type": "code",
   "execution_count": 106,
   "metadata": {},
   "outputs": [],
   "source": [
    "def build_model2(rate):\n",
    "    identifier = Sequential()\n",
    "    Input_1 = Input(shape=(64,64,3))\n",
    "    conv_model = BatchNormalization()(Input_1)\n",
    "    conv_model = Convolution2D(48, (5, 5), activation='relu',padding=\"same\")(conv_model)\n",
    "    conv_model = MaxPooling2D(pool_size=(2, 2), strides=(2,2))(conv_model)\n",
    "    conv_model = Dropout(rate)(conv_model)\n",
    "\n",
    "    conv_model = BatchNormalization()(conv_model)\n",
    "    conv_model = Convolution2D(54, (5, 5), activation='relu',padding=\"same\")(conv_model)\n",
    "    conv_model = MaxPooling2D(pool_size=(2, 2), strides=(1,1))(conv_model)\n",
    "    conv_model = Dropout(rate)(conv_model)\n",
    "\n",
    "    conv_model = BatchNormalization()(conv_model)\n",
    "    conv_model = Convolution2D(128, (5, 5), activation='relu',padding=\"same\")(conv_model)\n",
    "    conv_model = MaxPooling2D(pool_size=(2, 2), strides=(2,2))(conv_model)\n",
    "    conv_model = Dropout(0.1)(conv_model)\n",
    "    conv_model = Dropout(rate)(conv_model)\n",
    "\n",
    "    conv_model = BatchNormalization()(conv_model)\n",
    "    conv_model = Convolution2D(160, (5, 5), activation='relu',padding=\"same\")(conv_model)\n",
    "    conv_model = MaxPooling2D(pool_size=(2, 2), strides=(1,1))(conv_model)\n",
    "    conv_model = Dropout(rate)(conv_model)\n",
    "\n",
    "    conv_model = BatchNormalization()(conv_model)\n",
    "    conv_model = Convolution2D(192, (5, 5), activation='relu',padding=\"same\")(conv_model)\n",
    "    conv_model = MaxPooling2D(pool_size=(2, 2), strides=(2,2))(conv_model)\n",
    "    conv_model = Dropout(rate)(conv_model)\n",
    "\n",
    "    conv_model = BatchNormalization()(conv_model)\n",
    "    conv_model = Convolution2D(192, (5, 5), activation='relu',padding=\"same\")(conv_model)\n",
    "    conv_model = MaxPooling2D(pool_size=(2, 2), strides=(1,1))(conv_model)\n",
    "    conv_model = Dropout(rate)(conv_model)\n",
    "\n",
    "    conv_model = BatchNormalization()(conv_model)\n",
    "    conv_model = Convolution2D(192, (5, 5), activation='relu',padding=\"same\")(conv_model)\n",
    "    conv_model = MaxPooling2D(pool_size=(2, 2), strides=(2,2))(conv_model)\n",
    "    conv_model = Dropout(rate)(conv_model)\n",
    "\n",
    "    conv_model = BatchNormalization()(conv_model)\n",
    "    conv_model = Convolution2D(192, (5, 5), activation='relu',padding=\"same\")(conv_model)\n",
    "    conv_model = MaxPooling2D(pool_size=(2, 2), strides=(1,1))(conv_model)\n",
    "    conv_model = Dropout(rate)(conv_model)\n",
    "\n",
    "    conv_model = Flatten()(conv_model)\n",
    "    conv_model = Dense(1024,activation = 'relu')(conv_model)\n",
    "    conv_model = Dense(512,activation = 'relu')(conv_model)\n",
    "\n",
    "    x1 = Dense(6, activation = 'softmax')(conv_model)\n",
    "    x2 = Dense(11, activation = 'softmax')(conv_model)\n",
    "    x3 = Dense(11, activation = 'softmax')(conv_model)\n",
    "    x4 = Dense(11, activation = 'softmax')(conv_model)\n",
    "    x5 = Dense(11, activation = 'softmax')(conv_model)\n",
    "    x6 = Dense(11, activation = 'softmax')(conv_model)\n",
    "\n",
    "    y = [x1,x2,x3,x4,x5,x6]\n",
    "\n",
    "    identifier = Model(inputs = Input_1, outputs = y)\n",
    "    return identifier"
   ]
  },
  {
   "cell_type": "markdown",
   "metadata": {},
   "source": [
    "## 2.1 Nadam-8Layer-0.3Dropout"
   ]
  },
  {
   "cell_type": "code",
   "execution_count": 107,
   "metadata": {},
   "outputs": [
    {
     "name": "stdout",
     "output_type": "stream",
     "text": [
      "Train on 26721 samples, validate on 6681 samples\n",
      "Epoch 1/20\n",
      "26721/26721 [==============================] - 76s 3ms/step - loss: 6.0082 - dense_59_loss: 0.7440 - dense_60_loss: 1.8362 - dense_61_loss: 2.1150 - dense_62_loss: 1.0802 - dense_63_loss: 0.2202 - dense_64_loss: 0.0109 - dense_59_accuracy: 0.6874 - dense_60_accuracy: 0.3453 - dense_61_accuracy: 0.2623 - dense_62_accuracy: 0.7057 - dense_63_accuracy: 0.9548 - dense_64_accuracy: 0.9974 - val_loss: 4.4463 - val_dense_59_loss: 0.4704 - val_dense_60_loss: 1.3300 - val_dense_61_loss: 1.5851 - val_dense_62_loss: 0.8644 - val_dense_63_loss: 0.2001 - val_dense_64_loss: 0.0029 - val_dense_59_accuracy: 0.8277 - val_dense_60_accuracy: 0.5664 - val_dense_61_accuracy: 0.4784 - val_dense_62_accuracy: 0.7334 - val_dense_63_accuracy: 0.9542 - val_dense_64_accuracy: 0.9997\n",
      "Epoch 2/20\n",
      "26721/26721 [==============================] - 71s 3ms/step - loss: 3.0954 - dense_59_loss: 0.3080 - dense_60_loss: 0.8599 - dense_61_loss: 1.0955 - dense_62_loss: 0.6694 - dense_63_loss: 0.1584 - dense_64_loss: 0.0039 - dense_59_accuracy: 0.8850 - dense_60_accuracy: 0.7148 - dense_61_accuracy: 0.6320 - dense_62_accuracy: 0.7867 - dense_63_accuracy: 0.9591 - dense_64_accuracy: 0.9997 - val_loss: 2.2607 - val_dense_59_loss: 0.2319 - val_dense_60_loss: 0.5320 - val_dense_61_loss: 0.8335 - val_dense_62_loss: 0.5213 - val_dense_63_loss: 0.1396 - val_dense_64_loss: 0.0031 - val_dense_59_accuracy: 0.9162 - val_dense_60_accuracy: 0.8363 - val_dense_61_accuracy: 0.7229 - val_dense_62_accuracy: 0.8351 - val_dense_63_accuracy: 0.9611 - val_dense_64_accuracy: 0.9997\n",
      "Epoch 3/20\n",
      "26721/26721 [==============================] - 71s 3ms/step - loss: 1.9512 - dense_59_loss: 0.1983 - dense_60_loss: 0.5037 - dense_61_loss: 0.6773 - dense_62_loss: 0.4398 - dense_63_loss: 0.1284 - dense_64_loss: 0.0029 - dense_59_accuracy: 0.9314 - dense_60_accuracy: 0.8415 - dense_61_accuracy: 0.7827 - dense_62_accuracy: 0.8598 - dense_63_accuracy: 0.9626 - dense_64_accuracy: 0.9997 - val_loss: 1.4767 - val_dense_59_loss: 0.1413 - val_dense_60_loss: 0.3878 - val_dense_61_loss: 0.4873 - val_dense_62_loss: 0.3366 - val_dense_63_loss: 0.1202 - val_dense_64_loss: 0.0035 - val_dense_59_accuracy: 0.9537 - val_dense_60_accuracy: 0.8836 - val_dense_61_accuracy: 0.8454 - val_dense_62_accuracy: 0.8972 - val_dense_63_accuracy: 0.9647 - val_dense_64_accuracy: 0.9997\n",
      "Epoch 4/20\n",
      "26721/26721 [==============================] - 71s 3ms/step - loss: 1.5396 - dense_59_loss: 0.1542 - dense_60_loss: 0.3939 - dense_61_loss: 0.5286 - dense_62_loss: 0.3491 - dense_63_loss: 0.1113 - dense_64_loss: 0.0024 - dense_59_accuracy: 0.9479 - dense_60_accuracy: 0.8768 - dense_61_accuracy: 0.8344 - dense_62_accuracy: 0.8917 - dense_63_accuracy: 0.9663 - dense_64_accuracy: 0.9997 - val_loss: 1.2841 - val_dense_59_loss: 0.1330 - val_dense_60_loss: 0.3234 - val_dense_61_loss: 0.4255 - val_dense_62_loss: 0.2963 - val_dense_63_loss: 0.1043 - val_dense_64_loss: 0.0027 - val_dense_59_accuracy: 0.9557 - val_dense_60_accuracy: 0.9024 - val_dense_61_accuracy: 0.8686 - val_dense_62_accuracy: 0.9105 - val_dense_63_accuracy: 0.9680 - val_dense_64_accuracy: 0.9997\n",
      "Epoch 5/20\n",
      "26721/26721 [==============================] - 71s 3ms/step - loss: 1.2848 - dense_59_loss: 0.1255 - dense_60_loss: 0.3289 - dense_61_loss: 0.4351 - dense_62_loss: 0.2918 - dense_63_loss: 0.1014 - dense_64_loss: 0.0024 - dense_59_accuracy: 0.9580 - dense_60_accuracy: 0.8991 - dense_61_accuracy: 0.8636 - dense_62_accuracy: 0.9112 - dense_63_accuracy: 0.9689 - dense_64_accuracy: 0.9997 - val_loss: 1.1972 - val_dense_59_loss: 0.1284 - val_dense_60_loss: 0.2943 - val_dense_61_loss: 0.3906 - val_dense_62_loss: 0.2803 - val_dense_63_loss: 0.0989 - val_dense_64_loss: 0.0031 - val_dense_59_accuracy: 0.9602 - val_dense_60_accuracy: 0.9123 - val_dense_61_accuracy: 0.8818 - val_dense_62_accuracy: 0.9199 - val_dense_63_accuracy: 0.9696 - val_dense_64_accuracy: 0.9997\n",
      "Epoch 6/20\n",
      "26721/26721 [==============================] - 71s 3ms/step - loss: 1.1523 - dense_59_loss: 0.1099 - dense_60_loss: 0.2978 - dense_61_loss: 0.3876 - dense_62_loss: 0.2618 - dense_63_loss: 0.0926 - dense_64_loss: 0.0028 - dense_59_accuracy: 0.9635 - dense_60_accuracy: 0.9080 - dense_61_accuracy: 0.8814 - dense_62_accuracy: 0.9191 - dense_63_accuracy: 0.9720 - dense_64_accuracy: 0.9997 - val_loss: 1.1324 - val_dense_59_loss: 0.1325 - val_dense_60_loss: 0.2631 - val_dense_61_loss: 0.3568 - val_dense_62_loss: 0.2673 - val_dense_63_loss: 0.1061 - val_dense_64_loss: 0.0036 - val_dense_59_accuracy: 0.9600 - val_dense_60_accuracy: 0.9210 - val_dense_61_accuracy: 0.8895 - val_dense_62_accuracy: 0.9235 - val_dense_63_accuracy: 0.9719 - val_dense_64_accuracy: 0.9997\n",
      "Epoch 7/20\n",
      "26721/26721 [==============================] - 71s 3ms/step - loss: 1.0414 - dense_59_loss: 0.0983 - dense_60_loss: 0.2713 - dense_61_loss: 0.3522 - dense_62_loss: 0.2329 - dense_63_loss: 0.0850 - dense_64_loss: 0.0020 - dense_59_accuracy: 0.9663 - dense_60_accuracy: 0.9174 - dense_61_accuracy: 0.8924 - dense_62_accuracy: 0.9280 - dense_63_accuracy: 0.9731 - dense_64_accuracy: 0.9997 - val_loss: 1.0755 - val_dense_59_loss: 0.1375 - val_dense_60_loss: 0.2562 - val_dense_61_loss: 0.3370 - val_dense_62_loss: 0.2394 - val_dense_63_loss: 0.1004 - val_dense_64_loss: 0.0035 - val_dense_59_accuracy: 0.9578 - val_dense_60_accuracy: 0.9255 - val_dense_61_accuracy: 0.9029 - val_dense_62_accuracy: 0.9316 - val_dense_63_accuracy: 0.9717 - val_dense_64_accuracy: 0.9997\n",
      "Epoch 8/20\n",
      "26721/26721 [==============================] - 71s 3ms/step - loss: 0.9511 - dense_59_loss: 0.0892 - dense_60_loss: 0.2488 - dense_61_loss: 0.3198 - dense_62_loss: 0.2138 - dense_63_loss: 0.0771 - dense_64_loss: 0.0020 - dense_59_accuracy: 0.9694 - dense_60_accuracy: 0.9262 - dense_61_accuracy: 0.9025 - dense_62_accuracy: 0.9336 - dense_63_accuracy: 0.9755 - dense_64_accuracy: 0.9997 - val_loss: 1.0717 - val_dense_59_loss: 0.1127 - val_dense_60_loss: 0.2809 - val_dense_61_loss: 0.3466 - val_dense_62_loss: 0.2418 - val_dense_63_loss: 0.0850 - val_dense_64_loss: 0.0041 - val_dense_59_accuracy: 0.9624 - val_dense_60_accuracy: 0.9204 - val_dense_61_accuracy: 0.8963 - val_dense_62_accuracy: 0.9310 - val_dense_63_accuracy: 0.9752 - val_dense_64_accuracy: 0.9997\n",
      "Epoch 9/20\n",
      "26721/26721 [==============================] - 71s 3ms/step - loss: 0.8855 - dense_59_loss: 0.0784 - dense_60_loss: 0.2343 - dense_61_loss: 0.2993 - dense_62_loss: 0.2006 - dense_63_loss: 0.0701 - dense_64_loss: 0.0022 - dense_59_accuracy: 0.9717 - dense_60_accuracy: 0.9302 - dense_61_accuracy: 0.9061 - dense_62_accuracy: 0.9374 - dense_63_accuracy: 0.9772 - dense_64_accuracy: 0.9997 - val_loss: 0.9845 - val_dense_59_loss: 0.1084 - val_dense_60_loss: 0.2429 - val_dense_61_loss: 0.3175 - val_dense_62_loss: 0.2376 - val_dense_63_loss: 0.0720 - val_dense_64_loss: 0.0038 - val_dense_59_accuracy: 0.9683 - val_dense_60_accuracy: 0.9329 - val_dense_61_accuracy: 0.9099 - val_dense_62_accuracy: 0.9337 - val_dense_63_accuracy: 0.9792 - val_dense_64_accuracy: 0.9997\n",
      "Epoch 10/20\n",
      "26721/26721 [==============================] - 71s 3ms/step - loss: 0.8165 - dense_59_loss: 0.0710 - dense_60_loss: 0.2194 - dense_61_loss: 0.2765 - dense_62_loss: 0.1851 - dense_63_loss: 0.0630 - dense_64_loss: 0.0015 - dense_59_accuracy: 0.9756 - dense_60_accuracy: 0.9331 - dense_61_accuracy: 0.9127 - dense_62_accuracy: 0.9430 - dense_63_accuracy: 0.9795 - dense_64_accuracy: 0.9997 - val_loss: 1.0766 - val_dense_59_loss: 0.1354 - val_dense_60_loss: 0.2708 - val_dense_61_loss: 0.3460 - val_dense_62_loss: 0.2386 - val_dense_63_loss: 0.0785 - val_dense_64_loss: 0.0051 - val_dense_59_accuracy: 0.9626 - val_dense_60_accuracy: 0.9279 - val_dense_61_accuracy: 0.9038 - val_dense_62_accuracy: 0.9379 - val_dense_63_accuracy: 0.9790 - val_dense_64_accuracy: 0.9997\n",
      "Epoch 11/20\n",
      "26721/26721 [==============================] - 71s 3ms/step - loss: 0.7567 - dense_59_loss: 0.0665 - dense_60_loss: 0.2082 - dense_61_loss: 0.2547 - dense_62_loss: 0.1696 - dense_63_loss: 0.0568 - dense_64_loss: 0.0018 - dense_59_accuracy: 0.9775 - dense_60_accuracy: 0.9356 - dense_61_accuracy: 0.9231 - dense_62_accuracy: 0.9474 - dense_63_accuracy: 0.9824 - dense_64_accuracy: 0.9996 - val_loss: 1.0090 - val_dense_59_loss: 0.1318 - val_dense_60_loss: 0.2309 - val_dense_61_loss: 0.3216 - val_dense_62_loss: 0.2444 - val_dense_63_loss: 0.0745 - val_dense_64_loss: 0.0042 - val_dense_59_accuracy: 0.9642 - val_dense_60_accuracy: 0.9406 - val_dense_61_accuracy: 0.9147 - val_dense_62_accuracy: 0.9338 - val_dense_63_accuracy: 0.9799 - val_dense_64_accuracy: 0.9997\n",
      "Epoch 12/20\n",
      "26721/26721 [==============================] - 71s 3ms/step - loss: 0.7295 - dense_59_loss: 0.0653 - dense_60_loss: 0.1980 - dense_61_loss: 0.2478 - dense_62_loss: 0.1615 - dense_63_loss: 0.0557 - dense_64_loss: 0.0015 - dense_59_accuracy: 0.9780 - dense_60_accuracy: 0.9403 - dense_61_accuracy: 0.9236 - dense_62_accuracy: 0.9484 - dense_63_accuracy: 0.9820 - dense_64_accuracy: 0.9997 - val_loss: 0.9295 - val_dense_59_loss: 0.1124 - val_dense_60_loss: 0.2311 - val_dense_61_loss: 0.2919 - val_dense_62_loss: 0.2116 - val_dense_63_loss: 0.0763 - val_dense_64_loss: 0.0050 - val_dense_59_accuracy: 0.9671 - val_dense_60_accuracy: 0.9368 - val_dense_61_accuracy: 0.9178 - val_dense_62_accuracy: 0.9442 - val_dense_63_accuracy: 0.9780 - val_dense_64_accuracy: 0.9996\n",
      "Epoch 13/20\n",
      "26721/26721 [==============================] - 71s 3ms/step - loss: 0.6799 - dense_59_loss: 0.0580 - dense_60_loss: 0.1845 - dense_61_loss: 0.2332 - dense_62_loss: 0.1493 - dense_63_loss: 0.0533 - dense_64_loss: 0.0019 - dense_59_accuracy: 0.9810 - dense_60_accuracy: 0.9434 - dense_61_accuracy: 0.9279 - dense_62_accuracy: 0.9535 - dense_63_accuracy: 0.9837 - dense_64_accuracy: 0.9996 - val_loss: 0.9197 - val_dense_59_loss: 0.1114 - val_dense_60_loss: 0.2342 - val_dense_61_loss: 0.2886 - val_dense_62_loss: 0.2213 - val_dense_63_loss: 0.0598 - val_dense_64_loss: 0.0041 - val_dense_59_accuracy: 0.9716 - val_dense_60_accuracy: 0.9374 - val_dense_61_accuracy: 0.9213 - val_dense_62_accuracy: 0.9449 - val_dense_63_accuracy: 0.9832 - val_dense_64_accuracy: 0.9997\n",
      "Epoch 14/20\n",
      "26721/26721 [==============================] - 71s 3ms/step - loss: 0.6383 - dense_59_loss: 0.0558 - dense_60_loss: 0.1729 - dense_61_loss: 0.2222 - dense_62_loss: 0.1398 - dense_63_loss: 0.0469 - dense_64_loss: 0.0016 - dense_59_accuracy: 0.9815 - dense_60_accuracy: 0.9455 - dense_61_accuracy: 0.9322 - dense_62_accuracy: 0.9579 - dense_63_accuracy: 0.9853 - dense_64_accuracy: 0.9996 - val_loss: 0.9791 - val_dense_59_loss: 0.1284 - val_dense_60_loss: 0.2540 - val_dense_61_loss: 0.3120 - val_dense_62_loss: 0.2177 - val_dense_63_loss: 0.0609 - val_dense_64_loss: 0.0041 - val_dense_59_accuracy: 0.9660 - val_dense_60_accuracy: 0.9310 - val_dense_61_accuracy: 0.9150 - val_dense_62_accuracy: 0.9461 - val_dense_63_accuracy: 0.9826 - val_dense_64_accuracy: 0.9997\n",
      "Epoch 15/20\n",
      "26721/26721 [==============================] - 71s 3ms/step - loss: 0.6234 - dense_59_loss: 0.0508 - dense_60_loss: 0.1705 - dense_61_loss: 0.2133 - dense_62_loss: 0.1416 - dense_63_loss: 0.0455 - dense_64_loss: 0.0014 - dense_59_accuracy: 0.9823 - dense_60_accuracy: 0.9454 - dense_61_accuracy: 0.9339 - dense_62_accuracy: 0.9546 - dense_63_accuracy: 0.9857 - dense_64_accuracy: 0.9996 - val_loss: 0.9565 - val_dense_59_loss: 0.1190 - val_dense_60_loss: 0.2507 - val_dense_61_loss: 0.3111 - val_dense_62_loss: 0.2011 - val_dense_63_loss: 0.0695 - val_dense_64_loss: 0.0043 - val_dense_59_accuracy: 0.9660 - val_dense_60_accuracy: 0.9338 - val_dense_61_accuracy: 0.9162 - val_dense_62_accuracy: 0.9446 - val_dense_63_accuracy: 0.9834 - val_dense_64_accuracy: 0.9997\n",
      "Epoch 16/20\n",
      "26721/26721 [==============================] - 71s 3ms/step - loss: 0.5863 - dense_59_loss: 0.0466 - dense_60_loss: 0.1689 - dense_61_loss: 0.1922 - dense_62_loss: 0.1329 - dense_63_loss: 0.0441 - dense_64_loss: 0.0015 - dense_59_accuracy: 0.9838 - dense_60_accuracy: 0.9484 - dense_61_accuracy: 0.9376 - dense_62_accuracy: 0.9585 - dense_63_accuracy: 0.9866 - dense_64_accuracy: 0.9997 - val_loss: 0.9678 - val_dense_59_loss: 0.1234 - val_dense_60_loss: 0.2513 - val_dense_61_loss: 0.3039 - val_dense_62_loss: 0.2143 - val_dense_63_loss: 0.0705 - val_dense_64_loss: 0.0045 - val_dense_59_accuracy: 0.9702 - val_dense_60_accuracy: 0.9365 - val_dense_61_accuracy: 0.9228 - val_dense_62_accuracy: 0.9458 - val_dense_63_accuracy: 0.9823 - val_dense_64_accuracy: 0.9997\n",
      "Epoch 17/20\n",
      "26721/26721 [==============================] - 71s 3ms/step - loss: 0.5542 - dense_59_loss: 0.0430 - dense_60_loss: 0.1557 - dense_61_loss: 0.1911 - dense_62_loss: 0.1208 - dense_63_loss: 0.0425 - dense_64_loss: 0.0011 - dense_59_accuracy: 0.9855 - dense_60_accuracy: 0.9521 - dense_61_accuracy: 0.9396 - dense_62_accuracy: 0.9623 - dense_63_accuracy: 0.9864 - dense_64_accuracy: 0.9997 - val_loss: 0.9028 - val_dense_59_loss: 0.1117 - val_dense_60_loss: 0.2178 - val_dense_61_loss: 0.2995 - val_dense_62_loss: 0.2051 - val_dense_63_loss: 0.0647 - val_dense_64_loss: 0.0049 - val_dense_59_accuracy: 0.9686 - val_dense_60_accuracy: 0.9425 - val_dense_61_accuracy: 0.9202 - val_dense_62_accuracy: 0.9503 - val_dense_63_accuracy: 0.9826 - val_dense_64_accuracy: 0.9997\n",
      "Epoch 18/20\n",
      "26721/26721 [==============================] - 71s 3ms/step - loss: 0.5286 - dense_59_loss: 0.0420 - dense_60_loss: 0.1520 - dense_61_loss: 0.1826 - dense_62_loss: 0.1125 - dense_63_loss: 0.0384 - dense_64_loss: 0.0016 - dense_59_accuracy: 0.9858 - dense_60_accuracy: 0.9534 - dense_61_accuracy: 0.9432 - dense_62_accuracy: 0.9644 - dense_63_accuracy: 0.9878 - dense_64_accuracy: 0.9997 - val_loss: 0.9889 - val_dense_59_loss: 0.1329 - val_dense_60_loss: 0.2314 - val_dense_61_loss: 0.3081 - val_dense_62_loss: 0.2420 - val_dense_63_loss: 0.0682 - val_dense_64_loss: 0.0048 - val_dense_59_accuracy: 0.9716 - val_dense_60_accuracy: 0.9416 - val_dense_61_accuracy: 0.9235 - val_dense_62_accuracy: 0.9452 - val_dense_63_accuracy: 0.9832 - val_dense_64_accuracy: 0.9997\n",
      "Epoch 19/20\n",
      "26721/26721 [==============================] - 71s 3ms/step - loss: 0.5228 - dense_59_loss: 0.0415 - dense_60_loss: 0.1452 - dense_61_loss: 0.1787 - dense_62_loss: 0.1142 - dense_63_loss: 0.0419 - dense_64_loss: 0.0013 - dense_59_accuracy: 0.9863 - dense_60_accuracy: 0.9549 - dense_61_accuracy: 0.9441 - dense_62_accuracy: 0.9633 - dense_63_accuracy: 0.9871 - dense_64_accuracy: 0.9996 - val_loss: 0.9355 - val_dense_59_loss: 0.1252 - val_dense_60_loss: 0.2309 - val_dense_61_loss: 0.3027 - val_dense_62_loss: 0.2136 - val_dense_63_loss: 0.0569 - val_dense_64_loss: 0.0049 - val_dense_59_accuracy: 0.9689 - val_dense_60_accuracy: 0.9427 - val_dense_61_accuracy: 0.9253 - val_dense_62_accuracy: 0.9502 - val_dense_63_accuracy: 0.9852 - val_dense_64_accuracy: 0.9997\n",
      "Epoch 20/20\n",
      "26721/26721 [==============================] - 71s 3ms/step - loss: 0.5025 - dense_59_loss: 0.0417 - dense_60_loss: 0.1411 - dense_61_loss: 0.1729 - dense_62_loss: 0.1082 - dense_63_loss: 0.0371 - dense_64_loss: 8.7896e-04 - dense_59_accuracy: 0.9863 - dense_60_accuracy: 0.9582 - dense_61_accuracy: 0.9461 - dense_62_accuracy: 0.9673 - dense_63_accuracy: 0.9884 - dense_64_accuracy: 0.9998 - val_loss: 0.9745 - val_dense_59_loss: 0.1248 - val_dense_60_loss: 0.2407 - val_dense_61_loss: 0.3097 - val_dense_62_loss: 0.2272 - val_dense_63_loss: 0.0662 - val_dense_64_loss: 0.0044 - val_dense_59_accuracy: 0.9728 - val_dense_60_accuracy: 0.9413 - val_dense_61_accuracy: 0.9256 - val_dense_62_accuracy: 0.9511 - val_dense_63_accuracy: 0.9831 - val_dense_64_accuracy: 0.9996\n"
     ]
    }
   ],
   "source": [
    "model2_1= build_model2(0.3)\n",
    "nadam = keras.optimizers.Nadam(learning_rate=0.001, beta_1=0.9, beta_2=0.999)\n",
    "model2_1.compile(optimizer = nadam, loss = \"categorical_crossentropy\",metrics = [\"accuracy\"])\n",
    "history2_1 = model2_1.fit(x=x_train,\n",
    "               y=[y_train_num,y_train_digits[0],y_train_digits[1],y_train_digits[2],y_train_digits[3],y_train_digits[4]],\n",
    "                batch_size=64, epochs=20,verbose=1,validation_split=0.2,shuffle=True)"
   ]
  },
  {
   "cell_type": "code",
   "execution_count": 109,
   "metadata": {},
   "outputs": [
    {
     "name": "stdout",
     "output_type": "stream",
     "text": [
      "['loss', 'dense_59_loss', 'dense_60_loss', 'dense_61_loss', 'dense_62_loss', 'dense_63_loss', 'dense_64_loss', 'dense_59_accuracy', 'dense_60_accuracy', 'dense_61_accuracy', 'dense_62_accuracy', 'dense_63_accuracy', 'dense_64_accuracy']\n"
     ]
    }
   ],
   "source": [
    "print(model2_1.metrics_names)"
   ]
  },
  {
   "cell_type": "code",
   "execution_count": 29,
   "metadata": {},
   "outputs": [
    {
     "name": "stdout",
     "output_type": "stream",
     "text": [
      "0.8297826752372206\n"
     ]
    }
   ],
   "source": [
    "test2_1 = test_acc(model2_1)\n",
    "print(test2_1)\n",
    "val_loss2_1,val_acc2_1,train_loss2_1,train_acc2_1 = get_array(history2_1,59)\n",
    "val_acc2_1 = np.insert(val_acc2_1,0,0)\n",
    "train_acc2_1 = np.insert(train_acc2_1,0,0)"
   ]
  },
  {
   "cell_type": "markdown",
   "metadata": {},
   "source": [
    "## 2.2 Nadam-8Layer-0.5Dropout"
   ]
  },
  {
   "cell_type": "code",
   "execution_count": 108,
   "metadata": {},
   "outputs": [
    {
     "name": "stdout",
     "output_type": "stream",
     "text": [
      "Train on 26721 samples, validate on 6681 samples\n",
      "Epoch 1/20\n",
      "26721/26721 [==============================] - 75s 3ms/step - loss: 6.5021 - dense_67_loss: 0.8321 - dense_68_loss: 2.0229 - dense_69_loss: 2.2677 - dense_70_loss: 1.1403 - dense_71_loss: 0.2291 - dense_72_loss: 0.0092 - dense_67_accuracy: 0.6422 - dense_68_accuracy: 0.2730 - dense_69_accuracy: 0.2080 - dense_70_accuracy: 0.6988 - dense_71_accuracy: 0.9553 - dense_72_accuracy: 0.9988 - val_loss: 5.7312 - val_dense_67_loss: 0.6007 - val_dense_68_loss: 1.8396 - val_dense_69_loss: 2.1058 - val_dense_70_loss: 0.9867 - val_dense_71_loss: 0.1923 - val_dense_72_loss: 0.0029 - val_dense_67_accuracy: 0.7472 - val_dense_68_accuracy: 0.3411 - val_dense_69_accuracy: 0.2693 - val_dense_70_accuracy: 0.7120 - val_dense_71_accuracy: 0.9542 - val_dense_72_accuracy: 0.9997\n",
      "Epoch 2/20\n",
      "26721/26721 [==============================] - 70s 3ms/step - loss: 4.8805 - dense_67_loss: 0.4716 - dense_68_loss: 1.5307 - dense_69_loss: 1.7819 - dense_70_loss: 0.9061 - dense_71_loss: 0.1851 - dense_72_loss: 0.0037 - dense_67_accuracy: 0.8134 - dense_68_accuracy: 0.4654 - dense_69_accuracy: 0.3720 - dense_70_accuracy: 0.7200 - dense_71_accuracy: 0.9571 - dense_72_accuracy: 0.9997 - val_loss: 3.5355 - val_dense_67_loss: 0.2790 - val_dense_68_loss: 1.0762 - val_dense_69_loss: 1.2455 - val_dense_70_loss: 0.7635 - val_dense_71_loss: 0.1649 - val_dense_72_loss: 0.0031 - val_dense_67_accuracy: 0.9002 - val_dense_68_accuracy: 0.6200 - val_dense_69_accuracy: 0.5643 - val_dense_70_accuracy: 0.7439 - val_dense_71_accuracy: 0.9548 - val_dense_72_accuracy: 0.9997\n",
      "Epoch 3/20\n",
      "26721/26721 [==============================] - 71s 3ms/step - loss: 3.2718 - dense_67_loss: 0.2952 - dense_68_loss: 0.9290 - dense_69_loss: 1.1860 - dense_70_loss: 0.7030 - dense_71_loss: 0.1547 - dense_72_loss: 0.0034 - dense_67_accuracy: 0.8934 - dense_68_accuracy: 0.6837 - dense_69_accuracy: 0.5922 - dense_70_accuracy: 0.7721 - dense_71_accuracy: 0.9592 - dense_72_accuracy: 0.9997 - val_loss: 2.3962 - val_dense_67_loss: 0.2319 - val_dense_68_loss: 0.6645 - val_dense_69_loss: 0.8037 - val_dense_70_loss: 0.5217 - val_dense_71_loss: 0.1691 - val_dense_72_loss: 0.0041 - val_dense_67_accuracy: 0.9171 - val_dense_68_accuracy: 0.7854 - val_dense_69_accuracy: 0.7310 - val_dense_70_accuracy: 0.8288 - val_dense_71_accuracy: 0.9526 - val_dense_72_accuracy: 0.9997\n",
      "Epoch 4/20\n",
      "26721/26721 [==============================] - 72s 3ms/step - loss: 2.4822 - dense_67_loss: 0.2265 - dense_68_loss: 0.6841 - dense_69_loss: 0.8850 - dense_70_loss: 0.5423 - dense_71_loss: 0.1405 - dense_72_loss: 0.0028 - dense_67_accuracy: 0.9199 - dense_68_accuracy: 0.7793 - dense_69_accuracy: 0.7075 - dense_70_accuracy: 0.8249 - dense_71_accuracy: 0.9598 - dense_72_accuracy: 0.9997 - val_loss: 1.7338 - val_dense_67_loss: 0.1505 - val_dense_68_loss: 0.4432 - val_dense_69_loss: 0.6175 - val_dense_70_loss: 0.3955 - val_dense_71_loss: 0.1231 - val_dense_72_loss: 0.0031 - val_dense_67_accuracy: 0.9499 - val_dense_68_accuracy: 0.8644 - val_dense_69_accuracy: 0.8002 - val_dense_70_accuracy: 0.8750 - val_dense_71_accuracy: 0.9618 - val_dense_72_accuracy: 0.9997\n",
      "Epoch 5/20\n",
      "26721/26721 [==============================] - 71s 3ms/step - loss: 2.0537 - dense_67_loss: 0.1867 - dense_68_loss: 0.5451 - dense_69_loss: 0.7307 - dense_70_loss: 0.4602 - dense_71_loss: 0.1284 - dense_72_loss: 0.0029 - dense_67_accuracy: 0.9351 - dense_68_accuracy: 0.8279 - dense_69_accuracy: 0.7614 - dense_70_accuracy: 0.8539 - dense_71_accuracy: 0.9621 - dense_72_accuracy: 0.9997 - val_loss: 1.6249 - val_dense_67_loss: 0.1572 - val_dense_68_loss: 0.3982 - val_dense_69_loss: 0.5803 - val_dense_70_loss: 0.3658 - val_dense_71_loss: 0.1205 - val_dense_72_loss: 0.0025 - val_dense_67_accuracy: 0.9488 - val_dense_68_accuracy: 0.8809 - val_dense_69_accuracy: 0.8175 - val_dense_70_accuracy: 0.8897 - val_dense_71_accuracy: 0.9621 - val_dense_72_accuracy: 0.9997\n",
      "Epoch 6/20\n",
      "26721/26721 [==============================] - 72s 3ms/step - loss: 1.8417 - dense_67_loss: 0.1688 - dense_68_loss: 0.4862 - dense_69_loss: 0.6502 - dense_70_loss: 0.4129 - dense_71_loss: 0.1201 - dense_72_loss: 0.0030 - dense_67_accuracy: 0.9431 - dense_68_accuracy: 0.8487 - dense_69_accuracy: 0.7925 - dense_70_accuracy: 0.8703 - dense_71_accuracy: 0.9640 - dense_72_accuracy: 0.9997 - val_loss: 1.3021 - val_dense_67_loss: 0.1230 - val_dense_68_loss: 0.3146 - val_dense_69_loss: 0.4483 - val_dense_70_loss: 0.3051 - val_dense_71_loss: 0.1076 - val_dense_72_loss: 0.0025 - val_dense_67_accuracy: 0.9606 - val_dense_68_accuracy: 0.9082 - val_dense_69_accuracy: 0.8633 - val_dense_70_accuracy: 0.9096 - val_dense_71_accuracy: 0.9656 - val_dense_72_accuracy: 0.9997\n",
      "Epoch 7/20\n",
      "26721/26721 [==============================] - 72s 3ms/step - loss: 1.6750 - dense_67_loss: 0.1530 - dense_68_loss: 0.4384 - dense_69_loss: 0.5883 - dense_70_loss: 0.3781 - dense_71_loss: 0.1141 - dense_72_loss: 0.0027 - dense_67_accuracy: 0.9482 - dense_68_accuracy: 0.8672 - dense_69_accuracy: 0.8163 - dense_70_accuracy: 0.8815 - dense_71_accuracy: 0.9655 - dense_72_accuracy: 0.9997 - val_loss: 1.2863 - val_dense_67_loss: 0.1249 - val_dense_68_loss: 0.3093 - val_dense_69_loss: 0.4453 - val_dense_70_loss: 0.2948 - val_dense_71_loss: 0.1091 - val_dense_72_loss: 0.0024 - val_dense_67_accuracy: 0.9612 - val_dense_68_accuracy: 0.9075 - val_dense_69_accuracy: 0.8663 - val_dense_70_accuracy: 0.9132 - val_dense_71_accuracy: 0.9681 - val_dense_72_accuracy: 0.9997\n",
      "Epoch 8/20\n",
      "26721/26721 [==============================] - 71s 3ms/step - loss: 1.5576 - dense_67_loss: 0.1423 - dense_68_loss: 0.4103 - dense_69_loss: 0.5414 - dense_70_loss: 0.3491 - dense_71_loss: 0.1114 - dense_72_loss: 0.0026 - dense_67_accuracy: 0.9520 - dense_68_accuracy: 0.8742 - dense_69_accuracy: 0.8301 - dense_70_accuracy: 0.8903 - dense_71_accuracy: 0.9668 - dense_72_accuracy: 0.9997 - val_loss: 1.1586 - val_dense_67_loss: 0.1177 - val_dense_68_loss: 0.2756 - val_dense_69_loss: 0.3835 - val_dense_70_loss: 0.2721 - val_dense_71_loss: 0.1059 - val_dense_72_loss: 0.0030 - val_dense_67_accuracy: 0.9636 - val_dense_68_accuracy: 0.9208 - val_dense_69_accuracy: 0.8877 - val_dense_70_accuracy: 0.9186 - val_dense_71_accuracy: 0.9681 - val_dense_72_accuracy: 0.9997\n",
      "Epoch 9/20\n",
      "26721/26721 [==============================] - 71s 3ms/step - loss: 1.4634 - dense_67_loss: 0.1347 - dense_68_loss: 0.3781 - dense_69_loss: 0.5126 - dense_70_loss: 0.3297 - dense_71_loss: 0.1070 - dense_72_loss: 0.0018 - dense_67_accuracy: 0.9557 - dense_68_accuracy: 0.8837 - dense_69_accuracy: 0.8401 - dense_70_accuracy: 0.8973 - dense_71_accuracy: 0.9667 - dense_72_accuracy: 0.9997 - val_loss: 1.1479 - val_dense_67_loss: 0.1171 - val_dense_68_loss: 0.2742 - val_dense_69_loss: 0.3781 - val_dense_70_loss: 0.2679 - val_dense_71_loss: 0.1077 - val_dense_72_loss: 0.0024 - val_dense_67_accuracy: 0.9635 - val_dense_68_accuracy: 0.9184 - val_dense_69_accuracy: 0.8870 - val_dense_70_accuracy: 0.9241 - val_dense_71_accuracy: 0.9671 - val_dense_72_accuracy: 0.9997\n",
      "Epoch 10/20\n",
      "26721/26721 [==============================] - 72s 3ms/step - loss: 1.4187 - dense_67_loss: 0.1291 - dense_68_loss: 0.3750 - dense_69_loss: 0.4914 - dense_70_loss: 0.3185 - dense_71_loss: 0.1018 - dense_72_loss: 0.0025 - dense_67_accuracy: 0.9560 - dense_68_accuracy: 0.8865 - dense_69_accuracy: 0.8466 - dense_70_accuracy: 0.9022 - dense_71_accuracy: 0.9687 - dense_72_accuracy: 0.9997 - val_loss: 1.1455 - val_dense_67_loss: 0.1165 - val_dense_68_loss: 0.2828 - val_dense_69_loss: 0.3799 - val_dense_70_loss: 0.2595 - val_dense_71_loss: 0.1014 - val_dense_72_loss: 0.0036 - val_dense_67_accuracy: 0.9632 - val_dense_68_accuracy: 0.9189 - val_dense_69_accuracy: 0.8889 - val_dense_70_accuracy: 0.9240 - val_dense_71_accuracy: 0.9665 - val_dense_72_accuracy: 0.9997\n",
      "Epoch 11/20\n",
      "26721/26721 [==============================] - 72s 3ms/step - loss: 1.3366 - dense_67_loss: 0.1207 - dense_68_loss: 0.3442 - dense_69_loss: 0.4673 - dense_70_loss: 0.3032 - dense_71_loss: 0.0990 - dense_72_loss: 0.0022 - dense_67_accuracy: 0.9600 - dense_68_accuracy: 0.8968 - dense_69_accuracy: 0.8536 - dense_70_accuracy: 0.9061 - dense_71_accuracy: 0.9693 - dense_72_accuracy: 0.9997 - val_loss: 1.0991 - val_dense_67_loss: 0.1103 - val_dense_68_loss: 0.2694 - val_dense_69_loss: 0.3668 - val_dense_70_loss: 0.2515 - val_dense_71_loss: 0.0960 - val_dense_72_loss: 0.0029 - val_dense_67_accuracy: 0.9644 - val_dense_68_accuracy: 0.9195 - val_dense_69_accuracy: 0.8921 - val_dense_70_accuracy: 0.9280 - val_dense_71_accuracy: 0.9696 - val_dense_72_accuracy: 0.9997\n",
      "Epoch 12/20\n",
      "26721/26721 [==============================] - 72s 3ms/step - loss: 1.2989 - dense_67_loss: 0.1171 - dense_68_loss: 0.3423 - dense_69_loss: 0.4525 - dense_70_loss: 0.2880 - dense_71_loss: 0.0964 - dense_72_loss: 0.0025 - dense_67_accuracy: 0.9613 - dense_68_accuracy: 0.8973 - dense_69_accuracy: 0.8611 - dense_70_accuracy: 0.9101 - dense_71_accuracy: 0.9698 - dense_72_accuracy: 0.9997 - val_loss: 1.0412 - val_dense_67_loss: 0.1077 - val_dense_68_loss: 0.2561 - val_dense_69_loss: 0.3322 - val_dense_70_loss: 0.2493 - val_dense_71_loss: 0.0921 - val_dense_72_loss: 0.0033 - val_dense_67_accuracy: 0.9669 - val_dense_68_accuracy: 0.9271 - val_dense_69_accuracy: 0.9036 - val_dense_70_accuracy: 0.9283 - val_dense_71_accuracy: 0.9726 - val_dense_72_accuracy: 0.9997\n",
      "Epoch 13/20\n",
      "26721/26721 [==============================] - 72s 3ms/step - loss: 1.2529 - dense_67_loss: 0.1120 - dense_68_loss: 0.3304 - dense_69_loss: 0.4316 - dense_70_loss: 0.2844 - dense_71_loss: 0.0928 - dense_72_loss: 0.0021 - dense_67_accuracy: 0.9639 - dense_68_accuracy: 0.9011 - dense_69_accuracy: 0.8678 - dense_70_accuracy: 0.9127 - dense_71_accuracy: 0.9711 - dense_72_accuracy: 0.9997 - val_loss: 0.9973 - val_dense_67_loss: 0.0984 - val_dense_68_loss: 0.2400 - val_dense_69_loss: 0.3244 - val_dense_70_loss: 0.2408 - val_dense_71_loss: 0.0889 - val_dense_72_loss: 0.0032 - val_dense_67_accuracy: 0.9689 - val_dense_68_accuracy: 0.9335 - val_dense_69_accuracy: 0.9057 - val_dense_70_accuracy: 0.9304 - val_dense_71_accuracy: 0.9725 - val_dense_72_accuracy: 0.9997\n",
      "Epoch 14/20\n",
      "26721/26721 [==============================] - 72s 3ms/step - loss: 1.2047 - dense_67_loss: 0.1033 - dense_68_loss: 0.3128 - dense_69_loss: 0.4232 - dense_70_loss: 0.2715 - dense_71_loss: 0.0911 - dense_72_loss: 0.0022 - dense_67_accuracy: 0.9656 - dense_68_accuracy: 0.9060 - dense_69_accuracy: 0.8676 - dense_70_accuracy: 0.9162 - dense_71_accuracy: 0.9722 - dense_72_accuracy: 0.9997 - val_loss: 0.9978 - val_dense_67_loss: 0.1013 - val_dense_68_loss: 0.2424 - val_dense_69_loss: 0.3226 - val_dense_70_loss: 0.2314 - val_dense_71_loss: 0.0936 - val_dense_72_loss: 0.0035 - val_dense_67_accuracy: 0.9695 - val_dense_68_accuracy: 0.9317 - val_dense_69_accuracy: 0.9044 - val_dense_70_accuracy: 0.9323 - val_dense_71_accuracy: 0.9716 - val_dense_72_accuracy: 0.9997\n",
      "Epoch 15/20\n",
      "26721/26721 [==============================] - 71s 3ms/step - loss: 1.1918 - dense_67_loss: 0.1085 - dense_68_loss: 0.3112 - dense_69_loss: 0.4099 - dense_70_loss: 0.2707 - dense_71_loss: 0.0887 - dense_72_loss: 0.0020 - dense_67_accuracy: 0.9635 - dense_68_accuracy: 0.9048 - dense_69_accuracy: 0.8751 - dense_70_accuracy: 0.9177 - dense_71_accuracy: 0.9722 - dense_72_accuracy: 0.9997 - val_loss: 1.0223 - val_dense_67_loss: 0.1132 - val_dense_68_loss: 0.2523 - val_dense_69_loss: 0.3198 - val_dense_70_loss: 0.2349 - val_dense_71_loss: 0.0970 - val_dense_72_loss: 0.0026 - val_dense_67_accuracy: 0.9668 - val_dense_68_accuracy: 0.9317 - val_dense_69_accuracy: 0.9108 - val_dense_70_accuracy: 0.9347 - val_dense_71_accuracy: 0.9725 - val_dense_72_accuracy: 0.9997\n",
      "Epoch 16/20\n",
      "26721/26721 [==============================] - 71s 3ms/step - loss: 1.1642 - dense_67_loss: 0.1043 - dense_68_loss: 0.3052 - dense_69_loss: 0.4019 - dense_70_loss: 0.2627 - dense_71_loss: 0.0877 - dense_72_loss: 0.0024 - dense_67_accuracy: 0.9647 - dense_68_accuracy: 0.9087 - dense_69_accuracy: 0.8780 - dense_70_accuracy: 0.9183 - dense_71_accuracy: 0.9731 - dense_72_accuracy: 0.9997 - val_loss: 0.9819 - val_dense_67_loss: 0.1113 - val_dense_68_loss: 0.2370 - val_dense_69_loss: 0.3203 - val_dense_70_loss: 0.2236 - val_dense_71_loss: 0.0853 - val_dense_72_loss: 0.0030 - val_dense_67_accuracy: 0.9659 - val_dense_68_accuracy: 0.9322 - val_dense_69_accuracy: 0.9106 - val_dense_70_accuracy: 0.9383 - val_dense_71_accuracy: 0.9744 - val_dense_72_accuracy: 0.9997\n",
      "Epoch 17/20\n",
      "26721/26721 [==============================] - 71s 3ms/step - loss: 1.0971 - dense_67_loss: 0.0923 - dense_68_loss: 0.2894 - dense_69_loss: 0.3850 - dense_70_loss: 0.2489 - dense_71_loss: 0.0792 - dense_72_loss: 0.0021 - dense_67_accuracy: 0.9691 - dense_68_accuracy: 0.9140 - dense_69_accuracy: 0.8822 - dense_70_accuracy: 0.9230 - dense_71_accuracy: 0.9747 - dense_72_accuracy: 0.9997 - val_loss: 0.9764 - val_dense_67_loss: 0.1040 - val_dense_68_loss: 0.2310 - val_dense_69_loss: 0.3207 - val_dense_70_loss: 0.2316 - val_dense_71_loss: 0.0839 - val_dense_72_loss: 0.0039 - val_dense_67_accuracy: 0.9689 - val_dense_68_accuracy: 0.9373 - val_dense_69_accuracy: 0.9078 - val_dense_70_accuracy: 0.9356 - val_dense_71_accuracy: 0.9768 - val_dense_72_accuracy: 0.9997\n",
      "Epoch 18/20\n",
      "26721/26721 [==============================] - 71s 3ms/step - loss: 1.1052 - dense_67_loss: 0.0994 - dense_68_loss: 0.2925 - dense_69_loss: 0.3810 - dense_70_loss: 0.2517 - dense_71_loss: 0.0781 - dense_72_loss: 0.0021 - dense_67_accuracy: 0.9676 - dense_68_accuracy: 0.9132 - dense_69_accuracy: 0.8839 - dense_70_accuracy: 0.9224 - dense_71_accuracy: 0.9749 - dense_72_accuracy: 0.9997 - val_loss: 0.9532 - val_dense_67_loss: 0.0990 - val_dense_68_loss: 0.2340 - val_dense_69_loss: 0.3193 - val_dense_70_loss: 0.2180 - val_dense_71_loss: 0.0787 - val_dense_72_loss: 0.0027 - val_dense_67_accuracy: 0.9693 - val_dense_68_accuracy: 0.9376 - val_dense_69_accuracy: 0.9097 - val_dense_70_accuracy: 0.9380 - val_dense_71_accuracy: 0.9755 - val_dense_72_accuracy: 0.9997\n",
      "Epoch 19/20\n",
      "26721/26721 [==============================] - 72s 3ms/step - loss: 1.0820 - dense_67_loss: 0.0914 - dense_68_loss: 0.2919 - dense_69_loss: 0.3696 - dense_70_loss: 0.2492 - dense_71_loss: 0.0783 - dense_72_loss: 0.0024 - dense_67_accuracy: 0.9686 - dense_68_accuracy: 0.9144 - dense_69_accuracy: 0.8869 - dense_70_accuracy: 0.9221 - dense_71_accuracy: 0.9759 - dense_72_accuracy: 0.9997 - val_loss: 0.9872 - val_dense_67_loss: 0.1035 - val_dense_68_loss: 0.2497 - val_dense_69_loss: 0.3261 - val_dense_70_loss: 0.2225 - val_dense_71_loss: 0.0814 - val_dense_72_loss: 0.0033 - val_dense_67_accuracy: 0.9678 - val_dense_68_accuracy: 0.9310 - val_dense_69_accuracy: 0.9059 - val_dense_70_accuracy: 0.9395 - val_dense_71_accuracy: 0.9753 - val_dense_72_accuracy: 0.9997\n",
      "Epoch 20/20\n",
      "26721/26721 [==============================] - 71s 3ms/step - loss: 1.0366 - dense_67_loss: 0.0890 - dense_68_loss: 0.2758 - dense_69_loss: 0.3610 - dense_70_loss: 0.2327 - dense_71_loss: 0.0768 - dense_72_loss: 0.0019 - dense_67_accuracy: 0.9707 - dense_68_accuracy: 0.9175 - dense_69_accuracy: 0.8897 - dense_70_accuracy: 0.9279 - dense_71_accuracy: 0.9765 - dense_72_accuracy: 0.9997 - val_loss: 0.9233 - val_dense_67_loss: 0.1018 - val_dense_68_loss: 0.2305 - val_dense_69_loss: 0.3009 - val_dense_70_loss: 0.2080 - val_dense_71_loss: 0.0766 - val_dense_72_loss: 0.0044 - val_dense_67_accuracy: 0.9696 - val_dense_68_accuracy: 0.9362 - val_dense_69_accuracy: 0.9169 - val_dense_70_accuracy: 0.9430 - val_dense_71_accuracy: 0.9768 - val_dense_72_accuracy: 0.9997\n"
     ]
    }
   ],
   "source": [
    "model2_2= build_model2(0.5)\n",
    "nadam = keras.optimizers.Nadam(learning_rate=0.001, beta_1=0.9, beta_2=0.999)\n",
    "model2_2.compile(optimizer = nadam, loss = \"categorical_crossentropy\",metrics = [\"accuracy\"])\n",
    "history2_2 = model2_2.fit(x=x_train,\n",
    "               y=[y_train_num,y_train_digits[0],y_train_digits[1],y_train_digits[2],y_train_digits[3],y_train_digits[4]],\n",
    "                batch_size=64, epochs=20,verbose=1,validation_split=0.2,shuffle=True)"
   ]
  },
  {
   "cell_type": "code",
   "execution_count": 112,
   "metadata": {},
   "outputs": [
    {
     "name": "stdout",
     "output_type": "stream",
     "text": [
      "['loss', 'dense_67_loss', 'dense_68_loss', 'dense_69_loss', 'dense_70_loss', 'dense_71_loss', 'dense_72_loss', 'dense_67_accuracy', 'dense_68_accuracy', 'dense_69_accuracy', 'dense_70_accuracy', 'dense_71_accuracy', 'dense_72_accuracy']\n"
     ]
    }
   ],
   "source": [
    "print(model2_2.metrics_names)"
   ]
  },
  {
   "cell_type": "code",
   "execution_count": 30,
   "metadata": {},
   "outputs": [
    {
     "name": "stdout",
     "output_type": "stream",
     "text": [
      "0.7260330578512396\n"
     ]
    }
   ],
   "source": [
    "test2_2 = test_acc(model2_2)\n",
    "print(test2_2)\n",
    "val_loss2_2,val_acc2_2,train_loss2_2,train_acc2_2 = get_array(history2_2,67)\n",
    "val_acc2_2 = np.insert(val_acc2_2,0,0)\n",
    "train_acc2_2 = np.insert(train_acc2_2,0,0)"
   ]
  },
  {
   "cell_type": "markdown",
   "metadata": {},
   "source": [
    "# 3. Model with different hidden layers\n"
   ]
  },
  {
   "cell_type": "markdown",
   "metadata": {},
   "source": [
    "## 3.1 Adam-2Layer-0Dropout"
   ]
  },
  {
   "cell_type": "code",
   "execution_count": 119,
   "metadata": {},
   "outputs": [],
   "source": [
    "# 3.1 model with 2 hidden layers\n",
    "def build_model3():\n",
    "    identifier = Sequential()\n",
    "    Input_1 = Input(shape=(64,64,3))\n",
    "    conv_model = BatchNormalization()(Input_1)\n",
    "    conv_model = Convolution2D(48, (5, 5), activation='relu',padding=\"same\")(conv_model)\n",
    "    conv_model = MaxPooling2D(pool_size=(2, 2), strides=(2,2))(conv_model)\n",
    "\n",
    "    conv_model = BatchNormalization()(conv_model)\n",
    "    conv_model = Convolution2D(128, (5, 5), activation='relu',padding=\"same\")(conv_model)\n",
    "    conv_model = MaxPooling2D(pool_size=(2, 2), strides=(1,1))(conv_model)\n",
    "\n",
    "    conv_model = Flatten()(conv_model)\n",
    "    conv_model = Dense(1024,activation = 'relu')(conv_model)\n",
    "    conv_model = Dense(512,activation = 'relu')(conv_model)\n",
    "\n",
    "    x1 = Dense(6, activation = 'softmax')(conv_model)\n",
    "    x2 = Dense(11, activation = 'softmax')(conv_model)\n",
    "    x3 = Dense(11, activation = 'softmax')(conv_model)\n",
    "    x4 = Dense(11, activation = 'softmax')(conv_model)\n",
    "    x5 = Dense(11, activation = 'softmax')(conv_model)\n",
    "    x6 = Dense(11, activation = 'softmax')(conv_model)\n",
    "    \n",
    "    y = [x1,x2,x3,x4,x5,x6]\n",
    "    identifier = Model(inputs = Input_1, outputs = y)\n",
    "    return identifier"
   ]
  },
  {
   "cell_type": "code",
   "execution_count": 121,
   "metadata": {},
   "outputs": [
    {
     "name": "stdout",
     "output_type": "stream",
     "text": [
      "Train on 26721 samples, validate on 6681 samples\n",
      "Epoch 1/20\n",
      "26721/26721 [==============================] - 95s 4ms/step - loss: 40.4872 - dense_91_loss: 7.3854 - dense_92_loss: 13.0339 - dense_93_loss: 14.4824 - dense_94_loss: 4.8875 - dense_95_loss: 0.6920 - dense_96_loss: 0.0106 - dense_91_accuracy: 0.5402 - dense_92_accuracy: 0.1895 - dense_93_accuracy: 0.0996 - dense_94_accuracy: 0.6950 - dense_95_accuracy: 0.9551 - dense_96_accuracy: 0.9975 - val_loss: 40.4967 - val_dense_91_loss: 7.2591 - val_dense_92_loss: 13.0858 - val_dense_93_loss: 14.4988 - val_dense_94_loss: 4.8888 - val_dense_95_loss: 0.7339 - val_dense_96_loss: 0.0048 - val_dense_91_accuracy: 0.5489 - val_dense_92_accuracy: 0.1883 - val_dense_93_accuracy: 0.1006 - val_dense_94_accuracy: 0.6959 - val_dense_95_accuracy: 0.9542 - val_dense_96_accuracy: 0.9997\n",
      "Epoch 2/20\n",
      "26721/26721 [==============================] - 92s 3ms/step - loss: 40.5507 - dense_91_loss: 7.3939 - dense_92_loss: 13.0637 - dense_93_loss: 14.5143 - dense_94_loss: 4.8883 - dense_95_loss: 0.6862 - dense_96_loss: 0.0048 - dense_91_accuracy: 0.5413 - dense_92_accuracy: 0.1895 - dense_93_accuracy: 0.0995 - dense_94_accuracy: 0.6968 - dense_95_accuracy: 0.9574 - dense_96_accuracy: 0.9997 - val_loss: 40.4967 - val_dense_91_loss: 7.2591 - val_dense_92_loss: 13.0858 - val_dense_93_loss: 14.4988 - val_dense_94_loss: 4.8888 - val_dense_95_loss: 0.7339 - val_dense_96_loss: 0.0048 - val_dense_91_accuracy: 0.5489 - val_dense_92_accuracy: 0.1883 - val_dense_93_accuracy: 0.1006 - val_dense_94_accuracy: 0.6959 - val_dense_95_accuracy: 0.9542 - val_dense_96_accuracy: 0.9997\n",
      "Epoch 3/20\n",
      "26721/26721 [==============================] - 92s 3ms/step - loss: 40.5507 - dense_91_loss: 7.3945 - dense_92_loss: 13.0659 - dense_93_loss: 14.5137 - dense_94_loss: 4.8883 - dense_95_loss: 0.6856 - dense_96_loss: 0.0048 - dense_91_accuracy: 0.5413 - dense_92_accuracy: 0.1895 - dense_93_accuracy: 0.0995 - dense_94_accuracy: 0.6968 - dense_95_accuracy: 0.9574 - dense_96_accuracy: 0.9997 - val_loss: 40.4967 - val_dense_91_loss: 7.2591 - val_dense_92_loss: 13.0858 - val_dense_93_loss: 14.4988 - val_dense_94_loss: 4.8888 - val_dense_95_loss: 0.7339 - val_dense_96_loss: 0.0048 - val_dense_91_accuracy: 0.5489 - val_dense_92_accuracy: 0.1883 - val_dense_93_accuracy: 0.1006 - val_dense_94_accuracy: 0.6959 - val_dense_95_accuracy: 0.9542 - val_dense_96_accuracy: 0.9997\n",
      "Epoch 4/20\n",
      "26721/26721 [==============================] - 92s 3ms/step - loss: 40.5507 - dense_91_loss: 7.3962 - dense_92_loss: 13.0648 - dense_93_loss: 14.5143 - dense_94_loss: 4.8894 - dense_95_loss: 0.6868 - dense_96_loss: 0.0048 - dense_91_accuracy: 0.5413 - dense_92_accuracy: 0.1895 - dense_93_accuracy: 0.0995 - dense_94_accuracy: 0.6968 - dense_95_accuracy: 0.9574 - dense_96_accuracy: 0.9997 - val_loss: 40.4967 - val_dense_91_loss: 7.2591 - val_dense_92_loss: 13.0858 - val_dense_93_loss: 14.4988 - val_dense_94_loss: 4.8888 - val_dense_95_loss: 0.7339 - val_dense_96_loss: 0.0048 - val_dense_91_accuracy: 0.5489 - val_dense_92_accuracy: 0.1883 - val_dense_93_accuracy: 0.1006 - val_dense_94_accuracy: 0.6959 - val_dense_95_accuracy: 0.9542 - val_dense_96_accuracy: 0.9997\n",
      "Epoch 5/20\n",
      "26721/26721 [==============================] - 92s 3ms/step - loss: 40.5507 - dense_91_loss: 7.3956 - dense_92_loss: 13.0637 - dense_93_loss: 14.5154 - dense_94_loss: 4.8872 - dense_95_loss: 0.6856 - dense_96_loss: 0.0048 - dense_91_accuracy: 0.5413 - dense_92_accuracy: 0.1895 - dense_93_accuracy: 0.0995 - dense_94_accuracy: 0.6968 - dense_95_accuracy: 0.9574 - dense_96_accuracy: 0.9997 - val_loss: 40.4967 - val_dense_91_loss: 7.2591 - val_dense_92_loss: 13.0858 - val_dense_93_loss: 14.4988 - val_dense_94_loss: 4.8888 - val_dense_95_loss: 0.7339 - val_dense_96_loss: 0.0048 - val_dense_91_accuracy: 0.5489 - val_dense_92_accuracy: 0.1883 - val_dense_93_accuracy: 0.1006 - val_dense_94_accuracy: 0.6959 - val_dense_95_accuracy: 0.9542 - val_dense_96_accuracy: 0.9997\n",
      "Epoch 6/20\n",
      "26721/26721 [==============================] - 92s 3ms/step - loss: 40.5507 - dense_91_loss: 7.3922 - dense_92_loss: 13.0654 - dense_93_loss: 14.5126 - dense_94_loss: 4.8860 - dense_95_loss: 0.6856 - dense_96_loss: 0.0048 - dense_91_accuracy: 0.5413 - dense_92_accuracy: 0.1895 - dense_93_accuracy: 0.0995 - dense_94_accuracy: 0.6968 - dense_95_accuracy: 0.9574 - dense_96_accuracy: 0.9997 - val_loss: 40.4967 - val_dense_91_loss: 7.2591 - val_dense_92_loss: 13.0858 - val_dense_93_loss: 14.4988 - val_dense_94_loss: 4.8888 - val_dense_95_loss: 0.7339 - val_dense_96_loss: 0.0048 - val_dense_91_accuracy: 0.5489 - val_dense_92_accuracy: 0.1883 - val_dense_93_accuracy: 0.1006 - val_dense_94_accuracy: 0.6959 - val_dense_95_accuracy: 0.9542 - val_dense_96_accuracy: 0.9997\n",
      "Epoch 7/20\n",
      "26721/26721 [==============================] - 92s 3ms/step - loss: 40.5507 - dense_91_loss: 7.3939 - dense_92_loss: 13.0654 - dense_93_loss: 14.5149 - dense_94_loss: 4.8872 - dense_95_loss: 0.6856 - dense_96_loss: 0.0048 - dense_91_accuracy: 0.5413 - dense_92_accuracy: 0.1895 - dense_93_accuracy: 0.0995 - dense_94_accuracy: 0.6968 - dense_95_accuracy: 0.9574 - dense_96_accuracy: 0.9997 - val_loss: 40.4967 - val_dense_91_loss: 7.2591 - val_dense_92_loss: 13.0858 - val_dense_93_loss: 14.4988 - val_dense_94_loss: 4.8888 - val_dense_95_loss: 0.7339 - val_dense_96_loss: 0.0048 - val_dense_91_accuracy: 0.5489 - val_dense_92_accuracy: 0.1883 - val_dense_93_accuracy: 0.1006 - val_dense_94_accuracy: 0.6959 - val_dense_95_accuracy: 0.9542 - val_dense_96_accuracy: 0.9997\n",
      "Epoch 8/20\n",
      "26721/26721 [==============================] - 92s 3ms/step - loss: 40.5507 - dense_91_loss: 7.3928 - dense_92_loss: 13.0637 - dense_93_loss: 14.5120 - dense_94_loss: 4.8877 - dense_95_loss: 0.6873 - dense_96_loss: 0.0048 - dense_91_accuracy: 0.5413 - dense_92_accuracy: 0.1895 - dense_93_accuracy: 0.0995 - dense_94_accuracy: 0.6968 - dense_95_accuracy: 0.9574 - dense_96_accuracy: 0.9997 - val_loss: 40.4967 - val_dense_91_loss: 7.2591 - val_dense_92_loss: 13.0858 - val_dense_93_loss: 14.4988 - val_dense_94_loss: 4.8888 - val_dense_95_loss: 0.7339 - val_dense_96_loss: 0.0048 - val_dense_91_accuracy: 0.5489 - val_dense_92_accuracy: 0.1883 - val_dense_93_accuracy: 0.1006 - val_dense_94_accuracy: 0.6959 - val_dense_95_accuracy: 0.9542 - val_dense_96_accuracy: 0.9997\n",
      "Epoch 9/20\n",
      "26721/26721 [==============================] - 92s 3ms/step - loss: 40.5507 - dense_91_loss: 7.3962 - dense_92_loss: 13.0648 - dense_93_loss: 14.5149 - dense_94_loss: 4.8877 - dense_95_loss: 0.6868 - dense_96_loss: 0.0048 - dense_91_accuracy: 0.5413 - dense_92_accuracy: 0.1895 - dense_93_accuracy: 0.0995 - dense_94_accuracy: 0.6968 - dense_95_accuracy: 0.9574 - dense_96_accuracy: 0.9997 - val_loss: 40.4967 - val_dense_91_loss: 7.2591 - val_dense_92_loss: 13.0858 - val_dense_93_loss: 14.4988 - val_dense_94_loss: 4.8888 - val_dense_95_loss: 0.7339 - val_dense_96_loss: 0.0048 - val_dense_91_accuracy: 0.5489 - val_dense_92_accuracy: 0.1883 - val_dense_93_accuracy: 0.1006 - val_dense_94_accuracy: 0.6959 - val_dense_95_accuracy: 0.9542 - val_dense_96_accuracy: 0.9997\n",
      "Epoch 10/20\n",
      "26721/26721 [==============================] - 92s 3ms/step - loss: 40.5507 - dense_91_loss: 7.3934 - dense_92_loss: 13.0659 - dense_93_loss: 14.5137 - dense_94_loss: 4.8860 - dense_95_loss: 0.6868 - dense_96_loss: 0.0048 - dense_91_accuracy: 0.5413 - dense_92_accuracy: 0.1895 - dense_93_accuracy: 0.0995 - dense_94_accuracy: 0.6968 - dense_95_accuracy: 0.9574 - dense_96_accuracy: 0.9997 - val_loss: 40.4967 - val_dense_91_loss: 7.2591 - val_dense_92_loss: 13.0858 - val_dense_93_loss: 14.4988 - val_dense_94_loss: 4.8888 - val_dense_95_loss: 0.7339 - val_dense_96_loss: 0.0048 - val_dense_91_accuracy: 0.5489 - val_dense_92_accuracy: 0.1883 - val_dense_93_accuracy: 0.1006 - val_dense_94_accuracy: 0.6959 - val_dense_95_accuracy: 0.9542 - val_dense_96_accuracy: 0.9997\n",
      "Epoch 11/20\n",
      "26721/26721 [==============================] - 92s 3ms/step - loss: 40.5507 - dense_91_loss: 7.3939 - dense_92_loss: 13.0654 - dense_93_loss: 14.5115 - dense_94_loss: 4.8860 - dense_95_loss: 0.6868 - dense_96_loss: 0.0048 - dense_91_accuracy: 0.5413 - dense_92_accuracy: 0.1895 - dense_93_accuracy: 0.0995 - dense_94_accuracy: 0.6968 - dense_95_accuracy: 0.9574 - dense_96_accuracy: 0.9997 - val_loss: 40.4967 - val_dense_91_loss: 7.2591 - val_dense_92_loss: 13.0858 - val_dense_93_loss: 14.4988 - val_dense_94_loss: 4.8888 - val_dense_95_loss: 0.7339 - val_dense_96_loss: 0.0048 - val_dense_91_accuracy: 0.5489 - val_dense_92_accuracy: 0.1883 - val_dense_93_accuracy: 0.1006 - val_dense_94_accuracy: 0.6959 - val_dense_95_accuracy: 0.9542 - val_dense_96_accuracy: 0.9997\n",
      "Epoch 12/20\n",
      "26721/26721 [==============================] - 92s 3ms/step - loss: 40.5507 - dense_91_loss: 7.3962 - dense_92_loss: 13.0654 - dense_93_loss: 14.5143 - dense_94_loss: 4.8883 - dense_95_loss: 0.6873 - dense_96_loss: 0.0048 - dense_91_accuracy: 0.5413 - dense_92_accuracy: 0.1895 - dense_93_accuracy: 0.0995 - dense_94_accuracy: 0.6968 - dense_95_accuracy: 0.9574 - dense_96_accuracy: 0.9997 - val_loss: 40.4967 - val_dense_91_loss: 7.2591 - val_dense_92_loss: 13.0858 - val_dense_93_loss: 14.4988 - val_dense_94_loss: 4.8888 - val_dense_95_loss: 0.7339 - val_dense_96_loss: 0.0048 - val_dense_91_accuracy: 0.5489 - val_dense_92_accuracy: 0.1883 - val_dense_93_accuracy: 0.1006 - val_dense_94_accuracy: 0.6959 - val_dense_95_accuracy: 0.9542 - val_dense_96_accuracy: 0.9997\n",
      "Epoch 13/20\n",
      "26721/26721 [==============================] - 92s 3ms/step - loss: 40.5507 - dense_91_loss: 7.3939 - dense_92_loss: 13.0631 - dense_93_loss: 14.5143 - dense_94_loss: 4.8872 - dense_95_loss: 0.6862 - dense_96_loss: 0.0048 - dense_91_accuracy: 0.5413 - dense_92_accuracy: 0.1895 - dense_93_accuracy: 0.0995 - dense_94_accuracy: 0.6968 - dense_95_accuracy: 0.9574 - dense_96_accuracy: 0.9997 - val_loss: 40.4967 - val_dense_91_loss: 7.2591 - val_dense_92_loss: 13.0858 - val_dense_93_loss: 14.4988 - val_dense_94_loss: 4.8888 - val_dense_95_loss: 0.7339 - val_dense_96_loss: 0.0048 - val_dense_91_accuracy: 0.5489 - val_dense_92_accuracy: 0.1883 - val_dense_93_accuracy: 0.1006 - val_dense_94_accuracy: 0.6959 - val_dense_95_accuracy: 0.9542 - val_dense_96_accuracy: 0.9997\n",
      "Epoch 14/20\n",
      "26721/26721 [==============================] - 92s 3ms/step - loss: 40.5507 - dense_91_loss: 7.3956 - dense_92_loss: 13.0637 - dense_93_loss: 14.5120 - dense_94_loss: 4.8877 - dense_95_loss: 0.6862 - dense_96_loss: 0.0048 - dense_91_accuracy: 0.5413 - dense_92_accuracy: 0.1895 - dense_93_accuracy: 0.0995 - dense_94_accuracy: 0.6968 - dense_95_accuracy: 0.9574 - dense_96_accuracy: 0.9997 - val_loss: 40.4967 - val_dense_91_loss: 7.2591 - val_dense_92_loss: 13.0858 - val_dense_93_loss: 14.4988 - val_dense_94_loss: 4.8888 - val_dense_95_loss: 0.7339 - val_dense_96_loss: 0.0048 - val_dense_91_accuracy: 0.5489 - val_dense_92_accuracy: 0.1883 - val_dense_93_accuracy: 0.1006 - val_dense_94_accuracy: 0.6959 - val_dense_95_accuracy: 0.9542 - val_dense_96_accuracy: 0.9997\n",
      "Epoch 15/20\n",
      "26721/26721 [==============================] - 92s 3ms/step - loss: 40.5507 - dense_91_loss: 7.3956 - dense_92_loss: 13.0620 - dense_93_loss: 14.5149 - dense_94_loss: 4.8877 - dense_95_loss: 0.6862 - dense_96_loss: 0.0048 - dense_91_accuracy: 0.5413 - dense_92_accuracy: 0.1895 - dense_93_accuracy: 0.0995 - dense_94_accuracy: 0.6968 - dense_95_accuracy: 0.9574 - dense_96_accuracy: 0.9997 - val_loss: 40.4967 - val_dense_91_loss: 7.2591 - val_dense_92_loss: 13.0858 - val_dense_93_loss: 14.4988 - val_dense_94_loss: 4.8888 - val_dense_95_loss: 0.7339 - val_dense_96_loss: 0.0048 - val_dense_91_accuracy: 0.5489 - val_dense_92_accuracy: 0.1883 - val_dense_93_accuracy: 0.1006 - val_dense_94_accuracy: 0.6959 - val_dense_95_accuracy: 0.9542 - val_dense_96_accuracy: 0.9997\n",
      "Epoch 16/20\n",
      "26721/26721 [==============================] - 92s 3ms/step - loss: 40.5507 - dense_91_loss: 7.3939 - dense_92_loss: 13.0659 - dense_93_loss: 14.5137 - dense_94_loss: 4.8877 - dense_95_loss: 0.6862 - dense_96_loss: 0.0048 - dense_91_accuracy: 0.5413 - dense_92_accuracy: 0.1895 - dense_93_accuracy: 0.0995 - dense_94_accuracy: 0.6968 - dense_95_accuracy: 0.9574 - dense_96_accuracy: 0.9997 - val_loss: 40.4967 - val_dense_91_loss: 7.2591 - val_dense_92_loss: 13.0858 - val_dense_93_loss: 14.4988 - val_dense_94_loss: 4.8888 - val_dense_95_loss: 0.7339 - val_dense_96_loss: 0.0048 - val_dense_91_accuracy: 0.5489 - val_dense_92_accuracy: 0.1883 - val_dense_93_accuracy: 0.1006 - val_dense_94_accuracy: 0.6959 - val_dense_95_accuracy: 0.9542 - val_dense_96_accuracy: 0.9997\n",
      "Epoch 17/20\n",
      "26721/26721 [==============================] - 92s 3ms/step - loss: 40.5507 - dense_91_loss: 7.3951 - dense_92_loss: 13.0631 - dense_93_loss: 14.5137 - dense_94_loss: 4.8900 - dense_95_loss: 0.6862 - dense_96_loss: 0.0048 - dense_91_accuracy: 0.5413 - dense_92_accuracy: 0.1895 - dense_93_accuracy: 0.0995 - dense_94_accuracy: 0.6968 - dense_95_accuracy: 0.9574 - dense_96_accuracy: 0.9997 - val_loss: 40.4967 - val_dense_91_loss: 7.2591 - val_dense_92_loss: 13.0858 - val_dense_93_loss: 14.4988 - val_dense_94_loss: 4.8888 - val_dense_95_loss: 0.7339 - val_dense_96_loss: 0.0048 - val_dense_91_accuracy: 0.5489 - val_dense_92_accuracy: 0.1883 - val_dense_93_accuracy: 0.1006 - val_dense_94_accuracy: 0.6959 - val_dense_95_accuracy: 0.9542 - val_dense_96_accuracy: 0.9997\n",
      "Epoch 18/20\n",
      "26721/26721 [==============================] - 92s 3ms/step - loss: 40.5507 - dense_91_loss: 7.3928 - dense_92_loss: 13.0648 - dense_93_loss: 14.5132 - dense_94_loss: 4.8860 - dense_95_loss: 0.6856 - dense_96_loss: 0.0048 - dense_91_accuracy: 0.5413 - dense_92_accuracy: 0.1895 - dense_93_accuracy: 0.0995 - dense_94_accuracy: 0.6968 - dense_95_accuracy: 0.9574 - dense_96_accuracy: 0.9997 - val_loss: 40.4967 - val_dense_91_loss: 7.2591 - val_dense_92_loss: 13.0858 - val_dense_93_loss: 14.4988 - val_dense_94_loss: 4.8888 - val_dense_95_loss: 0.7339 - val_dense_96_loss: 0.0048 - val_dense_91_accuracy: 0.5489 - val_dense_92_accuracy: 0.1883 - val_dense_93_accuracy: 0.1006 - val_dense_94_accuracy: 0.6959 - val_dense_95_accuracy: 0.9542 - val_dense_96_accuracy: 0.9997\n",
      "Epoch 19/20\n",
      "26721/26721 [==============================] - 92s 3ms/step - loss: 40.5507 - dense_91_loss: 7.3939 - dense_92_loss: 13.0637 - dense_93_loss: 14.5137 - dense_94_loss: 4.8889 - dense_95_loss: 0.6868 - dense_96_loss: 0.0048 - dense_91_accuracy: 0.5413 - dense_92_accuracy: 0.1895 - dense_93_accuracy: 0.0995 - dense_94_accuracy: 0.6968 - dense_95_accuracy: 0.9574 - dense_96_accuracy: 0.9997 - val_loss: 40.4967 - val_dense_91_loss: 7.2591 - val_dense_92_loss: 13.0858 - val_dense_93_loss: 14.4988 - val_dense_94_loss: 4.8888 - val_dense_95_loss: 0.7339 - val_dense_96_loss: 0.0048 - val_dense_91_accuracy: 0.5489 - val_dense_92_accuracy: 0.1883 - val_dense_93_accuracy: 0.1006 - val_dense_94_accuracy: 0.6959 - val_dense_95_accuracy: 0.9542 - val_dense_96_accuracy: 0.9997\n",
      "Epoch 20/20\n",
      "26721/26721 [==============================] - 92s 3ms/step - loss: 40.5507 - dense_91_loss: 7.3951 - dense_92_loss: 13.0648 - dense_93_loss: 14.5143 - dense_94_loss: 4.8877 - dense_95_loss: 0.6862 - dense_96_loss: 0.0048 - dense_91_accuracy: 0.5413 - dense_92_accuracy: 0.1895 - dense_93_accuracy: 0.0995 - dense_94_accuracy: 0.6968 - dense_95_accuracy: 0.9574 - dense_96_accuracy: 0.9997 - val_loss: 40.4967 - val_dense_91_loss: 7.2591 - val_dense_92_loss: 13.0858 - val_dense_93_loss: 14.4988 - val_dense_94_loss: 4.8888 - val_dense_95_loss: 0.7339 - val_dense_96_loss: 0.0048 - val_dense_91_accuracy: 0.5489 - val_dense_92_accuracy: 0.1883 - val_dense_93_accuracy: 0.1006 - val_dense_94_accuracy: 0.6959 - val_dense_95_accuracy: 0.9542 - val_dense_96_accuracy: 0.9997\n"
     ]
    }
   ],
   "source": [
    "model3_1= build_model3()\n",
    "#adam = optimizers.Adam(learning_rate=0.001, beta_1=0.9, beta_2=0.999, amsgrad=False)\n",
    "nadam = keras.optimizers.Nadam(learning_rate=0.001, beta_1=0.9, beta_2=0.999)\n",
    "model3_1.compile(optimizer = nadam, loss = \"categorical_crossentropy\",metrics = [\"accuracy\"])\n",
    "history3_1 = model3_1.fit(x=x_train,\n",
    "               y=[y_train_num,y_train_digits[0],y_train_digits[1],y_train_digits[2],y_train_digits[3],y_train_digits[4]],\n",
    "                batch_size=64, epochs=20,verbose=1,validation_split=0.2,shuffle=True)"
   ]
  },
  {
   "cell_type": "code",
   "execution_count": 122,
   "metadata": {},
   "outputs": [
    {
     "name": "stdout",
     "output_type": "stream",
     "text": [
      "['loss', 'dense_91_loss', 'dense_92_loss', 'dense_93_loss', 'dense_94_loss', 'dense_95_loss', 'dense_96_loss', 'dense_91_accuracy', 'dense_92_accuracy', 'dense_93_accuracy', 'dense_94_accuracy', 'dense_95_accuracy', 'dense_96_accuracy']\n"
     ]
    }
   ],
   "source": [
    "print(model3_1.metrics_names)"
   ]
  },
  {
   "cell_type": "code",
   "execution_count": 123,
   "metadata": {},
   "outputs": [
    {
     "name": "stdout",
     "output_type": "stream",
     "text": [
      "0.016911539638812367\n"
     ]
    }
   ],
   "source": [
    "test3_1 = test_acc(model3_1)\n",
    "print(test3_1)\n",
    "val_loss3_1,val_acc3_1,train_loss3_1,train_acc3_1 = get_array(history3_1,91)\n",
    "val_acc3_1 = np.insert(val_acc3_1,0,0)\n",
    "train_acc3_1 = np.insert(train_acc3_1,0,0)"
   ]
  },
  {
   "cell_type": "markdown",
   "metadata": {},
   "source": [
    "## 3.2 Adam-4Layer-0Dropout"
   ]
  },
  {
   "cell_type": "code",
   "execution_count": 143,
   "metadata": {},
   "outputs": [],
   "source": [
    "# 3.2 model with 4 hidden layers\n",
    "def build_model3_2():\n",
    "    identifier = Sequential()\n",
    "    Input_1 = Input(shape=(64,64,3))\n",
    "    conv_model = BatchNormalization()(Input_1)\n",
    "    conv_model = Convolution2D(48, (5, 5), activation='relu',padding=\"same\")(conv_model)\n",
    "    conv_model = MaxPooling2D(pool_size=(2, 2), strides=(2,2))(conv_model)\n",
    "\n",
    "    conv_model = BatchNormalization()(conv_model)\n",
    "    conv_model = Convolution2D(54, (5, 5), activation='relu',padding=\"same\")(conv_model)\n",
    "    conv_model = MaxPooling2D(pool_size=(2, 2), strides=(1,1))(conv_model)\n",
    "    \n",
    "    conv_model = BatchNormalization()(conv_model)\n",
    "    conv_model = Convolution2D(128, (5, 5), activation='relu',padding=\"same\")(conv_model)\n",
    "    conv_model = MaxPooling2D(pool_size=(2, 2), strides=(2,2))(conv_model)\n",
    "    conv_model = Dropout(0.1)(conv_model)\n",
    "\n",
    "    conv_model = BatchNormalization()(conv_model)\n",
    "    conv_model = Convolution2D(160, (5, 5), activation='relu',padding=\"same\")(conv_model)\n",
    "    conv_model = MaxPooling2D(pool_size=(2, 2), strides=(1,1))(conv_model)\n",
    "\n",
    "    conv_model = Flatten()(conv_model)\n",
    "    conv_model = Dense(1024,activation = 'relu')(conv_model)\n",
    "    conv_model = Dense(512,activation = 'relu')(conv_model)\n",
    "\n",
    "    x1 = Dense(6, activation = 'softmax')(conv_model)\n",
    "    x2 = Dense(11, activation = 'softmax')(conv_model)\n",
    "    x3 = Dense(11, activation = 'softmax')(conv_model)\n",
    "    x4 = Dense(11, activation = 'softmax')(conv_model)\n",
    "    x5 = Dense(11, activation = 'softmax')(conv_model)\n",
    "    x6 = Dense(11, activation = 'softmax')(conv_model)\n",
    "    \n",
    "    y = [x1,x2,x3,x4,x5,x6]\n",
    "    identifier = Model(inputs = Input_1, outputs = y)\n",
    "    return identifier"
   ]
  },
  {
   "cell_type": "code",
   "execution_count": 137,
   "metadata": {},
   "outputs": [
    {
     "name": "stdout",
     "output_type": "stream",
     "text": [
      "Train on 26721 samples, validate on 6681 samples\n",
      "Epoch 1/20\n",
      "26721/26721 [==============================] - 68s 3ms/step - loss: 40.9942 - dense_99_loss: 7.3799 - dense_100_loss: 13.0407 - dense_101_loss: 14.9841 - dense_102_loss: 4.8840 - dense_103_loss: 0.6891 - dense_104_loss: 0.0132 - dense_99_accuracy: 0.5404 - dense_100_accuracy: 0.1892 - dense_101_accuracy: 0.0684 - dense_102_accuracy: 0.6950 - dense_103_accuracy: 0.9552 - dense_104_accuracy: 0.9973 - val_loss: 41.0347 - val_dense_99_loss: 7.2591 - val_dense_100_loss: 13.0858 - val_dense_101_loss: 15.0337 - val_dense_102_loss: 4.8888 - val_dense_103_loss: 0.7339 - val_dense_104_loss: 0.0048 - val_dense_99_accuracy: 0.5489 - val_dense_100_accuracy: 0.1883 - val_dense_101_accuracy: 0.0672 - val_dense_102_accuracy: 0.6959 - val_dense_103_accuracy: 0.9542 - val_dense_104_accuracy: 0.9997\n",
      "Epoch 2/20\n",
      "26721/26721 [==============================] - 64s 2ms/step - loss: 41.0501 - dense_99_loss: 7.3939 - dense_100_loss: 13.0648 - dense_101_loss: 15.0126 - dense_102_loss: 4.8889 - dense_103_loss: 0.6873 - dense_104_loss: 0.0048 - dense_99_accuracy: 0.5413 - dense_100_accuracy: 0.1895 - dense_101_accuracy: 0.0686 - dense_102_accuracy: 0.6968 - dense_103_accuracy: 0.9574 - dense_104_accuracy: 0.9997 - val_loss: 41.0347 - val_dense_99_loss: 7.2591 - val_dense_100_loss: 13.0858 - val_dense_101_loss: 15.0337 - val_dense_102_loss: 4.8888 - val_dense_103_loss: 0.7339 - val_dense_104_loss: 0.0048 - val_dense_99_accuracy: 0.5489 - val_dense_100_accuracy: 0.1883 - val_dense_101_accuracy: 0.0672 - val_dense_102_accuracy: 0.6959 - val_dense_103_accuracy: 0.9542 - val_dense_104_accuracy: 0.9997\n",
      "Epoch 3/20\n",
      "26721/26721 [==============================] - 64s 2ms/step - loss: 41.0501 - dense_99_loss: 7.3928 - dense_100_loss: 13.0659 - dense_101_loss: 15.0126 - dense_102_loss: 4.8877 - dense_103_loss: 0.6862 - dense_104_loss: 0.0048 - dense_99_accuracy: 0.5413 - dense_100_accuracy: 0.1895 - dense_101_accuracy: 0.0686 - dense_102_accuracy: 0.6968 - dense_103_accuracy: 0.9574 - dense_104_accuracy: 0.9997 - val_loss: 41.0347 - val_dense_99_loss: 7.2591 - val_dense_100_loss: 13.0858 - val_dense_101_loss: 15.0337 - val_dense_102_loss: 4.8888 - val_dense_103_loss: 0.7339 - val_dense_104_loss: 0.0048 - val_dense_99_accuracy: 0.5489 - val_dense_100_accuracy: 0.1883 - val_dense_101_accuracy: 0.0672 - val_dense_102_accuracy: 0.6959 - val_dense_103_accuracy: 0.9542 - val_dense_104_accuracy: 0.9997\n",
      "Epoch 4/20\n",
      "26721/26721 [==============================] - 64s 2ms/step - loss: 41.0501 - dense_99_loss: 7.3962 - dense_100_loss: 13.0648 - dense_101_loss: 15.0132 - dense_102_loss: 4.8889 - dense_103_loss: 0.6862 - dense_104_loss: 0.0048 - dense_99_accuracy: 0.5413 - dense_100_accuracy: 0.1895 - dense_101_accuracy: 0.0686 - dense_102_accuracy: 0.6968 - dense_103_accuracy: 0.9574 - dense_104_accuracy: 0.9997 - val_loss: 41.0347 - val_dense_99_loss: 7.2591 - val_dense_100_loss: 13.0858 - val_dense_101_loss: 15.0337 - val_dense_102_loss: 4.8888 - val_dense_103_loss: 0.7339 - val_dense_104_loss: 0.0048 - val_dense_99_accuracy: 0.5489 - val_dense_100_accuracy: 0.1883 - val_dense_101_accuracy: 0.0672 - val_dense_102_accuracy: 0.6959 - val_dense_103_accuracy: 0.9542 - val_dense_104_accuracy: 0.9997\n",
      "Epoch 5/20\n",
      "26721/26721 [==============================] - 63s 2ms/step - loss: 41.0501 - dense_99_loss: 7.3956 - dense_100_loss: 13.0642 - dense_101_loss: 15.0132 - dense_102_loss: 4.8877 - dense_103_loss: 0.6856 - dense_104_loss: 0.0048 - dense_99_accuracy: 0.5413 - dense_100_accuracy: 0.1895 - dense_101_accuracy: 0.0686 - dense_102_accuracy: 0.6968 - dense_103_accuracy: 0.9574 - dense_104_accuracy: 0.9997 - val_loss: 41.0347 - val_dense_99_loss: 7.2591 - val_dense_100_loss: 13.0858 - val_dense_101_loss: 15.0337 - val_dense_102_loss: 4.8888 - val_dense_103_loss: 0.7339 - val_dense_104_loss: 0.0048 - val_dense_99_accuracy: 0.5489 - val_dense_100_accuracy: 0.1883 - val_dense_101_accuracy: 0.0672 - val_dense_102_accuracy: 0.6959 - val_dense_103_accuracy: 0.9542 - val_dense_104_accuracy: 0.9997\n",
      "Epoch 6/20\n",
      "26721/26721 [==============================] - 63s 2ms/step - loss: 41.0501 - dense_99_loss: 7.3939 - dense_100_loss: 13.0648 - dense_101_loss: 15.0132 - dense_102_loss: 4.8872 - dense_103_loss: 0.6862 - dense_104_loss: 0.0048 - dense_99_accuracy: 0.5413 - dense_100_accuracy: 0.1895 - dense_101_accuracy: 0.0686 - dense_102_accuracy: 0.6968 - dense_103_accuracy: 0.9574 - dense_104_accuracy: 0.9997 - val_loss: 41.0347 - val_dense_99_loss: 7.2591 - val_dense_100_loss: 13.0858 - val_dense_101_loss: 15.0337 - val_dense_102_loss: 4.8888 - val_dense_103_loss: 0.7339 - val_dense_104_loss: 0.0048 - val_dense_99_accuracy: 0.5489 - val_dense_100_accuracy: 0.1883 - val_dense_101_accuracy: 0.0672 - val_dense_102_accuracy: 0.6959 - val_dense_103_accuracy: 0.9542 - val_dense_104_accuracy: 0.9997\n",
      "Epoch 7/20\n",
      "26721/26721 [==============================] - 63s 2ms/step - loss: 41.0501 - dense_99_loss: 7.3956 - dense_100_loss: 13.0620 - dense_101_loss: 15.0137 - dense_102_loss: 4.8894 - dense_103_loss: 0.6856 - dense_104_loss: 0.0048 - dense_99_accuracy: 0.5413 - dense_100_accuracy: 0.1895 - dense_101_accuracy: 0.0686 - dense_102_accuracy: 0.6968 - dense_103_accuracy: 0.9574 - dense_104_accuracy: 0.9997 - val_loss: 41.0347 - val_dense_99_loss: 7.2591 - val_dense_100_loss: 13.0858 - val_dense_101_loss: 15.0337 - val_dense_102_loss: 4.8888 - val_dense_103_loss: 0.7339 - val_dense_104_loss: 0.0048 - val_dense_99_accuracy: 0.5489 - val_dense_100_accuracy: 0.1883 - val_dense_101_accuracy: 0.0672 - val_dense_102_accuracy: 0.6959 - val_dense_103_accuracy: 0.9542 - val_dense_104_accuracy: 0.9997\n",
      "Epoch 8/20\n",
      "26721/26721 [==============================] - 63s 2ms/step - loss: 41.0501 - dense_99_loss: 7.3928 - dense_100_loss: 13.0637 - dense_101_loss: 15.0121 - dense_102_loss: 4.8866 - dense_103_loss: 0.6856 - dense_104_loss: 0.0048 - dense_99_accuracy: 0.5413 - dense_100_accuracy: 0.1895 - dense_101_accuracy: 0.0686 - dense_102_accuracy: 0.6968 - dense_103_accuracy: 0.9574 - dense_104_accuracy: 0.9997 - val_loss: 41.0347 - val_dense_99_loss: 7.2591 - val_dense_100_loss: 13.0858 - val_dense_101_loss: 15.0337 - val_dense_102_loss: 4.8888 - val_dense_103_loss: 0.7339 - val_dense_104_loss: 0.0048 - val_dense_99_accuracy: 0.5489 - val_dense_100_accuracy: 0.1883 - val_dense_101_accuracy: 0.0672 - val_dense_102_accuracy: 0.6959 - val_dense_103_accuracy: 0.9542 - val_dense_104_accuracy: 0.9997\n",
      "Epoch 9/20\n",
      "26721/26721 [==============================] - 63s 2ms/step - loss: 41.0501 - dense_99_loss: 7.3956 - dense_100_loss: 13.0654 - dense_101_loss: 15.0138 - dense_102_loss: 4.8866 - dense_103_loss: 0.6862 - dense_104_loss: 0.0048 - dense_99_accuracy: 0.5413 - dense_100_accuracy: 0.1895 - dense_101_accuracy: 0.0686 - dense_102_accuracy: 0.6968 - dense_103_accuracy: 0.9574 - dense_104_accuracy: 0.9997 - val_loss: 41.0347 - val_dense_99_loss: 7.2591 - val_dense_100_loss: 13.0858 - val_dense_101_loss: 15.0337 - val_dense_102_loss: 4.8888 - val_dense_103_loss: 0.7339 - val_dense_104_loss: 0.0048 - val_dense_99_accuracy: 0.5489 - val_dense_100_accuracy: 0.1883 - val_dense_101_accuracy: 0.0672 - val_dense_102_accuracy: 0.6959 - val_dense_103_accuracy: 0.9542 - val_dense_104_accuracy: 0.9997\n",
      "Epoch 10/20\n",
      "26721/26721 [==============================] - 63s 2ms/step - loss: 41.0501 - dense_99_loss: 7.3956 - dense_100_loss: 13.0654 - dense_101_loss: 15.0138 - dense_102_loss: 4.8883 - dense_103_loss: 0.6873 - dense_104_loss: 0.0048 - dense_99_accuracy: 0.5413 - dense_100_accuracy: 0.1895 - dense_101_accuracy: 0.0686 - dense_102_accuracy: 0.6968 - dense_103_accuracy: 0.9574 - dense_104_accuracy: 0.9997 - val_loss: 41.0347 - val_dense_99_loss: 7.2591 - val_dense_100_loss: 13.0858 - val_dense_101_loss: 15.0337 - val_dense_102_loss: 4.8888 - val_dense_103_loss: 0.7339 - val_dense_104_loss: 0.0048 - val_dense_99_accuracy: 0.5489 - val_dense_100_accuracy: 0.1883 - val_dense_101_accuracy: 0.0672 - val_dense_102_accuracy: 0.6959 - val_dense_103_accuracy: 0.9542 - val_dense_104_accuracy: 0.9997\n",
      "Epoch 11/20\n",
      "26721/26721 [==============================] - 63s 2ms/step - loss: 41.0501 - dense_99_loss: 7.3922 - dense_100_loss: 13.0642 - dense_101_loss: 15.0137 - dense_102_loss: 4.8872 - dense_103_loss: 0.6868 - dense_104_loss: 0.0048 - dense_99_accuracy: 0.5413 - dense_100_accuracy: 0.1895 - dense_101_accuracy: 0.0686 - dense_102_accuracy: 0.6968 - dense_103_accuracy: 0.9574 - dense_104_accuracy: 0.9997 - val_loss: 41.0347 - val_dense_99_loss: 7.2591 - val_dense_100_loss: 13.0858 - val_dense_101_loss: 15.0337 - val_dense_102_loss: 4.8888 - val_dense_103_loss: 0.7339 - val_dense_104_loss: 0.0048 - val_dense_99_accuracy: 0.5489 - val_dense_100_accuracy: 0.1883 - val_dense_101_accuracy: 0.0672 - val_dense_102_accuracy: 0.6959 - val_dense_103_accuracy: 0.9542 - val_dense_104_accuracy: 0.9997\n",
      "Epoch 12/20\n",
      "26721/26721 [==============================] - 63s 2ms/step - loss: 41.0501 - dense_99_loss: 7.3917 - dense_100_loss: 13.0642 - dense_101_loss: 15.0138 - dense_102_loss: 4.8866 - dense_103_loss: 0.6868 - dense_104_loss: 0.0048 - dense_99_accuracy: 0.5413 - dense_100_accuracy: 0.1895 - dense_101_accuracy: 0.0686 - dense_102_accuracy: 0.6968 - dense_103_accuracy: 0.9574 - dense_104_accuracy: 0.9997 - val_loss: 41.0347 - val_dense_99_loss: 7.2591 - val_dense_100_loss: 13.0858 - val_dense_101_loss: 15.0337 - val_dense_102_loss: 4.8888 - val_dense_103_loss: 0.7339 - val_dense_104_loss: 0.0048 - val_dense_99_accuracy: 0.5489 - val_dense_100_accuracy: 0.1883 - val_dense_101_accuracy: 0.0672 - val_dense_102_accuracy: 0.6959 - val_dense_103_accuracy: 0.9542 - val_dense_104_accuracy: 0.9997\n",
      "Epoch 13/20\n",
      "26721/26721 [==============================] - 63s 2ms/step - loss: 41.0501 - dense_99_loss: 7.3968 - dense_100_loss: 13.0631 - dense_101_loss: 15.0143 - dense_102_loss: 4.8883 - dense_103_loss: 0.6868 - dense_104_loss: 0.0048 - dense_99_accuracy: 0.5413 - dense_100_accuracy: 0.1895 - dense_101_accuracy: 0.0686 - dense_102_accuracy: 0.6968 - dense_103_accuracy: 0.9574 - dense_104_accuracy: 0.9997 - val_loss: 41.0347 - val_dense_99_loss: 7.2591 - val_dense_100_loss: 13.0858 - val_dense_101_loss: 15.0337 - val_dense_102_loss: 4.8888 - val_dense_103_loss: 0.7339 - val_dense_104_loss: 0.0048 - val_dense_99_accuracy: 0.5489 - val_dense_100_accuracy: 0.1883 - val_dense_101_accuracy: 0.0672 - val_dense_102_accuracy: 0.6959 - val_dense_103_accuracy: 0.9542 - val_dense_104_accuracy: 0.9997\n",
      "Epoch 14/20\n",
      "26721/26721 [==============================] - 63s 2ms/step - loss: 41.0501 - dense_99_loss: 7.3973 - dense_100_loss: 13.0631 - dense_101_loss: 15.0121 - dense_102_loss: 4.8894 - dense_103_loss: 0.6868 - dense_104_loss: 0.0048 - dense_99_accuracy: 0.5413 - dense_100_accuracy: 0.1895 - dense_101_accuracy: 0.0686 - dense_102_accuracy: 0.6968 - dense_103_accuracy: 0.9574 - dense_104_accuracy: 0.9997 - val_loss: 41.0347 - val_dense_99_loss: 7.2591 - val_dense_100_loss: 13.0858 - val_dense_101_loss: 15.0337 - val_dense_102_loss: 4.8888 - val_dense_103_loss: 0.7339 - val_dense_104_loss: 0.0048 - val_dense_99_accuracy: 0.5489 - val_dense_100_accuracy: 0.1883 - val_dense_101_accuracy: 0.0672 - val_dense_102_accuracy: 0.6959 - val_dense_103_accuracy: 0.9542 - val_dense_104_accuracy: 0.9997\n",
      "Epoch 15/20\n",
      "26721/26721 [==============================] - 63s 2ms/step - loss: 41.0501 - dense_99_loss: 7.3962 - dense_100_loss: 13.0648 - dense_101_loss: 15.0137 - dense_102_loss: 4.8872 - dense_103_loss: 0.6856 - dense_104_loss: 0.0048 - dense_99_accuracy: 0.5413 - dense_100_accuracy: 0.1895 - dense_101_accuracy: 0.0686 - dense_102_accuracy: 0.6968 - dense_103_accuracy: 0.9574 - dense_104_accuracy: 0.9997 - val_loss: 41.0347 - val_dense_99_loss: 7.2591 - val_dense_100_loss: 13.0858 - val_dense_101_loss: 15.0337 - val_dense_102_loss: 4.8888 - val_dense_103_loss: 0.7339 - val_dense_104_loss: 0.0048 - val_dense_99_accuracy: 0.5489 - val_dense_100_accuracy: 0.1883 - val_dense_101_accuracy: 0.0672 - val_dense_102_accuracy: 0.6959 - val_dense_103_accuracy: 0.9542 - val_dense_104_accuracy: 0.9997\n",
      "Epoch 16/20\n",
      "26721/26721 [==============================] - 63s 2ms/step - loss: 41.0501 - dense_99_loss: 7.3939 - dense_100_loss: 13.0631 - dense_101_loss: 15.0126 - dense_102_loss: 4.8872 - dense_103_loss: 0.6868 - dense_104_loss: 0.0048 - dense_99_accuracy: 0.5413 - dense_100_accuracy: 0.1895 - dense_101_accuracy: 0.0686 - dense_102_accuracy: 0.6968 - dense_103_accuracy: 0.9574 - dense_104_accuracy: 0.9997 - val_loss: 41.0347 - val_dense_99_loss: 7.2591 - val_dense_100_loss: 13.0858 - val_dense_101_loss: 15.0337 - val_dense_102_loss: 4.8888 - val_dense_103_loss: 0.7339 - val_dense_104_loss: 0.0048 - val_dense_99_accuracy: 0.5489 - val_dense_100_accuracy: 0.1883 - val_dense_101_accuracy: 0.0672 - val_dense_102_accuracy: 0.6959 - val_dense_103_accuracy: 0.9542 - val_dense_104_accuracy: 0.9997\n",
      "Epoch 17/20\n",
      "26721/26721 [==============================] - 63s 2ms/step - loss: 41.0501 - dense_99_loss: 7.3934 - dense_100_loss: 13.0648 - dense_101_loss: 15.0143 - dense_102_loss: 4.8866 - dense_103_loss: 0.6868 - dense_104_loss: 0.0048 - dense_99_accuracy: 0.5413 - dense_100_accuracy: 0.1895 - dense_101_accuracy: 0.0686 - dense_102_accuracy: 0.6968 - dense_103_accuracy: 0.9574 - dense_104_accuracy: 0.9997 - val_loss: 41.0347 - val_dense_99_loss: 7.2591 - val_dense_100_loss: 13.0858 - val_dense_101_loss: 15.0337 - val_dense_102_loss: 4.8888 - val_dense_103_loss: 0.7339 - val_dense_104_loss: 0.0048 - val_dense_99_accuracy: 0.5489 - val_dense_100_accuracy: 0.1883 - val_dense_101_accuracy: 0.0672 - val_dense_102_accuracy: 0.6959 - val_dense_103_accuracy: 0.9542 - val_dense_104_accuracy: 0.9997\n",
      "Epoch 18/20\n",
      "26721/26721 [==============================] - 63s 2ms/step - loss: 41.0501 - dense_99_loss: 7.3962 - dense_100_loss: 13.0654 - dense_101_loss: 15.0143 - dense_102_loss: 4.8889 - dense_103_loss: 0.6862 - dense_104_loss: 0.0048 - dense_99_accuracy: 0.5413 - dense_100_accuracy: 0.1895 - dense_101_accuracy: 0.0686 - dense_102_accuracy: 0.6968 - dense_103_accuracy: 0.9574 - dense_104_accuracy: 0.9997 - val_loss: 41.0347 - val_dense_99_loss: 7.2591 - val_dense_100_loss: 13.0858 - val_dense_101_loss: 15.0337 - val_dense_102_loss: 4.8888 - val_dense_103_loss: 0.7339 - val_dense_104_loss: 0.0048 - val_dense_99_accuracy: 0.5489 - val_dense_100_accuracy: 0.1883 - val_dense_101_accuracy: 0.0672 - val_dense_102_accuracy: 0.6959 - val_dense_103_accuracy: 0.9542 - val_dense_104_accuracy: 0.9997\n",
      "Epoch 19/20\n",
      "26721/26721 [==============================] - 63s 2ms/step - loss: 41.0501 - dense_99_loss: 7.3905 - dense_100_loss: 13.0659 - dense_101_loss: 15.0132 - dense_102_loss: 4.8860 - dense_103_loss: 0.6862 - dense_104_loss: 0.0048 - dense_99_accuracy: 0.5413 - dense_100_accuracy: 0.1895 - dense_101_accuracy: 0.0686 - dense_102_accuracy: 0.6968 - dense_103_accuracy: 0.9574 - dense_104_accuracy: 0.9997 - val_loss: 41.0347 - val_dense_99_loss: 7.2591 - val_dense_100_loss: 13.0858 - val_dense_101_loss: 15.0337 - val_dense_102_loss: 4.8888 - val_dense_103_loss: 0.7339 - val_dense_104_loss: 0.0048 - val_dense_99_accuracy: 0.5489 - val_dense_100_accuracy: 0.1883 - val_dense_101_accuracy: 0.0672 - val_dense_102_accuracy: 0.6959 - val_dense_103_accuracy: 0.9542 - val_dense_104_accuracy: 0.9997\n",
      "Epoch 20/20\n",
      "26721/26721 [==============================] - 63s 2ms/step - loss: 41.0501 - dense_99_loss: 7.3968 - dense_100_loss: 13.0637 - dense_101_loss: 15.0143 - dense_102_loss: 4.8900 - dense_103_loss: 0.6873 - dense_104_loss: 0.0048 - dense_99_accuracy: 0.5413 - dense_100_accuracy: 0.1895 - dense_101_accuracy: 0.0686 - dense_102_accuracy: 0.6968 - dense_103_accuracy: 0.9574 - dense_104_accuracy: 0.9997 - val_loss: 41.0347 - val_dense_99_loss: 7.2591 - val_dense_100_loss: 13.0858 - val_dense_101_loss: 15.0337 - val_dense_102_loss: 4.8888 - val_dense_103_loss: 0.7339 - val_dense_104_loss: 0.0048 - val_dense_99_accuracy: 0.5489 - val_dense_100_accuracy: 0.1883 - val_dense_101_accuracy: 0.0672 - val_dense_102_accuracy: 0.6959 - val_dense_103_accuracy: 0.9542 - val_dense_104_accuracy: 0.9997\n"
     ]
    }
   ],
   "source": [
    "model3_2= build_model3_2()\n",
    "adam = optimizers.Adam(learning_rate=0.001, beta_1=0.9, beta_2=0.999, amsgrad=False)\n",
    "model3_2.compile(optimizer = adam, loss = \"categorical_crossentropy\",metrics = [\"accuracy\"])\n",
    "history3_2 = model3_2.fit(x=x_train,\n",
    "               y=[y_train_num,y_train_digits[0],y_train_digits[1],y_train_digits[2],y_train_digits[3],y_train_digits[4]],\n",
    "                batch_size=64, epochs=20,verbose=1,validation_split=0.2,shuffle=True)"
   ]
  },
  {
   "cell_type": "code",
   "execution_count": 138,
   "metadata": {},
   "outputs": [
    {
     "name": "stdout",
     "output_type": "stream",
     "text": [
      "['loss', 'dense_99_loss', 'dense_100_loss', 'dense_101_loss', 'dense_102_loss', 'dense_103_loss', 'dense_104_loss', 'dense_99_accuracy', 'dense_100_accuracy', 'dense_101_accuracy', 'dense_102_accuracy', 'dense_103_accuracy', 'dense_104_accuracy']\n"
     ]
    }
   ],
   "source": [
    "print(model3_2.metrics_names)"
   ]
  },
  {
   "cell_type": "code",
   "execution_count": 140,
   "metadata": {},
   "outputs": [
    {
     "name": "stdout",
     "output_type": "stream",
     "text": [
      "0.011095806550352005\n"
     ]
    }
   ],
   "source": [
    "test3_2 = test_acc(model3_2)\n",
    "print(test3_2)\n",
    "val_loss3_2,val_acc3_2,train_loss3_2,train_acc3_2 = get_array(history3_2,99)\n",
    "val_acc3_2 = np.insert(val_acc3_2,0,0)\n",
    "train_acc3_2 = np.insert(train_acc3_2,0,0)"
   ]
  },
  {
   "cell_type": "markdown",
   "metadata": {},
   "source": [
    "## 3.3 Adam-6Layer-0Dropout"
   ]
  },
  {
   "cell_type": "code",
   "execution_count": 147,
   "metadata": {},
   "outputs": [],
   "source": [
    "# 3.3 model with 6 hidden layers\n",
    "def build_model3_3():\n",
    "    identifier = Sequential()\n",
    "    Input_1 = Input(shape=(64,64,3))\n",
    "    conv_model = BatchNormalization()(Input_1)\n",
    "    conv_model = Convolution2D(48, (5, 5), activation='relu',padding=\"same\")(conv_model)\n",
    "    conv_model = MaxPooling2D(pool_size=(2, 2), strides=(2,2))(conv_model)\n",
    "\n",
    "    conv_model = BatchNormalization()(conv_model)\n",
    "    conv_model = Convolution2D(54, (5, 5), activation='relu',padding=\"same\")(conv_model)\n",
    "    conv_model = MaxPooling2D(pool_size=(2, 2), strides=(1,1))(conv_model)\n",
    "\n",
    "    conv_model = BatchNormalization()(conv_model)\n",
    "    conv_model = Convolution2D(128, (5, 5), activation='relu',padding=\"same\")(conv_model)\n",
    "    conv_model = MaxPooling2D(pool_size=(2, 2), strides=(2,2))(conv_model)\n",
    "    conv_model = Dropout(0.1)(conv_model)\n",
    "\n",
    "    conv_model = BatchNormalization()(conv_model)\n",
    "    conv_model = Convolution2D(160, (5, 5), activation='relu',padding=\"same\")(conv_model)\n",
    "    conv_model = MaxPooling2D(pool_size=(2, 2), strides=(1,1))(conv_model)\n",
    "\n",
    "    conv_model = BatchNormalization()(conv_model)\n",
    "    conv_model = Convolution2D(192, (5, 5), activation='relu',padding=\"same\")(conv_model)\n",
    "    conv_model = MaxPooling2D(pool_size=(2, 2), strides=(2,2))(conv_model)\n",
    "\n",
    "    conv_model = BatchNormalization()(conv_model)\n",
    "    conv_model = Convolution2D(192, (5, 5), activation='relu',padding=\"same\")(conv_model)\n",
    "    conv_model = MaxPooling2D(pool_size=(2, 2), strides=(1,1))(conv_model)\n",
    "\n",
    "    conv_model = Flatten()(conv_model)\n",
    "    conv_model = Dense(1024,activation = 'relu')(conv_model)\n",
    "    conv_model = Dense(512,activation = 'relu')(conv_model)\n",
    "\n",
    "    x1 = Dense(6, activation = 'softmax')(conv_model)\n",
    "    x2 = Dense(11, activation = 'softmax')(conv_model)\n",
    "    x3 = Dense(11, activation = 'softmax')(conv_model)\n",
    "    x4 = Dense(11, activation = 'softmax')(conv_model)\n",
    "    x5 = Dense(11, activation = 'softmax')(conv_model)\n",
    "    x6 = Dense(11, activation = 'softmax')(conv_model)\n",
    "    \n",
    "    y = [x1,x2,x3,x4,x5,x6]\n",
    "    identifier = Model(inputs = Input_1, outputs = y)\n",
    "    return identifier"
   ]
  },
  {
   "cell_type": "code",
   "execution_count": 148,
   "metadata": {},
   "outputs": [
    {
     "name": "stdout",
     "output_type": "stream",
     "text": [
      "Train on 26721 samples, validate on 6681 samples\n",
      "Epoch 1/20\n",
      "26721/26721 [==============================] - 62s 2ms/step - loss: 11.1512 - dense_107_loss: 1.9398 - dense_108_loss: 3.3330 - dense_109_loss: 3.7579 - dense_110_loss: 1.7797 - dense_111_loss: 0.3268 - dense_112_loss: 0.0144 - dense_107_accuracy: 0.5357 - dense_108_accuracy: 0.2528 - dense_109_accuracy: 0.1434 - dense_110_accuracy: 0.6945 - dense_111_accuracy: 0.9550 - dense_112_accuracy: 0.9979 - val_loss: 26.4582 - val_dense_107_loss: 4.8543 - val_dense_108_loss: 7.7227 - val_dense_109_loss: 9.4735 - val_dense_110_loss: 3.6875 - val_dense_111_loss: 0.6913 - val_dense_112_loss: 0.0050 - val_dense_107_accuracy: 0.5460 - val_dense_108_accuracy: 0.2658 - val_dense_109_accuracy: 0.1176 - val_dense_110_accuracy: 0.6959 - val_dense_111_accuracy: 0.9542 - val_dense_112_accuracy: 0.9997\n",
      "Epoch 2/20\n",
      "26721/26721 [==============================] - 57s 2ms/step - loss: 8.8871 - dense_107_loss: 1.4832 - dense_108_loss: 2.4882 - dense_109_loss: 2.9586 - dense_110_loss: 1.5766 - dense_111_loss: 0.3648 - dense_112_loss: 0.0130 - dense_107_accuracy: 0.5490 - dense_108_accuracy: 0.2718 - dense_109_accuracy: 0.1542 - dense_110_accuracy: 0.6963 - dense_111_accuracy: 0.9574 - dense_112_accuracy: 0.9997 - val_loss: 6.8990 - val_dense_107_loss: 1.0163 - val_dense_108_loss: 2.0271 - val_dense_109_loss: 2.3684 - val_dense_110_loss: 1.2568 - val_dense_111_loss: 0.2217 - val_dense_112_loss: 0.0045 - val_dense_107_accuracy: 0.5822 - val_dense_108_accuracy: 0.2721 - val_dense_109_accuracy: 0.1609 - val_dense_110_accuracy: 0.6959 - val_dense_111_accuracy: 0.9542 - val_dense_112_accuracy: 0.9997\n",
      "Epoch 3/20\n",
      "26721/26721 [==============================] - 57s 2ms/step - loss: 6.8367 - dense_107_loss: 1.0007 - dense_108_loss: 2.0152 - dense_109_loss: 2.3426 - dense_110_loss: 1.2486 - dense_111_loss: 0.2252 - dense_112_loss: 0.0037 - dense_107_accuracy: 0.5759 - dense_108_accuracy: 0.2782 - dense_109_accuracy: 0.1750 - dense_110_accuracy: 0.6966 - dense_111_accuracy: 0.9574 - dense_112_accuracy: 0.9997 - val_loss: 6.7879 - val_dense_107_loss: 0.9677 - val_dense_108_loss: 2.0173 - val_dense_109_loss: 2.3391 - val_dense_110_loss: 1.2321 - val_dense_111_loss: 0.2249 - val_dense_112_loss: 0.0026 - val_dense_107_accuracy: 0.5923 - val_dense_108_accuracy: 0.2705 - val_dense_109_accuracy: 0.1699 - val_dense_110_accuracy: 0.6968 - val_dense_111_accuracy: 0.9542 - val_dense_112_accuracy: 0.9997\n",
      "Epoch 4/20\n",
      "26721/26721 [==============================] - 57s 2ms/step - loss: 6.7245 - dense_107_loss: 0.9563 - dense_108_loss: 2.0052 - dense_109_loss: 2.3130 - dense_110_loss: 1.2259 - dense_111_loss: 0.2205 - dense_112_loss: 0.0033 - dense_107_accuracy: 0.5828 - dense_108_accuracy: 0.2761 - dense_109_accuracy: 0.1885 - dense_110_accuracy: 0.6965 - dense_111_accuracy: 0.9574 - dense_112_accuracy: 0.9997 - val_loss: 6.6534 - val_dense_107_loss: 0.9093 - val_dense_108_loss: 2.0258 - val_dense_109_loss: 2.2871 - val_dense_110_loss: 1.2050 - val_dense_111_loss: 0.2219 - val_dense_112_loss: 0.0029 - val_dense_107_accuracy: 0.6034 - val_dense_108_accuracy: 0.2676 - val_dense_109_accuracy: 0.1916 - val_dense_110_accuracy: 0.6963 - val_dense_111_accuracy: 0.9542 - val_dense_112_accuracy: 0.9997\n",
      "Epoch 5/20\n",
      "26721/26721 [==============================] - 57s 2ms/step - loss: 6.3432 - dense_107_loss: 0.7891 - dense_108_loss: 2.0021 - dense_109_loss: 2.2146 - dense_110_loss: 1.1228 - dense_111_loss: 0.2105 - dense_112_loss: 0.0033 - dense_107_accuracy: 0.6560 - dense_108_accuracy: 0.2767 - dense_109_accuracy: 0.2221 - dense_110_accuracy: 0.6981 - dense_111_accuracy: 0.9574 - dense_112_accuracy: 0.9997 - val_loss: 6.1509 - val_dense_107_loss: 0.6810 - val_dense_108_loss: 2.0095 - val_dense_109_loss: 2.1629 - val_dense_110_loss: 1.0656 - val_dense_111_loss: 0.2265 - val_dense_112_loss: 0.0030 - val_dense_107_accuracy: 0.7162 - val_dense_108_accuracy: 0.2676 - val_dense_109_accuracy: 0.2332 - val_dense_110_accuracy: 0.7029 - val_dense_111_accuracy: 0.9542 - val_dense_112_accuracy: 0.9997\n",
      "Epoch 6/20\n",
      "26721/26721 [==============================] - 57s 2ms/step - loss: 6.0342 - dense_107_loss: 0.6559 - dense_108_loss: 1.9866 - dense_109_loss: 2.1426 - dense_110_loss: 1.0414 - dense_111_loss: 0.2048 - dense_112_loss: 0.0030 - dense_107_accuracy: 0.7224 - dense_108_accuracy: 0.2776 - dense_109_accuracy: 0.2401 - dense_110_accuracy: 0.7038 - dense_111_accuracy: 0.9574 - dense_112_accuracy: 0.9997 - val_loss: 5.9437 - val_dense_107_loss: 0.6004 - val_dense_108_loss: 1.9988 - val_dense_109_loss: 2.1358 - val_dense_110_loss: 1.0048 - val_dense_111_loss: 0.1981 - val_dense_112_loss: 0.0032 - val_dense_107_accuracy: 0.7584 - val_dense_108_accuracy: 0.2714 - val_dense_109_accuracy: 0.2438 - val_dense_110_accuracy: 0.7044 - val_dense_111_accuracy: 0.9542 - val_dense_112_accuracy: 0.9997\n",
      "Epoch 7/20\n",
      "26721/26721 [==============================] - 57s 2ms/step - loss: 5.7363 - dense_107_loss: 0.5680 - dense_108_loss: 1.9241 - dense_109_loss: 2.0625 - dense_110_loss: 0.9823 - dense_111_loss: 0.1968 - dense_112_loss: 0.0029 - dense_107_accuracy: 0.7698 - dense_108_accuracy: 0.3096 - dense_109_accuracy: 0.2744 - dense_110_accuracy: 0.7082 - dense_111_accuracy: 0.9574 - dense_112_accuracy: 0.9997 - val_loss: 5.6008 - val_dense_107_loss: 0.5667 - val_dense_108_loss: 1.8270 - val_dense_109_loss: 2.0158 - val_dense_110_loss: 0.9942 - val_dense_111_loss: 0.1948 - val_dense_112_loss: 0.0033 - val_dense_107_accuracy: 0.7734 - val_dense_108_accuracy: 0.3619 - val_dense_109_accuracy: 0.2920 - val_dense_110_accuracy: 0.7128 - val_dense_111_accuracy: 0.9542 - val_dense_112_accuracy: 0.9997\n",
      "Epoch 8/20\n",
      "26721/26721 [==============================] - 57s 2ms/step - loss: 5.0232 - dense_107_loss: 0.4821 - dense_108_loss: 1.6281 - dense_109_loss: 1.8072 - dense_110_loss: 0.9128 - dense_111_loss: 0.1894 - dense_112_loss: 0.0030 - dense_107_accuracy: 0.8091 - dense_108_accuracy: 0.4407 - dense_109_accuracy: 0.3651 - dense_110_accuracy: 0.7189 - dense_111_accuracy: 0.9574 - dense_112_accuracy: 0.9997 - val_loss: 4.6408 - val_dense_107_loss: 0.4565 - val_dense_108_loss: 1.4740 - val_dense_109_loss: 1.6494 - val_dense_110_loss: 0.8636 - val_dense_111_loss: 0.1941 - val_dense_112_loss: 0.0030 - val_dense_107_accuracy: 0.8084 - val_dense_108_accuracy: 0.4830 - val_dense_109_accuracy: 0.4227 - val_dense_110_accuracy: 0.7244 - val_dense_111_accuracy: 0.9540 - val_dense_112_accuracy: 0.9997\n",
      "Epoch 9/20\n",
      "26721/26721 [==============================] - 57s 2ms/step - loss: 4.1012 - dense_107_loss: 0.3685 - dense_108_loss: 1.2797 - dense_109_loss: 1.4860 - dense_110_loss: 0.7829 - dense_111_loss: 0.1797 - dense_112_loss: 0.0028 - dense_107_accuracy: 0.8556 - dense_108_accuracy: 0.5562 - dense_109_accuracy: 0.4798 - dense_110_accuracy: 0.7488 - dense_111_accuracy: 0.9573 - dense_112_accuracy: 0.9997 - val_loss: 3.6855 - val_dense_107_loss: 0.3292 - val_dense_108_loss: 1.0992 - val_dense_109_loss: 1.3563 - val_dense_110_loss: 0.7222 - val_dense_111_loss: 0.1724 - val_dense_112_loss: 0.0033 - val_dense_107_accuracy: 0.8701 - val_dense_108_accuracy: 0.6180 - val_dense_109_accuracy: 0.5318 - val_dense_110_accuracy: 0.7661 - val_dense_111_accuracy: 0.9542 - val_dense_112_accuracy: 0.9997\n",
      "Epoch 10/20\n",
      "26721/26721 [==============================] - 57s 2ms/step - loss: 3.1658 - dense_107_loss: 0.2802 - dense_108_loss: 0.8910 - dense_109_loss: 1.1698 - dense_110_loss: 0.6689 - dense_111_loss: 0.1518 - dense_112_loss: 0.0030 - dense_107_accuracy: 0.8945 - dense_108_accuracy: 0.7006 - dense_109_accuracy: 0.6020 - dense_110_accuracy: 0.7812 - dense_111_accuracy: 0.9583 - dense_112_accuracy: 0.9997 - val_loss: 2.8021 - val_dense_107_loss: 0.2530 - val_dense_108_loss: 0.7216 - val_dense_109_loss: 1.0723 - val_dense_110_loss: 0.6015 - val_dense_111_loss: 0.1466 - val_dense_112_loss: 0.0040 - val_dense_107_accuracy: 0.9053 - val_dense_108_accuracy: 0.7678 - val_dense_109_accuracy: 0.6309 - val_dense_110_accuracy: 0.8033 - val_dense_111_accuracy: 0.9567 - val_dense_112_accuracy: 0.9997\n",
      "Epoch 11/20\n",
      "26721/26721 [==============================] - 57s 2ms/step - loss: 2.5516 - dense_107_loss: 0.2308 - dense_108_loss: 0.6969 - dense_109_loss: 0.9291 - dense_110_loss: 0.5550 - dense_111_loss: 0.1370 - dense_112_loss: 0.0024 - dense_107_accuracy: 0.9171 - dense_108_accuracy: 0.7756 - dense_109_accuracy: 0.6898 - dense_110_accuracy: 0.8230 - dense_111_accuracy: 0.9608 - dense_112_accuracy: 0.9997 - val_loss: 6.4883 - val_dense_107_loss: 0.9151 - val_dense_108_loss: 1.7818 - val_dense_109_loss: 2.0965 - val_dense_110_loss: 1.1842 - val_dense_111_loss: 0.4951 - val_dense_112_loss: 0.0048 - val_dense_107_accuracy: 0.8391 - val_dense_108_accuracy: 0.6285 - val_dense_109_accuracy: 0.5688 - val_dense_110_accuracy: 0.7833 - val_dense_111_accuracy: 0.9536 - val_dense_112_accuracy: 0.9997\n",
      "Epoch 12/20\n",
      "26721/26721 [==============================] - 57s 2ms/step - loss: 2.0919 - dense_107_loss: 0.1888 - dense_108_loss: 0.5613 - dense_109_loss: 0.7584 - dense_110_loss: 0.4645 - dense_111_loss: 0.1170 - dense_112_loss: 0.0023 - dense_107_accuracy: 0.9316 - dense_108_accuracy: 0.8202 - dense_109_accuracy: 0.7516 - dense_110_accuracy: 0.8515 - dense_111_accuracy: 0.9650 - dense_112_accuracy: 0.9997 - val_loss: 1.9072 - val_dense_107_loss: 0.1767 - val_dense_108_loss: 0.5050 - val_dense_109_loss: 0.6730 - val_dense_110_loss: 0.4322 - val_dense_111_loss: 0.1167 - val_dense_112_loss: 0.0035 - val_dense_107_accuracy: 0.9383 - val_dense_108_accuracy: 0.8364 - val_dense_109_accuracy: 0.7794 - val_dense_110_accuracy: 0.8701 - val_dense_111_accuracy: 0.9630 - val_dense_112_accuracy: 0.9997\n",
      "Epoch 13/20\n",
      "26721/26721 [==============================] - 57s 2ms/step - loss: 1.7021 - dense_107_loss: 0.1500 - dense_108_loss: 0.4559 - dense_109_loss: 0.6059 - dense_110_loss: 0.3856 - dense_111_loss: 0.1026 - dense_112_loss: 0.0019 - dense_107_accuracy: 0.9478 - dense_108_accuracy: 0.8565 - dense_109_accuracy: 0.8072 - dense_110_accuracy: 0.8787 - dense_111_accuracy: 0.9684 - dense_112_accuracy: 0.9997 - val_loss: 1.8297 - val_dense_107_loss: 0.1892 - val_dense_108_loss: 0.4688 - val_dense_109_loss: 0.6335 - val_dense_110_loss: 0.4114 - val_dense_111_loss: 0.1222 - val_dense_112_loss: 0.0035 - val_dense_107_accuracy: 0.9331 - val_dense_108_accuracy: 0.8526 - val_dense_109_accuracy: 0.7964 - val_dense_110_accuracy: 0.8746 - val_dense_111_accuracy: 0.9657 - val_dense_112_accuracy: 0.9997\n",
      "Epoch 14/20\n",
      "26721/26721 [==============================] - 57s 2ms/step - loss: 1.4851 - dense_107_loss: 0.1322 - dense_108_loss: 0.3957 - dense_109_loss: 0.5228 - dense_110_loss: 0.3357 - dense_111_loss: 0.0971 - dense_112_loss: 0.0016 - dense_107_accuracy: 0.9534 - dense_108_accuracy: 0.8732 - dense_109_accuracy: 0.8316 - dense_110_accuracy: 0.8923 - dense_111_accuracy: 0.9695 - dense_112_accuracy: 0.9997 - val_loss: 1.6150 - val_dense_107_loss: 0.1629 - val_dense_108_loss: 0.4198 - val_dense_109_loss: 0.5530 - val_dense_110_loss: 0.3646 - val_dense_111_loss: 0.1084 - val_dense_112_loss: 0.0040 - val_dense_107_accuracy: 0.9467 - val_dense_108_accuracy: 0.8696 - val_dense_109_accuracy: 0.8235 - val_dense_110_accuracy: 0.8877 - val_dense_111_accuracy: 0.9672 - val_dense_112_accuracy: 0.9997\n",
      "Epoch 15/20\n",
      "26721/26721 [==============================] - 57s 2ms/step - loss: 1.3162 - dense_107_loss: 0.1142 - dense_108_loss: 0.3597 - dense_109_loss: 0.4604 - dense_110_loss: 0.2940 - dense_111_loss: 0.0861 - dense_112_loss: 0.0018 - dense_107_accuracy: 0.9609 - dense_108_accuracy: 0.8844 - dense_109_accuracy: 0.8525 - dense_110_accuracy: 0.9066 - dense_111_accuracy: 0.9728 - dense_112_accuracy: 0.9996 - val_loss: 1.5525 - val_dense_107_loss: 0.1642 - val_dense_108_loss: 0.4076 - val_dense_109_loss: 0.5250 - val_dense_110_loss: 0.3485 - val_dense_111_loss: 0.1006 - val_dense_112_loss: 0.0036 - val_dense_107_accuracy: 0.9490 - val_dense_108_accuracy: 0.8740 - val_dense_109_accuracy: 0.8309 - val_dense_110_accuracy: 0.8943 - val_dense_111_accuracy: 0.9710 - val_dense_112_accuracy: 0.9997\n",
      "Epoch 16/20\n",
      "26721/26721 [==============================] - 57s 2ms/step - loss: 1.1899 - dense_107_loss: 0.1018 - dense_108_loss: 0.3245 - dense_109_loss: 0.4157 - dense_110_loss: 0.2674 - dense_111_loss: 0.0789 - dense_112_loss: 0.0015 - dense_107_accuracy: 0.9641 - dense_108_accuracy: 0.8966 - dense_109_accuracy: 0.8656 - dense_110_accuracy: 0.9145 - dense_111_accuracy: 0.9748 - dense_112_accuracy: 0.9997 - val_loss: 1.6660 - val_dense_107_loss: 0.2039 - val_dense_108_loss: 0.4093 - val_dense_109_loss: 0.5728 - val_dense_110_loss: 0.3700 - val_dense_111_loss: 0.1040 - val_dense_112_loss: 0.0041 - val_dense_107_accuracy: 0.9332 - val_dense_108_accuracy: 0.8746 - val_dense_109_accuracy: 0.8243 - val_dense_110_accuracy: 0.8946 - val_dense_111_accuracy: 0.9696 - val_dense_112_accuracy: 0.9997\n",
      "Epoch 17/20\n",
      "26721/26721 [==============================] - 57s 2ms/step - loss: 1.0809 - dense_107_loss: 0.0903 - dense_108_loss: 0.2964 - dense_109_loss: 0.3774 - dense_110_loss: 0.2403 - dense_111_loss: 0.0750 - dense_112_loss: 0.0015 - dense_107_accuracy: 0.9692 - dense_108_accuracy: 0.9052 - dense_109_accuracy: 0.8797 - dense_110_accuracy: 0.9225 - dense_111_accuracy: 0.9759 - dense_112_accuracy: 0.9996 - val_loss: 1.4528 - val_dense_107_loss: 0.1493 - val_dense_108_loss: 0.4019 - val_dense_109_loss: 0.4899 - val_dense_110_loss: 0.3129 - val_dense_111_loss: 0.0931 - val_dense_112_loss: 0.0040 - val_dense_107_accuracy: 0.9509 - val_dense_108_accuracy: 0.8786 - val_dense_109_accuracy: 0.8461 - val_dense_110_accuracy: 0.9070 - val_dense_111_accuracy: 0.9722 - val_dense_112_accuracy: 0.9997\n",
      "Epoch 18/20\n",
      "26721/26721 [==============================] - 57s 2ms/step - loss: 0.9574 - dense_107_loss: 0.0792 - dense_108_loss: 0.2658 - dense_109_loss: 0.3350 - dense_110_loss: 0.2110 - dense_111_loss: 0.0658 - dense_112_loss: 0.0011 - dense_107_accuracy: 0.9713 - dense_108_accuracy: 0.9155 - dense_109_accuracy: 0.8933 - dense_110_accuracy: 0.9326 - dense_111_accuracy: 0.9792 - dense_112_accuracy: 0.9998 - val_loss: 1.4375 - val_dense_107_loss: 0.1511 - val_dense_108_loss: 0.3980 - val_dense_109_loss: 0.4759 - val_dense_110_loss: 0.3085 - val_dense_111_loss: 0.0972 - val_dense_112_loss: 0.0040 - val_dense_107_accuracy: 0.9514 - val_dense_108_accuracy: 0.8780 - val_dense_109_accuracy: 0.8523 - val_dense_110_accuracy: 0.8996 - val_dense_111_accuracy: 0.9725 - val_dense_112_accuracy: 0.9997\n",
      "Epoch 19/20\n",
      "26721/26721 [==============================] - 57s 2ms/step - loss: 0.9010 - dense_107_loss: 0.0719 - dense_108_loss: 0.2523 - dense_109_loss: 0.3158 - dense_110_loss: 0.1986 - dense_111_loss: 0.0607 - dense_112_loss: 0.0014 - dense_107_accuracy: 0.9747 - dense_108_accuracy: 0.9217 - dense_109_accuracy: 0.8996 - dense_110_accuracy: 0.9367 - dense_111_accuracy: 0.9801 - dense_112_accuracy: 0.9997 - val_loss: 1.4034 - val_dense_107_loss: 0.1492 - val_dense_108_loss: 0.3771 - val_dense_109_loss: 0.4764 - val_dense_110_loss: 0.2972 - val_dense_111_loss: 0.0961 - val_dense_112_loss: 0.0040 - val_dense_107_accuracy: 0.9548 - val_dense_108_accuracy: 0.8921 - val_dense_109_accuracy: 0.8593 - val_dense_110_accuracy: 0.9130 - val_dense_111_accuracy: 0.9713 - val_dense_112_accuracy: 0.9997\n",
      "Epoch 20/20\n",
      "26721/26721 [==============================] - 57s 2ms/step - loss: 0.8101 - dense_107_loss: 0.0614 - dense_108_loss: 0.2310 - dense_109_loss: 0.2882 - dense_110_loss: 0.1715 - dense_111_loss: 0.0568 - dense_112_loss: 0.0015 - dense_107_accuracy: 0.9779 - dense_108_accuracy: 0.9274 - dense_109_accuracy: 0.9079 - dense_110_accuracy: 0.9455 - dense_111_accuracy: 0.9811 - dense_112_accuracy: 0.9996 - val_loss: 1.4411 - val_dense_107_loss: 0.1769 - val_dense_108_loss: 0.3761 - val_dense_109_loss: 0.4840 - val_dense_110_loss: 0.3126 - val_dense_111_loss: 0.0874 - val_dense_112_loss: 0.0040 - val_dense_107_accuracy: 0.9490 - val_dense_108_accuracy: 0.8918 - val_dense_109_accuracy: 0.8624 - val_dense_110_accuracy: 0.9111 - val_dense_111_accuracy: 0.9759 - val_dense_112_accuracy: 0.9997\n"
     ]
    }
   ],
   "source": [
    "model3_3= build_model3_3()\n",
    "adam = optimizers.Adam(learning_rate=0.001, beta_1=0.9, beta_2=0.999, amsgrad=False)\n",
    "model3_3.compile(optimizer = adam, loss = \"categorical_crossentropy\",metrics = [\"accuracy\"])\n",
    "history3_3 = model3_3.fit(x=x_train,\n",
    "               y=[y_train_num,y_train_digits[0],y_train_digits[1],y_train_digits[2],y_train_digits[3],y_train_digits[4]],\n",
    "                batch_size=64, epochs=20,verbose=1,validation_split=0.2,shuffle=True)"
   ]
  },
  {
   "cell_type": "code",
   "execution_count": 166,
   "metadata": {},
   "outputs": [
    {
     "name": "stdout",
     "output_type": "stream",
     "text": [
      "['loss', 'dense_107_loss', 'dense_108_loss', 'dense_109_loss', 'dense_110_loss', 'dense_111_loss', 'dense_112_loss', 'dense_107_accuracy', 'dense_108_accuracy', 'dense_109_accuracy', 'dense_110_accuracy', 'dense_111_accuracy', 'dense_112_accuracy']\n"
     ]
    }
   ],
   "source": [
    "print(model3_3.metrics_names)"
   ]
  },
  {
   "cell_type": "code",
   "execution_count": 167,
   "metadata": {
    "scrolled": true
   },
   "outputs": [
    {
     "name": "stdout",
     "output_type": "stream",
     "text": [
      "0.7639271502907866\n"
     ]
    }
   ],
   "source": [
    "test3_3 = test_acc(model3_3)\n",
    "print(test3_3)\n",
    "val_loss3_3,val_acc3_3,train_loss3_3,train_acc3_3 = get_array(history3_3,107)\n",
    "val_acc3_3 = np.insert(val_acc3_3,0,0)\n",
    "train_acc3_3 = np.insert(train_acc3_3,0,0)"
   ]
  },
  {
   "cell_type": "markdown",
   "metadata": {},
   "source": [
    "## 3.4 Adam-10Layer-0Dropout"
   ]
  },
  {
   "cell_type": "code",
   "execution_count": 157,
   "metadata": {},
   "outputs": [],
   "source": [
    "# 3.4 model with 10 hidden layers \n",
    "def build_model3_4():\n",
    "    identifier = Sequential()\n",
    "    Input_1 = Input(shape=(64,64,3))\n",
    "    conv_model = BatchNormalization()(Input_1)\n",
    "    conv_model = Convolution2D(48, (5, 5), activation='relu',padding=\"same\")(conv_model)\n",
    "    conv_model = MaxPooling2D(pool_size=(2, 2), strides=(2,2))(conv_model)\n",
    "\n",
    "    conv_model = BatchNormalization()(conv_model)\n",
    "    conv_model = Convolution2D(54, (5, 5), activation='relu',padding=\"same\")(conv_model)\n",
    "    conv_model = MaxPooling2D(pool_size=(2, 2), strides=(1,1))(conv_model)\n",
    "\n",
    "    conv_model = BatchNormalization()(conv_model)\n",
    "    conv_model = Convolution2D(128, (5, 5), activation='relu',padding=\"same\")(conv_model)\n",
    "    conv_model = MaxPooling2D(pool_size=(2, 2), strides=(2,2))(conv_model)\n",
    "    conv_model = Dropout(0.1)(conv_model)\n",
    "\n",
    "    conv_model = BatchNormalization()(conv_model)\n",
    "    conv_model = Convolution2D(160, (5, 5), activation='relu',padding=\"same\")(conv_model)\n",
    "    conv_model = MaxPooling2D(pool_size=(2, 2), strides=(1,1))(conv_model)\n",
    "\n",
    "    conv_model = BatchNormalization()(conv_model)\n",
    "    conv_model = Convolution2D(160, (5, 5), activation='relu',padding=\"same\")(conv_model)\n",
    "    conv_model = MaxPooling2D(pool_size=(2, 2), strides=(1,1))(conv_model)\n",
    "\n",
    "    conv_model = BatchNormalization()(conv_model)\n",
    "    conv_model = Convolution2D(192, (5, 5), activation='relu',padding=\"same\")(conv_model)\n",
    "    conv_model = MaxPooling2D(pool_size=(2, 2), strides=(1,1))(conv_model)\n",
    "\n",
    "    conv_model = BatchNormalization()(conv_model)\n",
    "    conv_model = Convolution2D(192, (5, 5), activation='relu',padding=\"same\")(conv_model)\n",
    "    conv_model = MaxPooling2D(pool_size=(2, 2), strides=(1,1))(conv_model)\n",
    "\n",
    "    conv_model = BatchNormalization()(conv_model)\n",
    "    conv_model = Convolution2D(192, (5, 5), activation='relu',padding=\"same\")(conv_model)\n",
    "    conv_model = MaxPooling2D(pool_size=(2, 2), strides=(2,2))(conv_model)\n",
    "    \n",
    "    conv_model = BatchNormalization()(conv_model)\n",
    "    conv_model = Convolution2D(192, (5, 5), activation='relu',padding=\"same\")(conv_model)\n",
    "    conv_model = MaxPooling2D(pool_size=(2, 2), strides=(1,1))(conv_model)\n",
    "    \n",
    "    conv_model = BatchNormalization()(conv_model)\n",
    "    conv_model = Convolution2D(192, (5, 5), activation='relu',padding=\"same\")(conv_model)\n",
    "    conv_model = MaxPooling2D(pool_size=(2, 2), strides=(1,1))(conv_model)\n",
    "\n",
    "    conv_model = Flatten()(conv_model)\n",
    "    conv_model = Dense(1024,activation = 'relu')(conv_model)\n",
    "    conv_model = Dense(512,activation = 'relu')(conv_model)\n",
    "\n",
    "    x1 = Dense(6, activation = 'softmax')(conv_model)\n",
    "    x2 = Dense(11, activation = 'softmax')(conv_model)\n",
    "    x3 = Dense(11, activation = 'softmax')(conv_model)\n",
    "    x4 = Dense(11, activation = 'softmax')(conv_model)\n",
    "    x5 = Dense(11, activation = 'softmax')(conv_model)\n",
    "    x6 = Dense(11, activation = 'softmax')(conv_model)\n",
    "\n",
    "    y = [x1,x2,x3,x4,x5,x6]\n",
    "\n",
    "    identifier = Model(inputs = Input_1, outputs = y)\n",
    "    return identifier"
   ]
  },
  {
   "cell_type": "code",
   "execution_count": 158,
   "metadata": {},
   "outputs": [
    {
     "name": "stdout",
     "output_type": "stream",
     "text": [
      "Train on 26721 samples, validate on 6681 samples\n",
      "Epoch 1/20\n",
      "26721/26721 [==============================] - 84s 3ms/step - loss: 5.6903 - dense_115_loss: 0.6858 - dense_116_loss: 1.7281 - dense_117_loss: 2.0078 - dense_118_loss: 1.0460 - dense_119_loss: 0.2122 - dense_120_loss: 0.0090 - dense_115_accuracy: 0.7133 - dense_116_accuracy: 0.3905 - dense_117_accuracy: 0.3034 - dense_118_accuracy: 0.7060 - dense_119_accuracy: 0.9563 - dense_120_accuracy: 0.9985 - val_loss: 4.9750 - val_dense_115_loss: 0.5535 - val_dense_116_loss: 1.5406 - val_dense_117_loss: 1.6300 - val_dense_118_loss: 1.0086 - val_dense_119_loss: 0.2384 - val_dense_120_loss: 0.0023 - val_dense_115_accuracy: 0.8042 - val_dense_116_accuracy: 0.5465 - val_dense_117_accuracy: 0.4887 - val_dense_118_accuracy: 0.7216 - val_dense_119_accuracy: 0.9542 - val_dense_120_accuracy: 0.9997\n",
      "Epoch 2/20\n",
      "26721/26721 [==============================] - 77s 3ms/step - loss: 2.8282 - dense_115_loss: 0.2817 - dense_116_loss: 0.7634 - dense_117_loss: 0.9812 - dense_118_loss: 0.6447 - dense_119_loss: 0.1531 - dense_120_loss: 0.0034 - dense_115_accuracy: 0.8963 - dense_116_accuracy: 0.7533 - dense_117_accuracy: 0.6756 - dense_118_accuracy: 0.7910 - dense_119_accuracy: 0.9591 - dense_120_accuracy: 0.9997 - val_loss: 2.2185 - val_dense_115_loss: 0.1969 - val_dense_116_loss: 0.6033 - val_dense_117_loss: 0.7527 - val_dense_118_loss: 0.5143 - val_dense_119_loss: 0.1453 - val_dense_120_loss: 0.0041 - val_dense_115_accuracy: 0.9353 - val_dense_116_accuracy: 0.8201 - val_dense_117_accuracy: 0.7686 - val_dense_118_accuracy: 0.8442 - val_dense_119_accuracy: 0.9590 - val_dense_120_accuracy: 0.9997\n",
      "Epoch 3/20\n",
      "26721/26721 [==============================] - 77s 3ms/step - loss: 1.7284 - dense_115_loss: 0.1810 - dense_116_loss: 0.4560 - dense_117_loss: 0.5718 - dense_118_loss: 0.3907 - dense_119_loss: 0.1277 - dense_120_loss: 0.0025 - dense_115_accuracy: 0.9379 - dense_116_accuracy: 0.8596 - dense_117_accuracy: 0.8267 - dense_118_accuracy: 0.8801 - dense_119_accuracy: 0.9621 - dense_120_accuracy: 0.9997 - val_loss: 1.5605 - val_dense_115_loss: 0.1569 - val_dense_116_loss: 0.3926 - val_dense_117_loss: 0.5371 - val_dense_118_loss: 0.3465 - val_dense_119_loss: 0.1240 - val_dense_120_loss: 0.0033 - val_dense_115_accuracy: 0.9505 - val_dense_116_accuracy: 0.8831 - val_dense_117_accuracy: 0.8377 - val_dense_118_accuracy: 0.8922 - val_dense_119_accuracy: 0.9642 - val_dense_120_accuracy: 0.9997\n",
      "Epoch 4/20\n",
      "26721/26721 [==============================] - 76s 3ms/step - loss: 1.3486 - dense_115_loss: 0.1366 - dense_116_loss: 0.3625 - dense_117_loss: 0.4390 - dense_118_loss: 0.2941 - dense_119_loss: 0.1138 - dense_120_loss: 0.0027 - dense_115_accuracy: 0.9555 - dense_116_accuracy: 0.8920 - dense_117_accuracy: 0.8662 - dense_118_accuracy: 0.9103 - dense_119_accuracy: 0.9658 - dense_120_accuracy: 0.9997 - val_loss: 1.4289 - val_dense_115_loss: 0.1431 - val_dense_116_loss: 0.3806 - val_dense_117_loss: 0.4602 - val_dense_118_loss: 0.3215 - val_dense_119_loss: 0.1209 - val_dense_120_loss: 0.0027 - val_dense_115_accuracy: 0.9530 - val_dense_116_accuracy: 0.8874 - val_dense_117_accuracy: 0.8575 - val_dense_118_accuracy: 0.9050 - val_dense_119_accuracy: 0.9635 - val_dense_120_accuracy: 0.9997\n",
      "Epoch 5/20\n",
      "26721/26721 [==============================] - 76s 3ms/step - loss: 1.1073 - dense_115_loss: 0.1148 - dense_116_loss: 0.2875 - dense_117_loss: 0.3668 - dense_118_loss: 0.2349 - dense_119_loss: 0.1017 - dense_120_loss: 0.0021 - dense_115_accuracy: 0.9626 - dense_116_accuracy: 0.9137 - dense_117_accuracy: 0.8913 - dense_118_accuracy: 0.9289 - dense_119_accuracy: 0.9686 - dense_120_accuracy: 0.9997 - val_loss: 1.3012 - val_dense_115_loss: 0.1398 - val_dense_116_loss: 0.3313 - val_dense_117_loss: 0.4015 - val_dense_118_loss: 0.3120 - val_dense_119_loss: 0.1137 - val_dense_120_loss: 0.0039 - val_dense_115_accuracy: 0.9545 - val_dense_116_accuracy: 0.9093 - val_dense_117_accuracy: 0.8855 - val_dense_118_accuracy: 0.9132 - val_dense_119_accuracy: 0.9648 - val_dense_120_accuracy: 0.9997\n",
      "Epoch 6/20\n",
      "26721/26721 [==============================] - 76s 3ms/step - loss: 0.9310 - dense_115_loss: 0.0925 - dense_116_loss: 0.2483 - dense_117_loss: 0.3021 - dense_118_loss: 0.2021 - dense_119_loss: 0.0837 - dense_120_loss: 0.0016 - dense_115_accuracy: 0.9699 - dense_116_accuracy: 0.9270 - dense_117_accuracy: 0.9080 - dense_118_accuracy: 0.9389 - dense_119_accuracy: 0.9732 - dense_120_accuracy: 0.9997 - val_loss: 1.2706 - val_dense_115_loss: 0.1461 - val_dense_116_loss: 0.3472 - val_dense_117_loss: 0.3988 - val_dense_118_loss: 0.2644 - val_dense_119_loss: 0.1100 - val_dense_120_loss: 0.0043 - val_dense_115_accuracy: 0.9511 - val_dense_116_accuracy: 0.8985 - val_dense_117_accuracy: 0.8888 - val_dense_118_accuracy: 0.9283 - val_dense_119_accuracy: 0.9713 - val_dense_120_accuracy: 0.9997\n",
      "Epoch 7/20\n",
      "26721/26721 [==============================] - 76s 3ms/step - loss: 0.8135 - dense_115_loss: 0.0827 - dense_116_loss: 0.2187 - dense_117_loss: 0.2659 - dense_118_loss: 0.1708 - dense_119_loss: 0.0732 - dense_120_loss: 0.0019 - dense_115_accuracy: 0.9731 - dense_116_accuracy: 0.9351 - dense_117_accuracy: 0.9200 - dense_118_accuracy: 0.9483 - dense_119_accuracy: 0.9768 - dense_120_accuracy: 0.9997 - val_loss: 1.2202 - val_dense_115_loss: 0.1257 - val_dense_116_loss: 0.3533 - val_dense_117_loss: 0.4034 - val_dense_118_loss: 0.2535 - val_dense_119_loss: 0.0795 - val_dense_120_loss: 0.0043 - val_dense_115_accuracy: 0.9632 - val_dense_116_accuracy: 0.9018 - val_dense_117_accuracy: 0.8895 - val_dense_118_accuracy: 0.9329 - val_dense_119_accuracy: 0.9768 - val_dense_120_accuracy: 0.9997\n",
      "Epoch 8/20\n",
      "26721/26721 [==============================] - 76s 3ms/step - loss: 0.6970 - dense_115_loss: 0.0693 - dense_116_loss: 0.1942 - dense_117_loss: 0.2304 - dense_118_loss: 0.1400 - dense_119_loss: 0.0611 - dense_120_loss: 0.0022 - dense_115_accuracy: 0.9772 - dense_116_accuracy: 0.9418 - dense_117_accuracy: 0.9308 - dense_118_accuracy: 0.9576 - dense_119_accuracy: 0.9807 - dense_120_accuracy: 0.9996 - val_loss: 1.1539 - val_dense_115_loss: 0.1285 - val_dense_116_loss: 0.2981 - val_dense_117_loss: 0.3979 - val_dense_118_loss: 0.2500 - val_dense_119_loss: 0.0750 - val_dense_120_loss: 0.0035 - val_dense_115_accuracy: 0.9618 - val_dense_116_accuracy: 0.9172 - val_dense_117_accuracy: 0.8928 - val_dense_118_accuracy: 0.9343 - val_dense_119_accuracy: 0.9798 - val_dense_120_accuracy: 0.9997\n",
      "Epoch 9/20\n",
      "26721/26721 [==============================] - 76s 3ms/step - loss: 0.6338 - dense_115_loss: 0.0634 - dense_116_loss: 0.1784 - dense_117_loss: 0.2116 - dense_118_loss: 0.1268 - dense_119_loss: 0.0520 - dense_120_loss: 0.0021 - dense_115_accuracy: 0.9791 - dense_116_accuracy: 0.9480 - dense_117_accuracy: 0.9381 - dense_118_accuracy: 0.9618 - dense_119_accuracy: 0.9838 - dense_120_accuracy: 0.9996 - val_loss: 1.2317 - val_dense_115_loss: 0.1593 - val_dense_116_loss: 0.3120 - val_dense_117_loss: 0.3784 - val_dense_118_loss: 0.3001 - val_dense_119_loss: 0.0804 - val_dense_120_loss: 0.0049 - val_dense_115_accuracy: 0.9590 - val_dense_116_accuracy: 0.9196 - val_dense_117_accuracy: 0.9039 - val_dense_118_accuracy: 0.9302 - val_dense_119_accuracy: 0.9798 - val_dense_120_accuracy: 0.9997\n",
      "Epoch 10/20\n",
      "26721/26721 [==============================] - 76s 3ms/step - loss: 0.5645 - dense_115_loss: 0.0546 - dense_116_loss: 0.1588 - dense_117_loss: 0.1923 - dense_118_loss: 0.1141 - dense_119_loss: 0.0431 - dense_120_loss: 0.0013 - dense_115_accuracy: 0.9824 - dense_116_accuracy: 0.9535 - dense_117_accuracy: 0.9431 - dense_118_accuracy: 0.9637 - dense_119_accuracy: 0.9863 - dense_120_accuracy: 0.9997 - val_loss: 1.1154 - val_dense_115_loss: 0.1347 - val_dense_116_loss: 0.2975 - val_dense_117_loss: 0.3653 - val_dense_118_loss: 0.2408 - val_dense_119_loss: 0.0715 - val_dense_120_loss: 0.0047 - val_dense_115_accuracy: 0.9653 - val_dense_116_accuracy: 0.9238 - val_dense_117_accuracy: 0.9056 - val_dense_118_accuracy: 0.9439 - val_dense_119_accuracy: 0.9829 - val_dense_120_accuracy: 0.9997\n",
      "Epoch 11/20\n",
      "26721/26721 [==============================] - 76s 3ms/step - loss: 0.4855 - dense_115_loss: 0.0449 - dense_116_loss: 0.1406 - dense_117_loss: 0.1665 - dense_118_loss: 0.0953 - dense_119_loss: 0.0373 - dense_120_loss: 0.0013 - dense_115_accuracy: 0.9851 - dense_116_accuracy: 0.9580 - dense_117_accuracy: 0.9510 - dense_118_accuracy: 0.9716 - dense_119_accuracy: 0.9887 - dense_120_accuracy: 0.9997 - val_loss: 1.0909 - val_dense_115_loss: 0.1267 - val_dense_116_loss: 0.3006 - val_dense_117_loss: 0.3558 - val_dense_118_loss: 0.2379 - val_dense_119_loss: 0.0653 - val_dense_120_loss: 0.0053 - val_dense_115_accuracy: 0.9638 - val_dense_116_accuracy: 0.9267 - val_dense_117_accuracy: 0.9109 - val_dense_118_accuracy: 0.9430 - val_dense_119_accuracy: 0.9813 - val_dense_120_accuracy: 0.9994\n",
      "Epoch 12/20\n",
      "26721/26721 [==============================] - 76s 3ms/step - loss: 0.4550 - dense_115_loss: 0.0453 - dense_116_loss: 0.1293 - dense_117_loss: 0.1530 - dense_118_loss: 0.0920 - dense_119_loss: 0.0345 - dense_120_loss: 9.6793e-04 - dense_115_accuracy: 0.9845 - dense_116_accuracy: 0.9609 - dense_117_accuracy: 0.9534 - dense_118_accuracy: 0.9715 - dense_119_accuracy: 0.9891 - dense_120_accuracy: 0.9997 - val_loss: 1.1691 - val_dense_115_loss: 0.1168 - val_dense_116_loss: 0.3480 - val_dense_117_loss: 0.3705 - val_dense_118_loss: 0.2577 - val_dense_119_loss: 0.0709 - val_dense_120_loss: 0.0042 - val_dense_115_accuracy: 0.9651 - val_dense_116_accuracy: 0.9151 - val_dense_117_accuracy: 0.9072 - val_dense_118_accuracy: 0.9340 - val_dense_119_accuracy: 0.9811 - val_dense_120_accuracy: 0.9997\n",
      "Epoch 13/20\n",
      "26721/26721 [==============================] - 76s 3ms/step - loss: 0.4206 - dense_115_loss: 0.0397 - dense_116_loss: 0.1213 - dense_117_loss: 0.1419 - dense_118_loss: 0.0842 - dense_119_loss: 0.0321 - dense_120_loss: 0.0013 - dense_115_accuracy: 0.9871 - dense_116_accuracy: 0.9641 - dense_117_accuracy: 0.9576 - dense_118_accuracy: 0.9743 - dense_119_accuracy: 0.9902 - dense_120_accuracy: 0.9997 - val_loss: 1.0410 - val_dense_115_loss: 0.1200 - val_dense_116_loss: 0.2702 - val_dense_117_loss: 0.3288 - val_dense_118_loss: 0.2443 - val_dense_119_loss: 0.0693 - val_dense_120_loss: 0.0048 - val_dense_115_accuracy: 0.9666 - val_dense_116_accuracy: 0.9331 - val_dense_117_accuracy: 0.9180 - val_dense_118_accuracy: 0.9464 - val_dense_119_accuracy: 0.9846 - val_dense_120_accuracy: 0.9997\n",
      "Epoch 14/20\n",
      "26721/26721 [==============================] - 77s 3ms/step - loss: 0.3523 - dense_115_loss: 0.0328 - dense_116_loss: 0.1049 - dense_117_loss: 0.1183 - dense_118_loss: 0.0709 - dense_119_loss: 0.0250 - dense_120_loss: 9.5738e-04 - dense_115_accuracy: 0.9891 - dense_116_accuracy: 0.9698 - dense_117_accuracy: 0.9652 - dense_118_accuracy: 0.9781 - dense_119_accuracy: 0.9920 - dense_120_accuracy: 0.9998 - val_loss: 1.1689 - val_dense_115_loss: 0.1532 - val_dense_116_loss: 0.2923 - val_dense_117_loss: 0.3582 - val_dense_118_loss: 0.2720 - val_dense_119_loss: 0.0862 - val_dense_120_loss: 0.0046 - val_dense_115_accuracy: 0.9627 - val_dense_116_accuracy: 0.9292 - val_dense_117_accuracy: 0.9162 - val_dense_118_accuracy: 0.9418 - val_dense_119_accuracy: 0.9819 - val_dense_120_accuracy: 0.9997\n",
      "Epoch 15/20\n",
      "26721/26721 [==============================] - 77s 3ms/step - loss: 0.3639 - dense_115_loss: 0.0317 - dense_116_loss: 0.1059 - dense_117_loss: 0.1288 - dense_118_loss: 0.0727 - dense_119_loss: 0.0243 - dense_120_loss: 7.9706e-04 - dense_115_accuracy: 0.9891 - dense_116_accuracy: 0.9685 - dense_117_accuracy: 0.9613 - dense_118_accuracy: 0.9773 - dense_119_accuracy: 0.9921 - dense_120_accuracy: 0.9997 - val_loss: 1.1016 - val_dense_115_loss: 0.1431 - val_dense_116_loss: 0.2650 - val_dense_117_loss: 0.3550 - val_dense_118_loss: 0.2510 - val_dense_119_loss: 0.0792 - val_dense_120_loss: 0.0049 - val_dense_115_accuracy: 0.9653 - val_dense_116_accuracy: 0.9367 - val_dense_117_accuracy: 0.9147 - val_dense_118_accuracy: 0.9463 - val_dense_119_accuracy: 0.9825 - val_dense_120_accuracy: 0.9997\n",
      "Epoch 16/20\n",
      "26721/26721 [==============================] - 77s 3ms/step - loss: 0.3059 - dense_115_loss: 0.0277 - dense_116_loss: 0.0887 - dense_117_loss: 0.1036 - dense_118_loss: 0.0604 - dense_119_loss: 0.0244 - dense_120_loss: 7.7782e-04 - dense_115_accuracy: 0.9912 - dense_116_accuracy: 0.9744 - dense_117_accuracy: 0.9696 - dense_118_accuracy: 0.9815 - dense_119_accuracy: 0.9927 - dense_120_accuracy: 0.9999 - val_loss: 1.1597 - val_dense_115_loss: 0.1386 - val_dense_116_loss: 0.3158 - val_dense_117_loss: 0.3669 - val_dense_118_loss: 0.2595 - val_dense_119_loss: 0.0714 - val_dense_120_loss: 0.0049 - val_dense_115_accuracy: 0.9656 - val_dense_116_accuracy: 0.9310 - val_dense_117_accuracy: 0.9145 - val_dense_118_accuracy: 0.9448 - val_dense_119_accuracy: 0.9834 - val_dense_120_accuracy: 0.9997\n",
      "Epoch 17/20\n",
      "26721/26721 [==============================] - 77s 3ms/step - loss: 0.3333 - dense_115_loss: 0.0343 - dense_116_loss: 0.0977 - dense_117_loss: 0.1127 - dense_118_loss: 0.0661 - dense_119_loss: 0.0223 - dense_120_loss: 6.0428e-04 - dense_115_accuracy: 0.9891 - dense_116_accuracy: 0.9721 - dense_117_accuracy: 0.9652 - dense_118_accuracy: 0.9799 - dense_119_accuracy: 0.9929 - dense_120_accuracy: 0.9999 - val_loss: 1.1598 - val_dense_115_loss: 0.1318 - val_dense_116_loss: 0.3279 - val_dense_117_loss: 0.3678 - val_dense_118_loss: 0.2559 - val_dense_119_loss: 0.0689 - val_dense_120_loss: 0.0048 - val_dense_115_accuracy: 0.9674 - val_dense_116_accuracy: 0.9247 - val_dense_117_accuracy: 0.9165 - val_dense_118_accuracy: 0.9472 - val_dense_119_accuracy: 0.9844 - val_dense_120_accuracy: 0.9997\n",
      "Epoch 18/20\n",
      "26721/26721 [==============================] - 77s 3ms/step - loss: 0.2628 - dense_115_loss: 0.0237 - dense_116_loss: 0.0798 - dense_117_loss: 0.0892 - dense_118_loss: 0.0536 - dense_119_loss: 0.0164 - dense_120_loss: 2.4603e-04 - dense_115_accuracy: 0.9922 - dense_116_accuracy: 0.9774 - dense_117_accuracy: 0.9726 - dense_118_accuracy: 0.9839 - dense_119_accuracy: 0.9948 - dense_120_accuracy: 0.9999 - val_loss: 1.1914 - val_dense_115_loss: 0.1523 - val_dense_116_loss: 0.3056 - val_dense_117_loss: 0.3830 - val_dense_118_loss: 0.2679 - val_dense_119_loss: 0.0752 - val_dense_120_loss: 0.0048 - val_dense_115_accuracy: 0.9638 - val_dense_116_accuracy: 0.9326 - val_dense_117_accuracy: 0.9169 - val_dense_118_accuracy: 0.9499 - val_dense_119_accuracy: 0.9850 - val_dense_120_accuracy: 0.9994\n",
      "Epoch 19/20\n",
      "26721/26721 [==============================] - 77s 3ms/step - loss: 0.2585 - dense_115_loss: 0.0241 - dense_116_loss: 0.0768 - dense_117_loss: 0.0877 - dense_118_loss: 0.0527 - dense_119_loss: 0.0169 - dense_120_loss: 3.0522e-04 - dense_115_accuracy: 0.9915 - dense_116_accuracy: 0.9774 - dense_117_accuracy: 0.9735 - dense_118_accuracy: 0.9840 - dense_119_accuracy: 0.9948 - dense_120_accuracy: 0.9999 - val_loss: 1.1641 - val_dense_115_loss: 0.1575 - val_dense_116_loss: 0.2947 - val_dense_117_loss: 0.3664 - val_dense_118_loss: 0.2559 - val_dense_119_loss: 0.0858 - val_dense_120_loss: 0.0049 - val_dense_115_accuracy: 0.9587 - val_dense_116_accuracy: 0.9271 - val_dense_117_accuracy: 0.9118 - val_dense_118_accuracy: 0.9451 - val_dense_119_accuracy: 0.9793 - val_dense_120_accuracy: 0.9997\n",
      "Epoch 20/20\n",
      "26721/26721 [==============================] - 77s 3ms/step - loss: 0.2458 - dense_115_loss: 0.0217 - dense_116_loss: 0.0773 - dense_117_loss: 0.0806 - dense_118_loss: 0.0476 - dense_119_loss: 0.0180 - dense_120_loss: 6.8513e-04 - dense_115_accuracy: 0.9929 - dense_116_accuracy: 0.9780 - dense_117_accuracy: 0.9760 - dense_118_accuracy: 0.9864 - dense_119_accuracy: 0.9946 - dense_120_accuracy: 0.9997 - val_loss: 1.2396 - val_dense_115_loss: 0.1519 - val_dense_116_loss: 0.3387 - val_dense_117_loss: 0.4020 - val_dense_118_loss: 0.2586 - val_dense_119_loss: 0.0806 - val_dense_120_loss: 0.0048 - val_dense_115_accuracy: 0.9657 - val_dense_116_accuracy: 0.9276 - val_dense_117_accuracy: 0.9172 - val_dense_118_accuracy: 0.9481 - val_dense_119_accuracy: 0.9849 - val_dense_120_accuracy: 0.9997\n"
     ]
    }
   ],
   "source": [
    "model3_4= build_model3_4()\n",
    "adam = optimizers.Adam(learning_rate=0.001, beta_1=0.9, beta_2=0.999, amsgrad=False)\n",
    "model3_4.compile(optimizer = adam, loss = \"categorical_crossentropy\",metrics = [\"accuracy\"])\n",
    "history3_4 = model3_4.fit(x=x_train,\n",
    "               y=[y_train_num,y_train_digits[0],y_train_digits[1],y_train_digits[2],y_train_digits[3],y_train_digits[4]],\n",
    "                batch_size=64, epochs=20,verbose=1,validation_split=0.2,shuffle=True)"
   ]
  },
  {
   "cell_type": "code",
   "execution_count": 159,
   "metadata": {},
   "outputs": [
    {
     "name": "stdout",
     "output_type": "stream",
     "text": [
      "['loss', 'dense_115_loss', 'dense_116_loss', 'dense_117_loss', 'dense_118_loss', 'dense_119_loss', 'dense_120_loss', 'dense_115_accuracy', 'dense_116_accuracy', 'dense_117_accuracy', 'dense_118_accuracy', 'dense_119_accuracy', 'dense_120_accuracy']\n"
     ]
    }
   ],
   "source": [
    "print(model3_4.metrics_names)"
   ]
  },
  {
   "cell_type": "code",
   "execution_count": 161,
   "metadata": {
    "collapsed": true
   },
   "outputs": [
    {
     "name": "stdout",
     "output_type": "stream",
     "text": [
      "0.8494031221303948\n"
     ]
    }
   ],
   "source": [
    "test3_4 = test_acc(model3_4)\n",
    "print(test3_4)\n",
    "val_loss3_4,val_acc3_4,train_loss3_4,train_acc3_4 = get_array(history3_4,115)\n",
    "val_acc3_4 = np.insert(val_acc3_4,0,0)\n",
    "train_acc3_4 = np.insert(train_acc3_4,0,0)"
   ]
  },
  {
   "cell_type": "markdown",
   "metadata": {},
   "source": [
    "# 4. Model with Different Learning Rates"
   ]
  },
  {
   "cell_type": "markdown",
   "metadata": {},
   "source": [
    "## 4.1 with 0.005 learning rate"
   ]
  },
  {
   "cell_type": "code",
   "execution_count": 16,
   "metadata": {},
   "outputs": [
    {
     "name": "stdout",
     "output_type": "stream",
     "text": [
      "WARNING:tensorflow:From /home/ecbm4040/miniconda3/envs/envTF113/lib/python3.6/site-packages/tensorflow/python/ops/resource_variable_ops.py:435: colocate_with (from tensorflow.python.framework.ops) is deprecated and will be removed in a future version.\n",
      "Instructions for updating:\n",
      "Colocations handled automatically by placer.\n",
      "WARNING:tensorflow:From /home/ecbm4040/miniconda3/envs/envTF113/lib/python3.6/site-packages/tensorflow/python/ops/math_ops.py:3066: to_int32 (from tensorflow.python.ops.math_ops) is deprecated and will be removed in a future version.\n",
      "Instructions for updating:\n",
      "Use tf.cast instead.\n",
      "Train on 26721 samples, validate on 6681 samples\n",
      "Epoch 1/20\n",
      "26721/26721 [==============================] - 51s 2ms/step - loss: 10.7070 - dense_3_loss: 1.9079 - dense_4_loss: 3.0610 - dense_5_loss: 3.4987 - dense_6_loss: 1.7639 - dense_7_loss: 0.4059 - dense_8_loss: 0.0515 - dense_3_accuracy: 0.5184 - dense_4_accuracy: 0.2577 - dense_5_accuracy: 0.1403 - dense_6_accuracy: 0.6894 - dense_7_accuracy: 0.9486 - dense_8_accuracy: 0.9903 - val_loss: 22.0385 - val_dense_3_loss: 3.7434 - val_dense_4_loss: 6.7903 - val_dense_5_loss: 7.7021 - val_dense_6_loss: 2.8797 - val_dense_7_loss: 0.7061 - val_dense_8_loss: 0.0266 - val_dense_3_accuracy: 0.5284 - val_dense_4_accuracy: 0.2317 - val_dense_5_accuracy: 0.1163 - val_dense_6_accuracy: 0.6959 - val_dense_7_accuracy: 0.9542 - val_dense_8_accuracy: 0.9997\n",
      "Epoch 2/20\n",
      "26721/26721 [==============================] - 44s 2ms/step - loss: 7.5696 - dense_3_loss: 1.1878 - dense_4_loss: 2.1944 - dense_5_loss: 2.5768 - dense_6_loss: 1.3354 - dense_7_loss: 0.2688 - dense_8_loss: 0.0048 - dense_3_accuracy: 0.5563 - dense_4_accuracy: 0.2745 - dense_5_accuracy: 0.1582 - dense_6_accuracy: 0.6967 - dense_7_accuracy: 0.9573 - dense_8_accuracy: 0.9997 - val_loss: 10.3133 - val_dense_3_loss: 1.7084 - val_dense_4_loss: 2.7968 - val_dense_5_loss: 3.3392 - val_dense_6_loss: 1.8193 - val_dense_7_loss: 0.5364 - val_dense_8_loss: 0.0151 - val_dense_3_accuracy: 0.4658 - val_dense_4_accuracy: 0.2244 - val_dense_5_accuracy: 0.1543 - val_dense_6_accuracy: 0.6945 - val_dense_7_accuracy: 0.9542 - val_dense_8_accuracy: 0.9997\n",
      "Epoch 3/20\n",
      "26721/26721 [==============================] - 44s 2ms/step - loss: 7.2234 - dense_3_loss: 1.1011 - dense_4_loss: 2.1079 - dense_5_loss: 2.4728 - dense_6_loss: 1.2964 - dense_7_loss: 0.2385 - dense_8_loss: 0.0047 - dense_3_accuracy: 0.5625 - dense_4_accuracy: 0.2762 - dense_5_accuracy: 0.1636 - dense_6_accuracy: 0.6972 - dense_7_accuracy: 0.9573 - dense_8_accuracy: 0.9997 - val_loss: 24.8190 - val_dense_3_loss: 4.1717 - val_dense_4_loss: 8.0833 - val_dense_5_loss: 8.9433 - val_dense_6_loss: 3.0499 - val_dense_7_loss: 0.4150 - val_dense_8_loss: 0.0169 - val_dense_3_accuracy: 0.5556 - val_dense_4_accuracy: 0.2072 - val_dense_5_accuracy: 0.1182 - val_dense_6_accuracy: 0.6959 - val_dense_7_accuracy: 0.9542 - val_dense_8_accuracy: 0.9997\n",
      "Epoch 4/20\n",
      "26721/26721 [==============================] - 44s 2ms/step - loss: 6.8248 - dense_3_loss: 0.9974 - dense_4_loss: 2.0090 - dense_5_loss: 2.3443 - dense_6_loss: 1.2456 - dense_7_loss: 0.2242 - dense_8_loss: 0.0041 - dense_3_accuracy: 0.5770 - dense_4_accuracy: 0.2782 - dense_5_accuracy: 0.1745 - dense_6_accuracy: 0.6971 - dense_7_accuracy: 0.9573 - dense_8_accuracy: 0.9997 - val_loss: 7.2813 - val_dense_3_loss: 1.0731 - val_dense_4_loss: 2.1125 - val_dense_5_loss: 2.4365 - val_dense_6_loss: 1.3407 - val_dense_7_loss: 0.2809 - val_dense_8_loss: 0.0090 - val_dense_3_accuracy: 0.5773 - val_dense_4_accuracy: 0.2642 - val_dense_5_accuracy: 0.1712 - val_dense_6_accuracy: 0.6959 - val_dense_7_accuracy: 0.9542 - val_dense_8_accuracy: 0.9997\n",
      "Epoch 5/20\n",
      "26721/26721 [==============================] - 44s 2ms/step - loss: 6.7210 - dense_3_loss: 0.9566 - dense_4_loss: 2.0056 - dense_5_loss: 2.3179 - dense_6_loss: 1.2186 - dense_7_loss: 0.2170 - dense_8_loss: 0.0037 - dense_3_accuracy: 0.5848 - dense_4_accuracy: 0.2790 - dense_5_accuracy: 0.1888 - dense_6_accuracy: 0.6976 - dense_7_accuracy: 0.9570 - dense_8_accuracy: 0.9997 - val_loss: 6.6861 - val_dense_3_loss: 0.9289 - val_dense_4_loss: 2.0202 - val_dense_5_loss: 2.3099 - val_dense_6_loss: 1.1964 - val_dense_7_loss: 0.2079 - val_dense_8_loss: 0.0036 - val_dense_3_accuracy: 0.5935 - val_dense_4_accuracy: 0.2708 - val_dense_5_accuracy: 0.1860 - val_dense_6_accuracy: 0.6971 - val_dense_7_accuracy: 0.9542 - val_dense_8_accuracy: 0.9997\n",
      "Epoch 6/20\n",
      "26721/26721 [==============================] - 44s 2ms/step - loss: 6.4786 - dense_3_loss: 0.8511 - dense_4_loss: 2.0024 - dense_5_loss: 2.2590 - dense_6_loss: 1.1516 - dense_7_loss: 0.2078 - dense_8_loss: 0.0034 - dense_3_accuracy: 0.6208 - dense_4_accuracy: 0.2802 - dense_5_accuracy: 0.2112 - dense_6_accuracy: 0.6979 - dense_7_accuracy: 0.9572 - dense_8_accuracy: 0.9997 - val_loss: 6.4448 - val_dense_3_loss: 0.8288 - val_dense_4_loss: 2.0124 - val_dense_5_loss: 2.2475 - val_dense_6_loss: 1.1525 - val_dense_7_loss: 0.2002 - val_dense_8_loss: 0.0032 - val_dense_3_accuracy: 0.6336 - val_dense_4_accuracy: 0.2727 - val_dense_5_accuracy: 0.2125 - val_dense_6_accuracy: 0.7008 - val_dense_7_accuracy: 0.9542 - val_dense_8_accuracy: 0.9997\n",
      "Epoch 7/20\n",
      "26721/26721 [==============================] - 45s 2ms/step - loss: 6.1859 - dense_3_loss: 0.7200 - dense_4_loss: 1.9985 - dense_5_loss: 2.2011 - dense_6_loss: 1.0645 - dense_7_loss: 0.1987 - dense_8_loss: 0.0034 - dense_3_accuracy: 0.6901 - dense_4_accuracy: 0.2795 - dense_5_accuracy: 0.2278 - dense_6_accuracy: 0.7025 - dense_7_accuracy: 0.9573 - dense_8_accuracy: 0.9997 - val_loss: 7.6884 - val_dense_3_loss: 1.4447 - val_dense_4_loss: 2.0296 - val_dense_5_loss: 2.6628 - val_dense_6_loss: 1.2702 - val_dense_7_loss: 0.2522 - val_dense_8_loss: 0.0040 - val_dense_3_accuracy: 0.3989 - val_dense_4_accuracy: 0.2711 - val_dense_5_accuracy: 0.1850 - val_dense_6_accuracy: 0.6993 - val_dense_7_accuracy: 0.9542 - val_dense_8_accuracy: 0.9997\n",
      "Epoch 8/20\n",
      "26721/26721 [==============================] - 44s 2ms/step - loss: 6.0203 - dense_3_loss: 0.6424 - dense_4_loss: 1.9911 - dense_5_loss: 2.1716 - dense_6_loss: 1.0196 - dense_7_loss: 0.1926 - dense_8_loss: 0.0032 - dense_3_accuracy: 0.7384 - dense_4_accuracy: 0.2775 - dense_5_accuracy: 0.2327 - dense_6_accuracy: 0.7058 - dense_7_accuracy: 0.9573 - dense_8_accuracy: 0.9997 - val_loss: 6.4799 - val_dense_3_loss: 0.6631 - val_dense_4_loss: 2.1872 - val_dense_5_loss: 2.3512 - val_dense_6_loss: 1.0478 - val_dense_7_loss: 0.1959 - val_dense_8_loss: 0.0062 - val_dense_3_accuracy: 0.7611 - val_dense_4_accuracy: 0.2681 - val_dense_5_accuracy: 0.2280 - val_dense_6_accuracy: 0.7020 - val_dense_7_accuracy: 0.9542 - val_dense_8_accuracy: 0.9997\n",
      "Epoch 9/20\n",
      "26721/26721 [==============================] - 45s 2ms/step - loss: 5.8341 - dense_3_loss: 0.5552 - dense_4_loss: 1.9837 - dense_5_loss: 2.1307 - dense_6_loss: 0.9728 - dense_7_loss: 0.1853 - dense_8_loss: 0.0032 - dense_3_accuracy: 0.7807 - dense_4_accuracy: 0.2787 - dense_5_accuracy: 0.2398 - dense_6_accuracy: 0.7117 - dense_7_accuracy: 0.9573 - dense_8_accuracy: 0.9997 - val_loss: 5.8264 - val_dense_3_loss: 0.5416 - val_dense_4_loss: 2.0014 - val_dense_5_loss: 2.1270 - val_dense_6_loss: 0.9644 - val_dense_7_loss: 0.1857 - val_dense_8_loss: 0.0041 - val_dense_3_accuracy: 0.7786 - val_dense_4_accuracy: 0.2640 - val_dense_5_accuracy: 0.2296 - val_dense_6_accuracy: 0.7101 - val_dense_7_accuracy: 0.9542 - val_dense_8_accuracy: 0.9997\n",
      "Epoch 10/20\n",
      "26721/26721 [==============================] - 44s 2ms/step - loss: 5.7093 - dense_3_loss: 0.5013 - dense_4_loss: 1.9755 - dense_5_loss: 2.1034 - dense_6_loss: 0.9488 - dense_7_loss: 0.1801 - dense_8_loss: 0.0030 - dense_3_accuracy: 0.8048 - dense_4_accuracy: 0.2790 - dense_5_accuracy: 0.2459 - dense_6_accuracy: 0.7136 - dense_7_accuracy: 0.9579 - dense_8_accuracy: 0.9997 - val_loss: 5.7013 - val_dense_3_loss: 0.4807 - val_dense_4_loss: 1.9880 - val_dense_5_loss: 2.1074 - val_dense_6_loss: 0.9357 - val_dense_7_loss: 0.1731 - val_dense_8_loss: 0.0040 - val_dense_3_accuracy: 0.8153 - val_dense_4_accuracy: 0.2687 - val_dense_5_accuracy: 0.2404 - val_dense_6_accuracy: 0.7105 - val_dense_7_accuracy: 0.9564 - val_dense_8_accuracy: 0.9997\n",
      "Epoch 11/20\n"
     ]
    },
    {
     "name": "stdout",
     "output_type": "stream",
     "text": [
      "26721/26721 [==============================] - 44s 2ms/step - loss: 5.6182 - dense_3_loss: 0.4606 - dense_4_loss: 1.9706 - dense_5_loss: 2.0704 - dense_6_loss: 0.9368 - dense_7_loss: 0.1773 - dense_8_loss: 0.0029 - dense_3_accuracy: 0.8198 - dense_4_accuracy: 0.2739 - dense_5_accuracy: 0.2576 - dense_6_accuracy: 0.7138 - dense_7_accuracy: 0.9575 - dense_8_accuracy: 0.9997 - val_loss: 5.8709 - val_dense_3_loss: 0.5720 - val_dense_4_loss: 1.9882 - val_dense_5_loss: 2.1227 - val_dense_6_loss: 1.0067 - val_dense_7_loss: 0.1795 - val_dense_8_loss: 0.0037 - val_dense_3_accuracy: 0.7632 - val_dense_4_accuracy: 0.2703 - val_dense_5_accuracy: 0.2425 - val_dense_6_accuracy: 0.7054 - val_dense_7_accuracy: 0.9542 - val_dense_8_accuracy: 0.9997\n",
      "Epoch 12/20\n",
      "26721/26721 [==============================] - 44s 2ms/step - loss: 5.4515 - dense_3_loss: 0.4027 - dense_4_loss: 1.9597 - dense_5_loss: 2.0139 - dense_6_loss: 0.9060 - dense_7_loss: 0.1652 - dense_8_loss: 0.0031 - dense_3_accuracy: 0.8450 - dense_4_accuracy: 0.2830 - dense_5_accuracy: 0.2750 - dense_6_accuracy: 0.7158 - dense_7_accuracy: 0.9582 - dense_8_accuracy: 0.9997 - val_loss: 5.4580 - val_dense_3_loss: 0.4047 - val_dense_4_loss: 1.9695 - val_dense_5_loss: 2.0153 - val_dense_6_loss: 0.8899 - val_dense_7_loss: 0.1618 - val_dense_8_loss: 0.0032 - val_dense_3_accuracy: 0.8415 - val_dense_4_accuracy: 0.2790 - val_dense_5_accuracy: 0.2669 - val_dense_6_accuracy: 0.7140 - val_dense_7_accuracy: 0.9549 - val_dense_8_accuracy: 0.9997\n",
      "Epoch 13/20\n",
      "26721/26721 [==============================] - 44s 2ms/step - loss: 5.2146 - dense_3_loss: 0.3351 - dense_4_loss: 1.9265 - dense_5_loss: 1.9252 - dense_6_loss: 0.8654 - dense_7_loss: 0.1564 - dense_8_loss: 0.0029 - dense_3_accuracy: 0.8728 - dense_4_accuracy: 0.3002 - dense_5_accuracy: 0.3044 - dense_6_accuracy: 0.7228 - dense_7_accuracy: 0.9586 - dense_8_accuracy: 0.9997 - val_loss: 5.2228 - val_dense_3_loss: 0.3657 - val_dense_4_loss: 1.8797 - val_dense_5_loss: 1.9131 - val_dense_6_loss: 0.8855 - val_dense_7_loss: 0.1622 - val_dense_8_loss: 0.0036 - val_dense_3_accuracy: 0.8629 - val_dense_4_accuracy: 0.3354 - val_dense_5_accuracy: 0.2964 - val_dense_6_accuracy: 0.7197 - val_dense_7_accuracy: 0.9546 - val_dense_8_accuracy: 0.9997\n",
      "Epoch 14/20\n",
      "26721/26721 [==============================] - 44s 2ms/step - loss: 4.9860 - dense_3_loss: 0.3169 - dense_4_loss: 1.7940 - dense_5_loss: 1.8653 - dense_6_loss: 0.8498 - dense_7_loss: 0.1560 - dense_8_loss: 0.0028 - dense_3_accuracy: 0.8814 - dense_4_accuracy: 0.3545 - dense_5_accuracy: 0.3162 - dense_6_accuracy: 0.7247 - dense_7_accuracy: 0.9586 - dense_8_accuracy: 0.9997 - val_loss: 5.4893 - val_dense_3_loss: 0.4905 - val_dense_4_loss: 1.8616 - val_dense_5_loss: 1.9818 - val_dense_6_loss: 0.9376 - val_dense_7_loss: 0.2092 - val_dense_8_loss: 0.0039 - val_dense_3_accuracy: 0.8223 - val_dense_4_accuracy: 0.3597 - val_dense_5_accuracy: 0.2727 - val_dense_6_accuracy: 0.7132 - val_dense_7_accuracy: 0.9555 - val_dense_8_accuracy: 0.9997\n",
      "Epoch 15/20\n",
      "26721/26721 [==============================] - 44s 2ms/step - loss: 4.4379 - dense_3_loss: 0.2650 - dense_4_loss: 1.4602 - dense_5_loss: 1.7471 - dense_6_loss: 0.8148 - dense_7_loss: 0.1494 - dense_8_loss: 0.0027 - dense_3_accuracy: 0.9043 - dense_4_accuracy: 0.4775 - dense_5_accuracy: 0.3533 - dense_6_accuracy: 0.7278 - dense_7_accuracy: 0.9591 - dense_8_accuracy: 0.9997 - val_loss: 4.8068 - val_dense_3_loss: 0.3757 - val_dense_4_loss: 1.5629 - val_dense_5_loss: 1.7750 - val_dense_6_loss: 0.8651 - val_dense_7_loss: 0.1902 - val_dense_8_loss: 0.0030 - val_dense_3_accuracy: 0.8641 - val_dense_4_accuracy: 0.4630 - val_dense_5_accuracy: 0.3496 - val_dense_6_accuracy: 0.7240 - val_dense_7_accuracy: 0.9542 - val_dense_8_accuracy: 0.9997\n",
      "Epoch 16/20\n",
      "26721/26721 [==============================] - 44s 2ms/step - loss: 4.0653 - dense_3_loss: 0.2395 - dense_4_loss: 1.2596 - dense_5_loss: 1.6389 - dense_6_loss: 0.7809 - dense_7_loss: 0.1445 - dense_8_loss: 0.0027 - dense_3_accuracy: 0.9124 - dense_4_accuracy: 0.5467 - dense_5_accuracy: 0.4001 - dense_6_accuracy: 0.7346 - dense_7_accuracy: 0.9590 - dense_8_accuracy: 0.9997 - val_loss: 3.9674 - val_dense_3_loss: 0.2337 - val_dense_4_loss: 1.2208 - val_dense_5_loss: 1.5914 - val_dense_6_loss: 0.7548 - val_dense_7_loss: 0.1464 - val_dense_8_loss: 0.0046 - val_dense_3_accuracy: 0.9201 - val_dense_4_accuracy: 0.5610 - val_dense_5_accuracy: 0.4152 - val_dense_6_accuracy: 0.7360 - val_dense_7_accuracy: 0.9564 - val_dense_8_accuracy: 0.9997\n",
      "Epoch 17/20\n",
      "26721/26721 [==============================] - 44s 2ms/step - loss: 3.6170 - dense_3_loss: 0.2078 - dense_4_loss: 1.0832 - dense_5_loss: 1.4551 - dense_6_loss: 0.7326 - dense_7_loss: 0.1385 - dense_8_loss: 0.0023 - dense_3_accuracy: 0.9269 - dense_4_accuracy: 0.6135 - dense_5_accuracy: 0.4723 - dense_6_accuracy: 0.7442 - dense_7_accuracy: 0.9597 - dense_8_accuracy: 0.9997 - val_loss: 4.0522 - val_dense_3_loss: 0.3134 - val_dense_4_loss: 1.1543 - val_dense_5_loss: 1.6125 - val_dense_6_loss: 0.8174 - val_dense_7_loss: 0.1443 - val_dense_8_loss: 0.0036 - val_dense_3_accuracy: 0.8885 - val_dense_4_accuracy: 0.6084 - val_dense_5_accuracy: 0.4302 - val_dense_6_accuracy: 0.7342 - val_dense_7_accuracy: 0.9590 - val_dense_8_accuracy: 0.9997\n",
      "Epoch 18/20\n",
      "26721/26721 [==============================] - 44s 2ms/step - loss: 3.5545 - dense_3_loss: 0.2285 - dense_4_loss: 1.0446 - dense_5_loss: 1.4125 - dense_6_loss: 0.7283 - dense_7_loss: 0.1397 - dense_8_loss: 0.0029 - dense_3_accuracy: 0.9188 - dense_4_accuracy: 0.6301 - dense_5_accuracy: 0.4906 - dense_6_accuracy: 0.7486 - dense_7_accuracy: 0.9599 - dense_8_accuracy: 0.9997 - val_loss: 3.9262 - val_dense_3_loss: 0.2488 - val_dense_4_loss: 1.0916 - val_dense_5_loss: 1.6520 - val_dense_6_loss: 0.7611 - val_dense_7_loss: 0.1497 - val_dense_8_loss: 0.0041 - val_dense_3_accuracy: 0.9159 - val_dense_4_accuracy: 0.6303 - val_dense_5_accuracy: 0.4582 - val_dense_6_accuracy: 0.7435 - val_dense_7_accuracy: 0.9587 - val_dense_8_accuracy: 0.9997\n",
      "Epoch 19/20\n",
      "26721/26721 [==============================] - 44s 2ms/step - loss: 3.0986 - dense_3_loss: 0.1847 - dense_4_loss: 0.8949 - dense_5_loss: 1.2052 - dense_6_loss: 0.6738 - dense_7_loss: 0.1385 - dense_8_loss: 0.0025 - dense_3_accuracy: 0.9363 - dense_4_accuracy: 0.6898 - dense_5_accuracy: 0.5688 - dense_6_accuracy: 0.7604 - dense_7_accuracy: 0.9588 - dense_8_accuracy: 0.9997 - val_loss: 3.0999 - val_dense_3_loss: 0.2089 - val_dense_4_loss: 0.8754 - val_dense_5_loss: 1.1752 - val_dense_6_loss: 0.6689 - val_dense_7_loss: 0.1501 - val_dense_8_loss: 0.0036 - val_dense_3_accuracy: 0.9313 - val_dense_4_accuracy: 0.6954 - val_dense_5_accuracy: 0.5843 - val_dense_6_accuracy: 0.7641 - val_dense_7_accuracy: 0.9540 - val_dense_8_accuracy: 0.9997\n",
      "Epoch 20/20\n",
      "26721/26721 [==============================] - 44s 2ms/step - loss: 2.8567 - dense_3_loss: 0.1841 - dense_4_loss: 0.8012 - dense_5_loss: 1.0987 - dense_6_loss: 0.6455 - dense_7_loss: 0.1343 - dense_8_loss: 0.0027 - dense_3_accuracy: 0.9382 - dense_4_accuracy: 0.7265 - dense_5_accuracy: 0.6144 - dense_6_accuracy: 0.7718 - dense_7_accuracy: 0.9598 - dense_8_accuracy: 0.9997 - val_loss: 6.1613 - val_dense_3_loss: 0.8297 - val_dense_4_loss: 1.6933 - val_dense_5_loss: 2.0584 - val_dense_6_loss: 1.1662 - val_dense_7_loss: 0.3781 - val_dense_8_loss: 0.0048 - val_dense_3_accuracy: 0.6502 - val_dense_4_accuracy: 0.4170 - val_dense_5_accuracy: 0.2886 - val_dense_6_accuracy: 0.6307 - val_dense_7_accuracy: 0.9431 - val_dense_8_accuracy: 0.9997\n"
     ]
    }
   ],
   "source": [
    "# model with different optimizers\n",
    "# 4.1 with 0.005 learning rate\n",
    "model4_1= build_model()\n",
    "adam = optimizers.Adam(learning_rate=0.005, beta_1=0.9, beta_2=0.999, amsgrad=False)\n",
    "model4_1.compile(optimizer = adam, loss = \"categorical_crossentropy\",metrics = [\"accuracy\"])\n",
    "history4_1 = model4_1.fit(x=x_train,\n",
    "               y=[y_train_num,y_train_digits[0],y_train_digits[1],y_train_digits[2],y_train_digits[3],y_train_digits[4]],\n",
    "                batch_size=256, epochs=20,verbose=1,validation_split=0.2,shuffle=True)"
   ]
  },
  {
   "cell_type": "code",
   "execution_count": 18,
   "metadata": {},
   "outputs": [
    {
     "name": "stdout",
     "output_type": "stream",
     "text": [
      "['loss', 'dense_3_loss', 'dense_4_loss', 'dense_5_loss', 'dense_6_loss', 'dense_7_loss', 'dense_8_loss', 'dense_3_accuracy', 'dense_4_accuracy', 'dense_5_accuracy', 'dense_6_accuracy', 'dense_7_accuracy', 'dense_8_accuracy']\n"
     ]
    }
   ],
   "source": [
    "print(model4_1.metrics_names)"
   ]
  },
  {
   "cell_type": "code",
   "execution_count": 19,
   "metadata": {},
   "outputs": [
    {
     "name": "stdout",
     "output_type": "stream",
     "text": [
      "0.09496479951025405\n"
     ]
    }
   ],
   "source": [
    "test4_1 = test_acc(model4_1)\n",
    "print(test4_1)\n",
    "val_loss4_1,val_acc4_1,train_loss4_1,train_acc4_1 = get_array(history4_1,3)\n",
    "val_acc4_1 = np.insert(val_acc4_1,0,0)\n",
    "train_acc4_1 = np.insert(train_acc4_1,0,0)"
   ]
  },
  {
   "cell_type": "markdown",
   "metadata": {},
   "source": [
    "## 4.2 with 0.002 learning rate"
   ]
  },
  {
   "cell_type": "code",
   "execution_count": 21,
   "metadata": {},
   "outputs": [
    {
     "name": "stdout",
     "output_type": "stream",
     "text": [
      "Train on 26721 samples, validate on 6681 samples\n",
      "Epoch 1/20\n",
      "26721/26721 [==============================] - 47s 2ms/step - loss: 6.8621 - dense_19_loss: 0.9115 - dense_20_loss: 2.1005 - dense_21_loss: 2.3596 - dense_22_loss: 1.2075 - dense_23_loss: 0.2437 - dense_24_loss: 0.0331 - dense_19_accuracy: 0.6140 - dense_20_accuracy: 0.2598 - dense_21_accuracy: 0.1901 - dense_22_accuracy: 0.6900 - dense_23_accuracy: 0.9506 - dense_24_accuracy: 0.9901 - val_loss: 10.3638 - val_dense_19_loss: 2.2012 - val_dense_20_loss: 2.5158 - val_dense_21_loss: 3.3502 - val_dense_22_loss: 1.8929 - val_dense_23_loss: 0.3743 - val_dense_24_loss: 0.0082 - val_dense_19_accuracy: 0.3455 - val_dense_20_accuracy: 0.2678 - val_dense_21_accuracy: 0.1869 - val_dense_22_accuracy: 0.6789 - val_dense_23_accuracy: 0.9542 - val_dense_24_accuracy: 0.9997\n",
      "Epoch 2/20\n",
      "26721/26721 [==============================] - 45s 2ms/step - loss: 5.5599 - dense_19_loss: 0.5313 - dense_20_loss: 1.8480 - dense_21_loss: 2.0265 - dense_22_loss: 0.9612 - dense_23_loss: 0.1850 - dense_24_loss: 0.0034 - dense_19_accuracy: 0.7845 - dense_20_accuracy: 0.3410 - dense_21_accuracy: 0.2876 - dense_22_accuracy: 0.7114 - dense_23_accuracy: 0.9572 - dense_24_accuracy: 0.9997 - val_loss: 6.8185 - val_dense_19_loss: 0.9113 - val_dense_20_loss: 2.3079 - val_dense_21_loss: 2.2783 - val_dense_22_loss: 1.1715 - val_dense_23_loss: 0.1903 - val_dense_24_loss: 0.0039 - val_dense_19_accuracy: 0.6899 - val_dense_20_accuracy: 0.3235 - val_dense_21_accuracy: 0.2601 - val_dense_22_accuracy: 0.6295 - val_dense_23_accuracy: 0.9542 - val_dense_24_accuracy: 0.9997\n",
      "Epoch 3/20\n",
      "26721/26721 [==============================] - 45s 2ms/step - loss: 4.0713 - dense_19_loss: 0.3786 - dense_20_loss: 1.1947 - dense_21_loss: 1.4826 - dense_22_loss: 0.8388 - dense_23_loss: 0.1685 - dense_24_loss: 0.0031 - dense_19_accuracy: 0.8522 - dense_20_accuracy: 0.5899 - dense_21_accuracy: 0.4862 - dense_22_accuracy: 0.7343 - dense_23_accuracy: 0.9574 - dense_24_accuracy: 0.9997 - val_loss: 4.0322 - val_dense_19_loss: 0.5266 - val_dense_20_loss: 0.9773 - val_dense_21_loss: 1.4947 - val_dense_22_loss: 0.8734 - val_dense_23_loss: 0.1749 - val_dense_24_loss: 0.0033 - val_dense_19_accuracy: 0.8222 - val_dense_20_accuracy: 0.6800 - val_dense_21_accuracy: 0.5098 - val_dense_22_accuracy: 0.7119 - val_dense_23_accuracy: 0.9545 - val_dense_24_accuracy: 0.9997\n",
      "Epoch 4/20\n",
      "26721/26721 [==============================] - 45s 2ms/step - loss: 2.4939 - dense_19_loss: 0.2192 - dense_20_loss: 0.6585 - dense_21_loss: 0.8915 - dense_22_loss: 0.5752 - dense_23_loss: 0.1435 - dense_24_loss: 0.0028 - dense_19_accuracy: 0.9204 - dense_20_accuracy: 0.7831 - dense_21_accuracy: 0.6989 - dense_22_accuracy: 0.8087 - dense_23_accuracy: 0.9586 - dense_24_accuracy: 0.9997 - val_loss: 2.4739 - val_dense_19_loss: 0.3470 - val_dense_20_loss: 0.5999 - val_dense_21_loss: 0.8238 - val_dense_22_loss: 0.5069 - val_dense_23_loss: 0.1746 - val_dense_24_loss: 0.0031 - val_dense_19_accuracy: 0.8822 - val_dense_20_accuracy: 0.8084 - val_dense_21_accuracy: 0.7385 - val_dense_22_accuracy: 0.8443 - val_dense_23_accuracy: 0.9560 - val_dense_24_accuracy: 0.9997\n",
      "Epoch 5/20\n",
      "26721/26721 [==============================] - 45s 2ms/step - loss: 1.6922 - dense_19_loss: 0.1561 - dense_20_loss: 0.4225 - dense_21_loss: 0.5900 - dense_22_loss: 0.3962 - dense_23_loss: 0.1236 - dense_24_loss: 0.0026 - dense_19_accuracy: 0.9464 - dense_20_accuracy: 0.8650 - dense_21_accuracy: 0.8092 - dense_22_accuracy: 0.8706 - dense_23_accuracy: 0.9621 - dense_24_accuracy: 0.9997 - val_loss: 1.7883 - val_dense_19_loss: 0.1738 - val_dense_20_loss: 0.4482 - val_dense_21_loss: 0.6358 - val_dense_22_loss: 0.3692 - val_dense_23_loss: 0.1455 - val_dense_24_loss: 0.0035 - val_dense_19_accuracy: 0.9422 - val_dense_20_accuracy: 0.8698 - val_dense_21_accuracy: 0.8020 - val_dense_22_accuracy: 0.8892 - val_dense_23_accuracy: 0.9594 - val_dense_24_accuracy: 0.9997\n",
      "Epoch 6/20\n",
      "26721/26721 [==============================] - 45s 2ms/step - loss: 1.2893 - dense_19_loss: 0.1169 - dense_20_loss: 0.3218 - dense_21_loss: 0.4404 - dense_22_loss: 0.3005 - dense_23_loss: 0.1068 - dense_24_loss: 0.0028 - dense_19_accuracy: 0.9613 - dense_20_accuracy: 0.8992 - dense_21_accuracy: 0.8587 - dense_22_accuracy: 0.9040 - dense_23_accuracy: 0.9663 - dense_24_accuracy: 0.9997 - val_loss: 1.4149 - val_dense_19_loss: 0.1359 - val_dense_20_loss: 0.3605 - val_dense_21_loss: 0.4613 - val_dense_22_loss: 0.3351 - val_dense_23_loss: 0.1095 - val_dense_24_loss: 0.0034 - val_dense_19_accuracy: 0.9520 - val_dense_20_accuracy: 0.8922 - val_dense_21_accuracy: 0.8563 - val_dense_22_accuracy: 0.8969 - val_dense_23_accuracy: 0.9633 - val_dense_24_accuracy: 0.9997\n",
      "Epoch 7/20\n",
      "26721/26721 [==============================] - 45s 2ms/step - loss: 1.0368 - dense_19_loss: 0.0937 - dense_20_loss: 0.2585 - dense_21_loss: 0.3450 - dense_22_loss: 0.2403 - dense_23_loss: 0.0988 - dense_24_loss: 0.0019 - dense_19_accuracy: 0.9677 - dense_20_accuracy: 0.9201 - dense_21_accuracy: 0.8910 - dense_22_accuracy: 0.9249 - dense_23_accuracy: 0.9678 - dense_24_accuracy: 0.9997 - val_loss: 1.3877 - val_dense_19_loss: 0.1522 - val_dense_20_loss: 0.3408 - val_dense_21_loss: 0.4256 - val_dense_22_loss: 0.3192 - val_dense_23_loss: 0.1302 - val_dense_24_loss: 0.0037 - val_dense_19_accuracy: 0.9521 - val_dense_20_accuracy: 0.9062 - val_dense_21_accuracy: 0.8687 - val_dense_22_accuracy: 0.9041 - val_dense_23_accuracy: 0.9660 - val_dense_24_accuracy: 0.9997\n",
      "Epoch 8/20\n",
      "26721/26721 [==============================] - 45s 2ms/step - loss: 0.8392 - dense_19_loss: 0.0715 - dense_20_loss: 0.2109 - dense_21_loss: 0.2774 - dense_22_loss: 0.1926 - dense_23_loss: 0.0840 - dense_24_loss: 0.0019 - dense_19_accuracy: 0.9762 - dense_20_accuracy: 0.9356 - dense_21_accuracy: 0.9128 - dense_22_accuracy: 0.9372 - dense_23_accuracy: 0.9726 - dense_24_accuracy: 0.9997 - val_loss: 1.2775 - val_dense_19_loss: 0.1485 - val_dense_20_loss: 0.3194 - val_dense_21_loss: 0.4174 - val_dense_22_loss: 0.2809 - val_dense_23_loss: 0.1200 - val_dense_24_loss: 0.0044 - val_dense_19_accuracy: 0.9552 - val_dense_20_accuracy: 0.9081 - val_dense_21_accuracy: 0.8838 - val_dense_22_accuracy: 0.9205 - val_dense_23_accuracy: 0.9633 - val_dense_24_accuracy: 0.9997\n",
      "Epoch 9/20\n",
      "26721/26721 [==============================] - 45s 2ms/step - loss: 0.7302 - dense_19_loss: 0.0671 - dense_20_loss: 0.1787 - dense_21_loss: 0.2390 - dense_22_loss: 0.1647 - dense_23_loss: 0.0791 - dense_24_loss: 0.0020 - dense_19_accuracy: 0.9767 - dense_20_accuracy: 0.9435 - dense_21_accuracy: 0.9247 - dense_22_accuracy: 0.9477 - dense_23_accuracy: 0.9740 - dense_24_accuracy: 0.9997 - val_loss: 1.2247 - val_dense_19_loss: 0.1296 - val_dense_20_loss: 0.3146 - val_dense_21_loss: 0.3889 - val_dense_22_loss: 0.2738 - val_dense_23_loss: 0.1097 - val_dense_24_loss: 0.0033 - val_dense_19_accuracy: 0.9581 - val_dense_20_accuracy: 0.9114 - val_dense_21_accuracy: 0.8815 - val_dense_22_accuracy: 0.9199 - val_dense_23_accuracy: 0.9648 - val_dense_24_accuracy: 0.9997\n",
      "Epoch 10/20\n",
      "26721/26721 [==============================] - 45s 2ms/step - loss: 0.5842 - dense_19_loss: 0.0448 - dense_20_loss: 0.1525 - dense_21_loss: 0.1937 - dense_22_loss: 0.1314 - dense_23_loss: 0.0622 - dense_24_loss: 0.0013 - dense_19_accuracy: 0.9848 - dense_20_accuracy: 0.9515 - dense_21_accuracy: 0.9398 - dense_22_accuracy: 0.9572 - dense_23_accuracy: 0.9800 - dense_24_accuracy: 0.9997 - val_loss: 1.2343 - val_dense_19_loss: 0.1379 - val_dense_20_loss: 0.3169 - val_dense_21_loss: 0.4231 - val_dense_22_loss: 0.2644 - val_dense_23_loss: 0.0895 - val_dense_24_loss: 0.0033 - val_dense_19_accuracy: 0.9582 - val_dense_20_accuracy: 0.9183 - val_dense_21_accuracy: 0.8847 - val_dense_22_accuracy: 0.9294 - val_dense_23_accuracy: 0.9728 - val_dense_24_accuracy: 0.9997\n",
      "Epoch 11/20\n"
     ]
    },
    {
     "name": "stdout",
     "output_type": "stream",
     "text": [
      "26721/26721 [==============================] - 45s 2ms/step - loss: 0.5029 - dense_19_loss: 0.0413 - dense_20_loss: 0.1247 - dense_21_loss: 0.1644 - dense_22_loss: 0.1173 - dense_23_loss: 0.0530 - dense_24_loss: 0.0018 - dense_19_accuracy: 0.9857 - dense_20_accuracy: 0.9602 - dense_21_accuracy: 0.9458 - dense_22_accuracy: 0.9620 - dense_23_accuracy: 0.9827 - dense_24_accuracy: 0.9997 - val_loss: 1.3784 - val_dense_19_loss: 0.1609 - val_dense_20_loss: 0.3753 - val_dense_21_loss: 0.4566 - val_dense_22_loss: 0.2979 - val_dense_23_loss: 0.0983 - val_dense_24_loss: 0.0045 - val_dense_19_accuracy: 0.9599 - val_dense_20_accuracy: 0.9124 - val_dense_21_accuracy: 0.8912 - val_dense_22_accuracy: 0.9289 - val_dense_23_accuracy: 0.9756 - val_dense_24_accuracy: 0.9997\n",
      "Epoch 12/20\n",
      "26721/26721 [==============================] - 45s 2ms/step - loss: 0.4492 - dense_19_loss: 0.0361 - dense_20_loss: 0.1141 - dense_21_loss: 0.1480 - dense_22_loss: 0.1004 - dense_23_loss: 0.0497 - dense_24_loss: 0.0014 - dense_19_accuracy: 0.9873 - dense_20_accuracy: 0.9644 - dense_21_accuracy: 0.9514 - dense_22_accuracy: 0.9669 - dense_23_accuracy: 0.9840 - dense_24_accuracy: 0.9997 - val_loss: 1.3708 - val_dense_19_loss: 0.1590 - val_dense_20_loss: 0.3509 - val_dense_21_loss: 0.4555 - val_dense_22_loss: 0.2988 - val_dense_23_loss: 0.0951 - val_dense_24_loss: 0.0031 - val_dense_19_accuracy: 0.9608 - val_dense_20_accuracy: 0.9214 - val_dense_21_accuracy: 0.8894 - val_dense_22_accuracy: 0.9317 - val_dense_23_accuracy: 0.9756 - val_dense_24_accuracy: 0.9997\n",
      "Epoch 13/20\n",
      "26721/26721 [==============================] - 45s 2ms/step - loss: 0.3890 - dense_19_loss: 0.0309 - dense_20_loss: 0.0911 - dense_21_loss: 0.1371 - dense_22_loss: 0.0879 - dense_23_loss: 0.0415 - dense_24_loss: 9.4113e-04 - dense_19_accuracy: 0.9890 - dense_20_accuracy: 0.9706 - dense_21_accuracy: 0.9565 - dense_22_accuracy: 0.9715 - dense_23_accuracy: 0.9858 - dense_24_accuracy: 0.9997 - val_loss: 1.2877 - val_dense_19_loss: 0.1492 - val_dense_20_loss: 0.3549 - val_dense_21_loss: 0.4002 - val_dense_22_loss: 0.2691 - val_dense_23_loss: 0.0902 - val_dense_24_loss: 0.0041 - val_dense_19_accuracy: 0.9599 - val_dense_20_accuracy: 0.9159 - val_dense_21_accuracy: 0.8990 - val_dense_22_accuracy: 0.9341 - val_dense_23_accuracy: 0.9780 - val_dense_24_accuracy: 0.9997\n",
      "Epoch 14/20\n",
      "26721/26721 [==============================] - 45s 2ms/step - loss: 0.3167 - dense_19_loss: 0.0244 - dense_20_loss: 0.0817 - dense_21_loss: 0.0996 - dense_22_loss: 0.0743 - dense_23_loss: 0.0364 - dense_24_loss: 6.1505e-04 - dense_19_accuracy: 0.9917 - dense_20_accuracy: 0.9738 - dense_21_accuracy: 0.9675 - dense_22_accuracy: 0.9759 - dense_23_accuracy: 0.9885 - dense_24_accuracy: 0.9998 - val_loss: 1.3648 - val_dense_19_loss: 0.1738 - val_dense_20_loss: 0.3242 - val_dense_21_loss: 0.4382 - val_dense_22_loss: 0.2939 - val_dense_23_loss: 0.1072 - val_dense_24_loss: 0.0047 - val_dense_19_accuracy: 0.9633 - val_dense_20_accuracy: 0.9267 - val_dense_21_accuracy: 0.8964 - val_dense_22_accuracy: 0.9388 - val_dense_23_accuracy: 0.9761 - val_dense_24_accuracy: 0.9997\n",
      "Epoch 15/20\n",
      "26721/26721 [==============================] - 45s 2ms/step - loss: 0.3039 - dense_19_loss: 0.0243 - dense_20_loss: 0.0769 - dense_21_loss: 0.0979 - dense_22_loss: 0.0702 - dense_23_loss: 0.0336 - dense_24_loss: 5.1431e-04 - dense_19_accuracy: 0.9915 - dense_20_accuracy: 0.9759 - dense_21_accuracy: 0.9677 - dense_22_accuracy: 0.9778 - dense_23_accuracy: 0.9890 - dense_24_accuracy: 0.9999 - val_loss: 1.3919 - val_dense_19_loss: 0.1670 - val_dense_20_loss: 0.3668 - val_dense_21_loss: 0.4418 - val_dense_22_loss: 0.2972 - val_dense_23_loss: 0.0976 - val_dense_24_loss: 0.0038 - val_dense_19_accuracy: 0.9618 - val_dense_20_accuracy: 0.9178 - val_dense_21_accuracy: 0.9012 - val_dense_22_accuracy: 0.9323 - val_dense_23_accuracy: 0.9780 - val_dense_24_accuracy: 0.9997\n",
      "Epoch 16/20\n",
      "26721/26721 [==============================] - 45s 2ms/step - loss: 0.2355 - dense_19_loss: 0.0161 - dense_20_loss: 0.0642 - dense_21_loss: 0.0787 - dense_22_loss: 0.0543 - dense_23_loss: 0.0239 - dense_24_loss: 7.3153e-04 - dense_19_accuracy: 0.9949 - dense_20_accuracy: 0.9801 - dense_21_accuracy: 0.9749 - dense_22_accuracy: 0.9821 - dense_23_accuracy: 0.9922 - dense_24_accuracy: 0.9997 - val_loss: 1.4248 - val_dense_19_loss: 0.1579 - val_dense_20_loss: 0.3764 - val_dense_21_loss: 0.4686 - val_dense_22_loss: 0.2938 - val_dense_23_loss: 0.1032 - val_dense_24_loss: 0.0047 - val_dense_19_accuracy: 0.9635 - val_dense_20_accuracy: 0.9124 - val_dense_21_accuracy: 0.8919 - val_dense_22_accuracy: 0.9322 - val_dense_23_accuracy: 0.9746 - val_dense_24_accuracy: 0.9997\n",
      "Epoch 17/20\n",
      "26721/26721 [==============================] - 45s 2ms/step - loss: 0.2709 - dense_19_loss: 0.0234 - dense_20_loss: 0.0688 - dense_21_loss: 0.0882 - dense_22_loss: 0.0645 - dense_23_loss: 0.0257 - dense_24_loss: 5.4718e-04 - dense_19_accuracy: 0.9921 - dense_20_accuracy: 0.9779 - dense_21_accuracy: 0.9710 - dense_22_accuracy: 0.9783 - dense_23_accuracy: 0.9916 - dense_24_accuracy: 0.9997 - val_loss: 1.4250 - val_dense_19_loss: 0.1735 - val_dense_20_loss: 0.3551 - val_dense_21_loss: 0.4563 - val_dense_22_loss: 0.3108 - val_dense_23_loss: 0.0951 - val_dense_24_loss: 0.0047 - val_dense_19_accuracy: 0.9585 - val_dense_20_accuracy: 0.9255 - val_dense_21_accuracy: 0.9009 - val_dense_22_accuracy: 0.9359 - val_dense_23_accuracy: 0.9780 - val_dense_24_accuracy: 0.9997\n",
      "Epoch 18/20\n",
      "26721/26721 [==============================] - 45s 2ms/step - loss: 0.2070 - dense_19_loss: 0.0171 - dense_20_loss: 0.0522 - dense_21_loss: 0.0688 - dense_22_loss: 0.0455 - dense_23_loss: 0.0227 - dense_24_loss: 0.0011 - dense_19_accuracy: 0.9942 - dense_20_accuracy: 0.9830 - dense_21_accuracy: 0.9776 - dense_22_accuracy: 0.9855 - dense_23_accuracy: 0.9929 - dense_24_accuracy: 0.9997 - val_loss: 1.3586 - val_dense_19_loss: 0.1561 - val_dense_20_loss: 0.3776 - val_dense_21_loss: 0.4323 - val_dense_22_loss: 0.2863 - val_dense_23_loss: 0.0777 - val_dense_24_loss: 0.0047 - val_dense_19_accuracy: 0.9635 - val_dense_20_accuracy: 0.9216 - val_dense_21_accuracy: 0.9047 - val_dense_22_accuracy: 0.9397 - val_dense_23_accuracy: 0.9822 - val_dense_24_accuracy: 0.9996\n",
      "Epoch 19/20\n",
      "26721/26721 [==============================] - 45s 2ms/step - loss: 0.2126 - dense_19_loss: 0.0193 - dense_20_loss: 0.0514 - dense_21_loss: 0.0702 - dense_22_loss: 0.0487 - dense_23_loss: 0.0210 - dense_24_loss: 0.0014 - dense_19_accuracy: 0.9936 - dense_20_accuracy: 0.9827 - dense_21_accuracy: 0.9772 - dense_22_accuracy: 0.9851 - dense_23_accuracy: 0.9932 - dense_24_accuracy: 0.9996 - val_loss: 1.4647 - val_dense_19_loss: 0.1632 - val_dense_20_loss: 0.4066 - val_dense_21_loss: 0.4767 - val_dense_22_loss: 0.3152 - val_dense_23_loss: 0.0830 - val_dense_24_loss: 0.0047 - val_dense_19_accuracy: 0.9666 - val_dense_20_accuracy: 0.9223 - val_dense_21_accuracy: 0.9018 - val_dense_22_accuracy: 0.9392 - val_dense_23_accuracy: 0.9799 - val_dense_24_accuracy: 0.9997\n",
      "Epoch 20/20\n",
      "26721/26721 [==============================] - 45s 2ms/step - loss: 0.1765 - dense_19_loss: 0.0128 - dense_20_loss: 0.0489 - dense_21_loss: 0.0561 - dense_22_loss: 0.0390 - dense_23_loss: 0.0181 - dense_24_loss: 7.8045e-04 - dense_19_accuracy: 0.9955 - dense_20_accuracy: 0.9842 - dense_21_accuracy: 0.9820 - dense_22_accuracy: 0.9875 - dense_23_accuracy: 0.9945 - dense_24_accuracy: 0.9999 - val_loss: 1.4331 - val_dense_19_loss: 0.1619 - val_dense_20_loss: 0.4002 - val_dense_21_loss: 0.4585 - val_dense_22_loss: 0.3258 - val_dense_23_loss: 0.0901 - val_dense_24_loss: 0.0046 - val_dense_19_accuracy: 0.9672 - val_dense_20_accuracy: 0.9222 - val_dense_21_accuracy: 0.9087 - val_dense_22_accuracy: 0.9382 - val_dense_23_accuracy: 0.9796 - val_dense_24_accuracy: 0.9997\n"
     ]
    }
   ],
   "source": [
    "# model with different optimizers\n",
    "# 4.2 with 0.002 learning rate\n",
    "model4_2= build_model()\n",
    "adam = optimizers.Adam(learning_rate=0.002, beta_1=0.9, beta_2=0.999, amsgrad=False)\n",
    "model4_2.compile(optimizer = adam, loss = \"categorical_crossentropy\",metrics = [\"accuracy\"])\n",
    "history4_2 = model4_2.fit(x=x_train,\n",
    "               y=[y_train_num,y_train_digits[0],y_train_digits[1],y_train_digits[2],y_train_digits[3],y_train_digits[4]],\n",
    "                batch_size=256, epochs=20,verbose=1,validation_split=0.2,shuffle=True)"
   ]
  },
  {
   "cell_type": "code",
   "execution_count": 23,
   "metadata": {},
   "outputs": [
    {
     "name": "stdout",
     "output_type": "stream",
     "text": [
      "['loss', 'dense_19_loss', 'dense_20_loss', 'dense_21_loss', 'dense_22_loss', 'dense_23_loss', 'dense_24_loss', 'dense_19_accuracy', 'dense_20_accuracy', 'dense_21_accuracy', 'dense_22_accuracy', 'dense_23_accuracy', 'dense_24_accuracy']\n"
     ]
    }
   ],
   "source": [
    "print(model4_2.metrics_names)"
   ]
  },
  {
   "cell_type": "code",
   "execution_count": 25,
   "metadata": {},
   "outputs": [
    {
     "name": "stdout",
     "output_type": "stream",
     "text": [
      "0.831114172023263\n"
     ]
    }
   ],
   "source": [
    "test4_2 = test_acc(model4_2)\n",
    "print(test4_2)\n",
    "val_loss4_2,val_acc4_2,train_loss4_2,train_acc4_2 = get_array(history4_2,19)\n",
    "val_acc4_2 = np.insert(val_acc4_2,0,0)\n",
    "train_acc4_2 = np.insert(train_acc4_2,0,0)"
   ]
  },
  {
   "cell_type": "markdown",
   "metadata": {},
   "source": [
    "# 5. Save Training Results to Pickle for Further Usage"
   ]
  },
  {
   "cell_type": "code",
   "execution_count": 22,
   "metadata": {},
   "outputs": [],
   "source": [
    "model_info = dict()\n",
    "model_info['val_acc1_1'] = val_acc1_1\n",
    "model_info['train_acc1_1'] = train_acc1_1\n",
    "model_info['val_acc1_2'] = val_acc1_2\n",
    "model_info['train_acc1_2'] = train_acc1_2\n",
    "model_info['val_acc1_3'] = val_acc1_3\n",
    "model_info['train_acc1_3'] = train_acc1_3\n",
    "model_info['val_acc1_4'] = val_acc1_4\n",
    "model_info['train_acc1_4'] = train_acc1_4\n",
    "model_info['val_acc2_1'] = val_acc2_1\n",
    "model_info['train_acc2_1'] = train_acc2_1\n",
    "model_info['val_acc2_2'] = val_acc2_2\n",
    "model_info['train_acc2_2'] = train_acc2_2\n",
    "model_info['val_acc3_1'] = val_acc3_1\n",
    "model_info['train_acc3_1'] = train_acc3_1\n",
    "model_info['val_acc3_2'] = val_acc3_2\n",
    "model_info['train_acc3_2'] = train_acc3_2\n",
    "model_info['val_acc3_3'] = val_acc3_3\n",
    "model_info['train_acc3_3'] = train_acc3_3\n",
    "model_info['val_acc3_4'] = val_acc3_4\n",
    "model_info['train_acc3_4'] = train_acc3_4\n",
    "model_info['val_acc4_1'] = val_acc4_1\n",
    "model_info['train_acc4_1'] = train_acc4_1\n",
    "model_info['val_acc4_2'] = val_acc4_2\n",
    "model_info['train_acc4_2'] = train_acc4_2"
   ]
  },
  {
   "cell_type": "code",
   "execution_count": 169,
   "metadata": {},
   "outputs": [],
   "source": [
    "try:\n",
    "    import cPickle as pickle\n",
    "except ImportError:  # python 3.x\n",
    "    import pickle\n",
    "\n",
    "with open('model_info.p', 'wb') as fp:\n",
    "    pickle.dump(model_info, fp, protocol=pickle.HIGHEST_PROTOCOL)"
   ]
  },
  {
   "cell_type": "code",
   "execution_count": 128,
   "metadata": {},
   "outputs": [],
   "source": [
    "with open('model_info.p', 'rb') as fp:\n",
    "    data = pickle.load(fp)"
   ]
  },
  {
   "cell_type": "code",
   "execution_count": 26,
   "metadata": {},
   "outputs": [],
   "source": [
    "model_info2 = dict()\n",
    "model_info2['val_acc4_1'] = val_acc4_1\n",
    "model_info2['train_acc4_1'] = train_acc4_1\n",
    "model_info2['val_acc4_2'] = val_acc4_2\n",
    "model_info2['train_acc4_2'] = train_acc4_2\n",
    "try:\n",
    "    import cPickle as pickle\n",
    "except ImportError:  # python 3.x\n",
    "    import pickle\n",
    "\n",
    "with open('model_info2.p', 'wb') as fp:\n",
    "    pickle.dump(model_info2, fp, protocol=pickle.HIGHEST_PROTOCOL)"
   ]
  },
  {
   "cell_type": "code",
   "execution_count": null,
   "metadata": {},
   "outputs": [],
   "source": []
  }
 ],
 "metadata": {
  "kernelspec": {
   "display_name": "Python 3",
   "language": "python",
   "name": "python3"
  },
  "language_info": {
   "codemirror_mode": {
    "name": "ipython",
    "version": 3
   },
   "file_extension": ".py",
   "mimetype": "text/x-python",
   "name": "python",
   "nbconvert_exporter": "python",
   "pygments_lexer": "ipython3",
   "version": "3.6.9"
  }
 },
 "nbformat": 4,
 "nbformat_minor": 2
}
