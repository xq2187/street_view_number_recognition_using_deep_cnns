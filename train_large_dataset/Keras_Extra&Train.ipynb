{
 "cells": [
  {
   "cell_type": "code",
   "execution_count": 2,
   "metadata": {},
   "outputs": [],
   "source": [
    "# !pip install keras\n",
    "# !pip install pydot\n",
    "# !pip install graphviz\n",
    "# !pip install pydotplus"
   ]
  },
  {
   "cell_type": "code",
   "execution_count": 3,
   "metadata": {},
   "outputs": [
    {
     "name": "stderr",
     "output_type": "stream",
     "text": [
      "Using TensorFlow backend.\n"
     ]
    }
   ],
   "source": [
    "import os\n",
    "import numpy as np\n",
    "import tensorflow as tf\n",
    "import tensorflow.keras as keras \n",
    "import tensorflow.keras.backend as K\n",
    "from sklearn.model_selection import train_test_split\n",
    "import matplotlib.pyplot as plt\n",
    "import tensorflow\n",
    "import tarfile\n",
    "import cv2\n",
    "import h5py\n",
    "import imageio\n",
    "from PIL import Image\n",
    "import matplotlib.pyplot as plt\n",
    "from PIL import ImageOps\n",
    "import pandas as pd\n",
    "from skimage.util import img_as_ubyte\n",
    "import csv\n",
    "from numpy import savez_compressed\n",
    "from numpy import load\n",
    "import glob\n",
    "import zipfile\n",
    "%matplotlib inline\n",
    "import keras\n",
    "from keras import optimizers\n",
    "from keras.models import Sequential\n",
    "from keras.layers import Dense, Conv2D, MaxPooling2D, Dropout, Flatten, Activation,Input\n",
    "from keras.layers.normalization import BatchNormalization\n",
    "from keras.models import Model\n",
    "from keras.layers import Convolution2D\n",
    "from keras.layers.core import Dropout\n",
    "from sklearn.model_selection import train_test_split\n",
    "from keras.utils import to_categorical,plot_model,model_to_dot\n",
    "import pydot\n",
    "import graphviz\n",
    "import pydotplus"
   ]
  },
  {
   "cell_type": "markdown",
   "metadata": {},
   "source": [
    "Extract processed data set(array format in npz file)"
   ]
  },
  {
   "cell_type": "code",
   "execution_count": 6,
   "metadata": {},
   "outputs": [],
   "source": [
    "extra_data1 = load(os.getcwd()+'/data/extra_cropped.npz', allow_pickle=True)\n",
    "extra_data = extra_data1['arr_0']\n",
    "extra_label = load(os.getcwd()+'/data/extra_label.npz', allow_pickle=True)\n",
    "extra_label = extra_label['arr_0']"
   ]
  },
  {
   "cell_type": "code",
   "execution_count": 8,
   "metadata": {},
   "outputs": [
    {
     "name": "stdout",
     "output_type": "stream",
     "text": [
      "(33402, 64, 64, 3)\n",
      "(33402, 6)\n"
     ]
    }
   ],
   "source": [
    "# read train image infomation from training array, which is stored in train_cropped.npz\n",
    "# tra_images has shape (33402,64,64,3)\n",
    "train_data1 = load(os.getcwd()+'/data/train_cropped.npz', allow_pickle=True)\n",
    "train_images = np.asarray(train_data1['arr_0'])\n",
    "print(train_images.shape)\n",
    "# read array infomation from training array, which is stored in train_cropped.npz\n",
    "# tra_images has shape (33402,6)\n",
    "label_data1 = load(os.getcwd()+'/data/train_label.npz', allow_pickle=True)\n",
    "train_labels = np.asarray(label_data1['arr_0'])\n",
    "print(train_labels.shape)"
   ]
  },
  {
   "cell_type": "code",
   "execution_count": 9,
   "metadata": {},
   "outputs": [
    {
     "name": "stdout",
     "output_type": "stream",
     "text": [
      "(13068, 64, 64, 3)\n",
      "(13068, 6)\n"
     ]
    }
   ],
   "source": [
    "# read train image infomation from training array, which is stored in train_cropped.npz\n",
    "# tra_images has shape (13068, 64, 64, 3)\n",
    "test_data1 = load(os.getcwd()+'/data/test_cropped.npz', allow_pickle=True)\n",
    "test_images = np.asarray(test_data1['arr_0'])\n",
    "print(test_images.shape)\n",
    "# read array infomation from training array, which is stored in train_cropped.npz\n",
    "# tra_images has shape (13068, 6)\n",
    "label_data2 = load(os.getcwd()+'/data/test_label.npz', allow_pickle=True)\n",
    "test_labels = np.asarray(label_data2['arr_0'])\n",
    "print(test_labels.shape)"
   ]
  },
  {
   "cell_type": "markdown",
   "metadata": {},
   "source": [
    "Get a large training data set by combining extra data and trainning data "
   ]
  },
  {
   "cell_type": "code",
   "execution_count": 10,
   "metadata": {},
   "outputs": [
    {
     "name": "stdout",
     "output_type": "stream",
     "text": [
      "(235755, 64, 64, 3)\n",
      "(235755, 6)\n"
     ]
    }
   ],
   "source": [
    "combined_train = np.concatenate((train_images, np.asarray(extra_data)))\n",
    "combined_train_label = np.concatenate((train_labels, np.asarray( extra_label)))\n",
    "print(combined_train.shape)\n",
    "print(combined_train_label.shape)"
   ]
  },
  {
   "cell_type": "code",
   "execution_count": 11,
   "metadata": {},
   "outputs": [],
   "source": [
    "# get test and train datasets\n",
    "x_train = combined_train\n",
    "x_test = test_images"
   ]
  },
  {
   "cell_type": "code",
   "execution_count": 12,
   "metadata": {},
   "outputs": [],
   "source": [
    "# change the shape of array, which is similar to .T\n",
    "def change_shape(array1):\n",
    "    label_emp = np.empty((array1.shape[1],array1.shape[0]), dtype='uint8')\n",
    "    for i in range(array1.shape[0]):\n",
    "        for j in range(array1.shape[1]):\n",
    "            label_emp[j,i] = array1[i,j]\n",
    "    return label_emp"
   ]
  },
  {
   "cell_type": "code",
   "execution_count": 13,
   "metadata": {},
   "outputs": [],
   "source": [
    "# get test accurracy\n",
    "def test_acc(model_name):\n",
    "    pre = model_name.predict(x_test, batch_size=None, verbose=0, steps=None, callbacks=None, max_queue_size=10, workers=1, use_multiprocessing=False)\n",
    "    n_pre = [np.argmax(i, axis = 1) for i in pre]\n",
    "    n_pre = np.asarray(n_pre).T\n",
    "    acc_result = np.sum(y_test.T == n_pre, axis = 1)\n",
    "    return np.sum(acc_result==6)/len(y_test.T)"
   ]
  },
  {
   "cell_type": "code",
   "execution_count": 14,
   "metadata": {},
   "outputs": [
    {
     "name": "stdout",
     "output_type": "stream",
     "text": [
      "y_train shape is right\n",
      "y_train shape is right\n"
     ]
    }
   ],
   "source": [
    "# reshape and test\n",
    "y_train = change_shape(combined_train_label)\n",
    "y_test = change_shape(test_labels)\n",
    "if y_train.shape[0] == 6:\n",
    "    print('y_train shape is right')\n",
    "if y_test.shape[0] == 6:\n",
    "    print('y_train shape is right')\n",
    "# print(y_train[0].reshape([-1,1]))\n",
    "# print(y_train.shape)"
   ]
  },
  {
   "cell_type": "code",
   "execution_count": 15,
   "metadata": {},
   "outputs": [],
   "source": [
    "# read number of digits to one-hot code of shape(,6)\n",
    "def digit_to_categorical_label(data):\n",
    "    n = data.shape[0]   \n",
    "    data_cat = np.empty([n, 6])\n",
    "    for i in range(n):\n",
    "        data_cat[i] = to_categorical(data[i], num_classes=6)        \n",
    "    return data_cat"
   ]
  },
  {
   "cell_type": "code",
   "execution_count": 16,
   "metadata": {},
   "outputs": [],
   "source": [
    "# read every digits to one-hot code of shape(,11)\n",
    "def digit_to_categorical(data):\n",
    "    n = data.shape[1]\n",
    "    data_cat = np.empty([len(data), n, 11])    \n",
    "    for i in range(n):\n",
    "        data_cat[:, i] = to_categorical(data[:, i], num_classes=11)        \n",
    "    return data_cat"
   ]
  },
  {
   "cell_type": "code",
   "execution_count": 17,
   "metadata": {},
   "outputs": [
    {
     "name": "stdout",
     "output_type": "stream",
     "text": [
      "(235755, 6)\n",
      "(5, 235755, 11)\n",
      "(13068, 6)\n",
      "(5, 13068, 11)\n"
     ]
    }
   ],
   "source": [
    "# convert all train and test labels to one-hot code\n",
    "y_train_num = digit_to_categorical_label(y_train[0])\n",
    "y_train_digits = digit_to_categorical(y_train[1:])\n",
    "y_test_num = digit_to_categorical_label(y_test[0])\n",
    "y_test_digits = digit_to_categorical(y_test[1:])\n",
    "# \n",
    "print(y_train_num.shape)\n",
    "print(y_train_digits.shape)\n",
    "print(y_test_num.shape)\n",
    "print(y_test_digits.shape)"
   ]
  },
  {
   "cell_type": "code",
   "execution_count": 18,
   "metadata": {},
   "outputs": [],
   "source": [
    "# function for get results of model for plotting\n",
    "def get_array(his_name,i):\n",
    "    val_loss = np.asarray(his_name.history['val_loss'])\n",
    "    val_acc1 = np.asarray(his_name.history[f'val_dense_{i}_accuracy'])\n",
    "    val_acc2 = np.asarray(his_name.history[f'val_dense_{i+1}_accuracy'])\n",
    "    val_acc3 = np.asarray(his_name.history[f'val_dense_{i+2}_accuracy'])\n",
    "    val_acc4 = np.asarray(his_name.history[f'val_dense_{i+3}_accuracy'])\n",
    "    val_acc5 = np.asarray(his_name.history[f'val_dense_{i+4}_accuracy'])\n",
    "    val_acc6 = np.asarray(his_name.history[f'val_dense_{i+5}_accuracy'])\n",
    "    val_acc = val_acc1*val_acc2*val_acc3*val_acc4*val_acc5*val_acc6\n",
    "    train_loss = np.asarray(his_name.history['loss'])\n",
    "    train_acc1 = np.asarray(his_name.history[f'dense_{i}_accuracy'])\n",
    "    train_acc2 = np.asarray(his_name.history[f'dense_{i+1}_accuracy'])\n",
    "    train_acc3 = np.asarray(his_name.history[f'dense_{i+2}_accuracy'])\n",
    "    train_acc4 = np.asarray(his_name.history[f'dense_{i+3}_accuracy'])\n",
    "    train_acc5 = np.asarray(his_name.history[f'dense_{i+4}_accuracy'])\n",
    "    train_acc6 = np.asarray(his_name.history[f'dense_{i+5}_accuracy'])\n",
    "    train_acc =  train_acc1*train_acc2*train_acc3*train_acc4*train_acc5*train_acc6\n",
    "    return val_loss,val_acc,train_loss,train_acc"
   ]
  },
  {
   "cell_type": "code",
   "execution_count": 19,
   "metadata": {},
   "outputs": [],
   "source": [
    "def build_model2(rate):\n",
    "    identifier = Sequential()\n",
    "    Input_1 = Input(shape=(64,64,3))\n",
    "    conv_model = BatchNormalization()(Input_1)\n",
    "    conv_model = Convolution2D(48, (5, 5), activation='relu',padding=\"same\")(conv_model)\n",
    "    conv_model = MaxPooling2D(pool_size=(2, 2), strides=(2,2))(conv_model)\n",
    "    conv_model = Dropout(rate)(conv_model)\n",
    "\n",
    "    conv_model = BatchNormalization()(conv_model)\n",
    "    conv_model = Convolution2D(54, (5, 5), activation='relu',padding=\"same\")(conv_model)\n",
    "    conv_model = MaxPooling2D(pool_size=(2, 2), strides=(1,1))(conv_model)\n",
    "    conv_model = Dropout(rate)(conv_model)\n",
    "\n",
    "    conv_model = BatchNormalization()(conv_model)\n",
    "    conv_model = Convolution2D(128, (5, 5), activation='relu',padding=\"same\")(conv_model)\n",
    "    conv_model = MaxPooling2D(pool_size=(2, 2), strides=(2,2))(conv_model)\n",
    "    conv_model = Dropout(0.1)(conv_model)\n",
    "    conv_model = Dropout(rate)(conv_model)\n",
    "\n",
    "    conv_model = BatchNormalization()(conv_model)\n",
    "    conv_model = Convolution2D(160, (5, 5), activation='relu',padding=\"same\")(conv_model)\n",
    "    conv_model = MaxPooling2D(pool_size=(2, 2), strides=(1,1))(conv_model)\n",
    "    conv_model = Dropout(rate)(conv_model)\n",
    "\n",
    "    conv_model = BatchNormalization()(conv_model)\n",
    "    conv_model = Convolution2D(192, (5, 5), activation='relu',padding=\"same\")(conv_model)\n",
    "    conv_model = MaxPooling2D(pool_size=(2, 2), strides=(2,2))(conv_model)\n",
    "    conv_model = Dropout(rate)(conv_model)\n",
    "\n",
    "    conv_model = BatchNormalization()(conv_model)\n",
    "    conv_model = Convolution2D(192, (5, 5), activation='relu',padding=\"same\")(conv_model)\n",
    "    conv_model = MaxPooling2D(pool_size=(2, 2), strides=(1,1))(conv_model)\n",
    "    conv_model = Dropout(rate)(conv_model)\n",
    "\n",
    "    conv_model = BatchNormalization()(conv_model)\n",
    "    conv_model = Convolution2D(192, (5, 5), activation='relu',padding=\"same\")(conv_model)\n",
    "    conv_model = MaxPooling2D(pool_size=(2, 2), strides=(2,2))(conv_model)\n",
    "    conv_model = Dropout(rate)(conv_model)\n",
    "\n",
    "    conv_model = BatchNormalization()(conv_model)\n",
    "    conv_model = Convolution2D(192, (5, 5), activation='relu',padding=\"same\")(conv_model)\n",
    "    conv_model = MaxPooling2D(pool_size=(2, 2), strides=(1,1))(conv_model)\n",
    "    conv_model = Dropout(rate)(conv_model)\n",
    "\n",
    "    conv_model = Flatten()(conv_model)\n",
    "    conv_model = Dense(1024,activation = 'relu')(conv_model)\n",
    "    conv_model = Dense(512,activation = 'relu')(conv_model)\n",
    "\n",
    "    x1 = Dense(6, activation = 'softmax')(conv_model)\n",
    "    x2 = Dense(11, activation = 'softmax')(conv_model)\n",
    "    x3 = Dense(11, activation = 'softmax')(conv_model)\n",
    "    x4 = Dense(11, activation = 'softmax')(conv_model)\n",
    "    x5 = Dense(11, activation = 'softmax')(conv_model)\n",
    "    x6 = Dense(11, activation = 'softmax')(conv_model)\n",
    "\n",
    "    y = [x1,x2,x3,x4,x5,x6]\n",
    "\n",
    "    identifier = Model(inputs = Input_1, outputs = y)\n",
    "    return identifier"
   ]
  },
  {
   "cell_type": "code",
   "execution_count": 23,
   "metadata": {},
   "outputs": [
    {
     "name": "stdout",
     "output_type": "stream",
     "text": [
      "WARNING:tensorflow:From /home/ecbm4040/miniconda3/envs/envTF113/lib/python3.6/site-packages/tensorflow/python/ops/math_ops.py:3066: to_int32 (from tensorflow.python.ops.math_ops) is deprecated and will be removed in a future version.\n",
      "Instructions for updating:\n",
      "Use tf.cast instead.\n",
      "Train on 188604 samples, validate on 47151 samples\n",
      "Epoch 1/20\n",
      "188604/188604 [==============================] - 499s 3ms/step - loss: 3.7151 - dense_11_loss: 0.2989 - dense_12_loss: 1.0041 - dense_13_loss: 1.2630 - dense_14_loss: 0.9260 - dense_15_loss: 0.2165 - dense_16_loss: 0.0066 - dense_11_accuracy: 0.8883 - dense_12_accuracy: 0.6534 - dense_13_accuracy: 0.5589 - dense_14_accuracy: 0.6968 - dense_15_accuracy: 0.9428 - dense_16_accuracy: 0.9992 - val_loss: 0.9159 - val_dense_11_loss: 0.0857 - val_dense_12_loss: 0.1655 - val_dense_13_loss: 0.2700 - val_dense_14_loss: 0.2667 - val_dense_15_loss: 0.1219 - val_dense_16_loss: 0.0060 - val_dense_11_accuracy: 0.9762 - val_dense_12_accuracy: 0.9547 - val_dense_13_accuracy: 0.9263 - val_dense_14_accuracy: 0.9208 - val_dense_15_accuracy: 0.9615 - val_dense_16_accuracy: 0.9993\n",
      "Epoch 2/20\n",
      "188604/188604 [==============================] - 473s 3ms/step - loss: 1.2895 - dense_11_loss: 0.1148 - dense_12_loss: 0.3012 - dense_13_loss: 0.4141 - dense_14_loss: 0.3392 - dense_15_loss: 0.1155 - dense_16_loss: 0.0046 - dense_11_accuracy: 0.9661 - dense_12_accuracy: 0.9143 - dense_13_accuracy: 0.8785 - dense_14_accuracy: 0.8995 - dense_15_accuracy: 0.9646 - dense_16_accuracy: 0.9995 - val_loss: 0.5824 - val_dense_11_loss: 0.0681 - val_dense_12_loss: 0.1156 - val_dense_13_loss: 0.1649 - val_dense_14_loss: 0.1623 - val_dense_15_loss: 0.0662 - val_dense_16_loss: 0.0052 - val_dense_11_accuracy: 0.9831 - val_dense_12_accuracy: 0.9716 - val_dense_13_accuracy: 0.9597 - val_dense_14_accuracy: 0.9557 - val_dense_15_accuracy: 0.9825 - val_dense_16_accuracy: 0.9993\n",
      "Epoch 3/20\n",
      "188604/188604 [==============================] - 470s 2ms/step - loss: 1.0105 - dense_11_loss: 0.0965 - dense_12_loss: 0.2414 - dense_13_loss: 0.3242 - dense_14_loss: 0.2604 - dense_15_loss: 0.0835 - dense_16_loss: 0.0044 - dense_11_accuracy: 0.9723 - dense_12_accuracy: 0.9340 - dense_13_accuracy: 0.9093 - dense_14_accuracy: 0.9268 - dense_15_accuracy: 0.9755 - dense_16_accuracy: 0.9995 - val_loss: 0.4990 - val_dense_11_loss: 0.0597 - val_dense_12_loss: 0.1124 - val_dense_13_loss: 0.1455 - val_dense_14_loss: 0.1308 - val_dense_15_loss: 0.0460 - val_dense_16_loss: 0.0045 - val_dense_11_accuracy: 0.9855 - val_dense_12_accuracy: 0.9739 - val_dense_13_accuracy: 0.9656 - val_dense_14_accuracy: 0.9680 - val_dense_15_accuracy: 0.9879 - val_dense_16_accuracy: 0.9993\n",
      "Epoch 4/20\n",
      "188604/188604 [==============================] - 473s 3ms/step - loss: 0.8874 - dense_11_loss: 0.0884 - dense_12_loss: 0.2165 - dense_13_loss: 0.2862 - dense_14_loss: 0.2223 - dense_15_loss: 0.0702 - dense_16_loss: 0.0039 - dense_11_accuracy: 0.9754 - dense_12_accuracy: 0.9416 - dense_13_accuracy: 0.9218 - dense_14_accuracy: 0.9395 - dense_15_accuracy: 0.9800 - dense_16_accuracy: 0.9995 - val_loss: 0.4168 - val_dense_11_loss: 0.0527 - val_dense_12_loss: 0.0929 - val_dense_13_loss: 0.1253 - val_dense_14_loss: 0.1057 - val_dense_15_loss: 0.0348 - val_dense_16_loss: 0.0053 - val_dense_11_accuracy: 0.9881 - val_dense_12_accuracy: 0.9788 - val_dense_13_accuracy: 0.9719 - val_dense_14_accuracy: 0.9762 - val_dense_15_accuracy: 0.9923 - val_dense_16_accuracy: 0.9993\n",
      "Epoch 5/20\n",
      "188604/188604 [==============================] - 473s 3ms/step - loss: 0.8103 - dense_11_loss: 0.0825 - dense_12_loss: 0.1998 - dense_13_loss: 0.2620 - dense_14_loss: 0.2009 - dense_15_loss: 0.0612 - dense_16_loss: 0.0039 - dense_11_accuracy: 0.9771 - dense_12_accuracy: 0.9468 - dense_13_accuracy: 0.9297 - dense_14_accuracy: 0.9464 - dense_15_accuracy: 0.9834 - dense_16_accuracy: 0.9995 - val_loss: 0.4037 - val_dense_11_loss: 0.0537 - val_dense_12_loss: 0.0909 - val_dense_13_loss: 0.1180 - val_dense_14_loss: 0.1041 - val_dense_15_loss: 0.0314 - val_dense_16_loss: 0.0054 - val_dense_11_accuracy: 0.9887 - val_dense_12_accuracy: 0.9796 - val_dense_13_accuracy: 0.9738 - val_dense_14_accuracy: 0.9770 - val_dense_15_accuracy: 0.9929 - val_dense_16_accuracy: 0.9993\n",
      "Epoch 6/20\n",
      "188604/188604 [==============================] - 472s 3ms/step - loss: 0.7505 - dense_11_loss: 0.0777 - dense_12_loss: 0.1856 - dense_13_loss: 0.2424 - dense_14_loss: 0.1853 - dense_15_loss: 0.0556 - dense_16_loss: 0.0039 - dense_11_accuracy: 0.9788 - dense_12_accuracy: 0.9507 - dense_13_accuracy: 0.9349 - dense_14_accuracy: 0.9507 - dense_15_accuracy: 0.9850 - dense_16_accuracy: 0.9995 - val_loss: 0.3648 - val_dense_11_loss: 0.0512 - val_dense_12_loss: 0.0787 - val_dense_13_loss: 0.1060 - val_dense_14_loss: 0.0948 - val_dense_15_loss: 0.0288 - val_dense_16_loss: 0.0051 - val_dense_11_accuracy: 0.9887 - val_dense_12_accuracy: 0.9830 - val_dense_13_accuracy: 0.9768 - val_dense_14_accuracy: 0.9791 - val_dense_15_accuracy: 0.9937 - val_dense_16_accuracy: 0.9990\n",
      "Epoch 7/20\n",
      "188604/188604 [==============================] - 476s 3ms/step - loss: 0.7077 - dense_11_loss: 0.0739 - dense_12_loss: 0.1762 - dense_13_loss: 0.2298 - dense_14_loss: 0.1726 - dense_15_loss: 0.0516 - dense_16_loss: 0.0036 - dense_11_accuracy: 0.9795 - dense_12_accuracy: 0.9539 - dense_13_accuracy: 0.9394 - dense_14_accuracy: 0.9551 - dense_15_accuracy: 0.9862 - dense_16_accuracy: 0.9995 - val_loss: 0.3490 - val_dense_11_loss: 0.0489 - val_dense_12_loss: 0.0745 - val_dense_13_loss: 0.1045 - val_dense_14_loss: 0.0883 - val_dense_15_loss: 0.0280 - val_dense_16_loss: 0.0045 - val_dense_11_accuracy: 0.9889 - val_dense_12_accuracy: 0.9834 - val_dense_13_accuracy: 0.9771 - val_dense_14_accuracy: 0.9803 - val_dense_15_accuracy: 0.9938 - val_dense_16_accuracy: 0.9993\n",
      "Epoch 8/20\n",
      "188604/188604 [==============================] - 474s 3ms/step - loss: 0.6704 - dense_11_loss: 0.0705 - dense_12_loss: 0.1678 - dense_13_loss: 0.2159 - dense_14_loss: 0.1644 - dense_15_loss: 0.0482 - dense_16_loss: 0.0035 - dense_11_accuracy: 0.9803 - dense_12_accuracy: 0.9559 - dense_13_accuracy: 0.9425 - dense_14_accuracy: 0.9567 - dense_15_accuracy: 0.9875 - dense_16_accuracy: 0.9995 - val_loss: 0.3438 - val_dense_11_loss: 0.0476 - val_dense_12_loss: 0.0744 - val_dense_13_loss: 0.1069 - val_dense_14_loss: 0.0852 - val_dense_15_loss: 0.0247 - val_dense_16_loss: 0.0050 - val_dense_11_accuracy: 0.9892 - val_dense_12_accuracy: 0.9835 - val_dense_13_accuracy: 0.9772 - val_dense_14_accuracy: 0.9819 - val_dense_15_accuracy: 0.9945 - val_dense_16_accuracy: 0.9993\n",
      "Epoch 9/20\n",
      "188604/188604 [==============================] - 475s 3ms/step - loss: 0.6354 - dense_11_loss: 0.0669 - dense_12_loss: 0.1607 - dense_13_loss: 0.2056 - dense_14_loss: 0.1537 - dense_15_loss: 0.0449 - dense_16_loss: 0.0036 - dense_11_accuracy: 0.9818 - dense_12_accuracy: 0.9579 - dense_13_accuracy: 0.9456 - dense_14_accuracy: 0.9603 - dense_15_accuracy: 0.9884 - dense_16_accuracy: 0.9995 - val_loss: 0.3194 - val_dense_11_loss: 0.0469 - val_dense_12_loss: 0.0682 - val_dense_13_loss: 0.0944 - val_dense_14_loss: 0.0828 - val_dense_15_loss: 0.0228 - val_dense_16_loss: 0.0042 - val_dense_11_accuracy: 0.9896 - val_dense_12_accuracy: 0.9852 - val_dense_13_accuracy: 0.9800 - val_dense_14_accuracy: 0.9823 - val_dense_15_accuracy: 0.9952 - val_dense_16_accuracy: 0.9993\n",
      "Epoch 10/20\n",
      "188604/188604 [==============================] - 475s 3ms/step - loss: 0.6162 - dense_11_loss: 0.0671 - dense_12_loss: 0.1534 - dense_13_loss: 0.2004 - dense_14_loss: 0.1480 - dense_15_loss: 0.0439 - dense_16_loss: 0.0033 - dense_11_accuracy: 0.9813 - dense_12_accuracy: 0.9597 - dense_13_accuracy: 0.9472 - dense_14_accuracy: 0.9620 - dense_15_accuracy: 0.9883 - dense_16_accuracy: 0.9995 - val_loss: 0.3147 - val_dense_11_loss: 0.0450 - val_dense_12_loss: 0.0712 - val_dense_13_loss: 0.0932 - val_dense_14_loss: 0.0791 - val_dense_15_loss: 0.0220 - val_dense_16_loss: 0.0041 - val_dense_11_accuracy: 0.9899 - val_dense_12_accuracy: 0.9846 - val_dense_13_accuracy: 0.9794 - val_dense_14_accuracy: 0.9828 - val_dense_15_accuracy: 0.9954 - val_dense_16_accuracy: 0.9993\n",
      "Epoch 11/20\n",
      "188604/188604 [==============================] - 475s 3ms/step - loss: 0.5931 - dense_11_loss: 0.0636 - dense_12_loss: 0.1509 - dense_13_loss: 0.1927 - dense_14_loss: 0.1422 - dense_15_loss: 0.0408 - dense_16_loss: 0.0031 - dense_11_accuracy: 0.9822 - dense_12_accuracy: 0.9606 - dense_13_accuracy: 0.9492 - dense_14_accuracy: 0.9633 - dense_15_accuracy: 0.9895 - dense_16_accuracy: 0.9995 - val_loss: 0.3103 - val_dense_11_loss: 0.0442 - val_dense_12_loss: 0.0675 - val_dense_13_loss: 0.0923 - val_dense_14_loss: 0.0803 - val_dense_15_loss: 0.0221 - val_dense_16_loss: 0.0037 - val_dense_11_accuracy: 0.9899 - val_dense_12_accuracy: 0.9850 - val_dense_13_accuracy: 0.9800 - val_dense_14_accuracy: 0.9829 - val_dense_15_accuracy: 0.9956 - val_dense_16_accuracy: 0.9993\n",
      "Epoch 12/20\n",
      "188604/188604 [==============================] - 472s 3ms/step - loss: 0.5775 - dense_11_loss: 0.0619 - dense_12_loss: 0.1472 - dense_13_loss: 0.1868 - dense_14_loss: 0.1385 - dense_15_loss: 0.0399 - dense_16_loss: 0.0032 - dense_11_accuracy: 0.9826 - dense_12_accuracy: 0.9616 - dense_13_accuracy: 0.9510 - dense_14_accuracy: 0.9646 - dense_15_accuracy: 0.9897 - dense_16_accuracy: 0.9995 - val_loss: 0.2953 - val_dense_11_loss: 0.0435 - val_dense_12_loss: 0.0658 - val_dense_13_loss: 0.0863 - val_dense_14_loss: 0.0744 - val_dense_15_loss: 0.0215 - val_dense_16_loss: 0.0037 - val_dense_11_accuracy: 0.9900 - val_dense_12_accuracy: 0.9858 - val_dense_13_accuracy: 0.9811 - val_dense_14_accuracy: 0.9835 - val_dense_15_accuracy: 0.9956 - val_dense_16_accuracy: 0.9993\n",
      "Epoch 13/20\n",
      "188604/188604 [==============================] - 473s 3ms/step - loss: 0.5591 - dense_11_loss: 0.0597 - dense_12_loss: 0.1421 - dense_13_loss: 0.1816 - dense_14_loss: 0.1344 - dense_15_loss: 0.0384 - dense_16_loss: 0.0029 - dense_11_accuracy: 0.9833 - dense_12_accuracy: 0.9624 - dense_13_accuracy: 0.9522 - dense_14_accuracy: 0.9656 - dense_15_accuracy: 0.9900 - dense_16_accuracy: 0.9995 - val_loss: 0.2970 - val_dense_11_loss: 0.0453 - val_dense_12_loss: 0.0662 - val_dense_13_loss: 0.0881 - val_dense_14_loss: 0.0739 - val_dense_15_loss: 0.0199 - val_dense_16_loss: 0.0036 - val_dense_11_accuracy: 0.9901 - val_dense_12_accuracy: 0.9856 - val_dense_13_accuracy: 0.9813 - val_dense_14_accuracy: 0.9839 - val_dense_15_accuracy: 0.9959 - val_dense_16_accuracy: 0.9993\n",
      "Epoch 14/20\n",
      "188604/188604 [==============================] - 474s 3ms/step - loss: 0.5490 - dense_11_loss: 0.0591 - dense_12_loss: 0.1399 - dense_13_loss: 0.1783 - dense_14_loss: 0.1307 - dense_15_loss: 0.0379 - dense_16_loss: 0.0030 - dense_11_accuracy: 0.9830 - dense_12_accuracy: 0.9634 - dense_13_accuracy: 0.9528 - dense_14_accuracy: 0.9664 - dense_15_accuracy: 0.9905 - dense_16_accuracy: 0.9995 - val_loss: 0.2802 - val_dense_11_loss: 0.0413 - val_dense_12_loss: 0.0620 - val_dense_13_loss: 0.0845 - val_dense_14_loss: 0.0685 - val_dense_15_loss: 0.0203 - val_dense_16_loss: 0.0036 - val_dense_11_accuracy: 0.9901 - val_dense_12_accuracy: 0.9862 - val_dense_13_accuracy: 0.9813 - val_dense_14_accuracy: 0.9849 - val_dense_15_accuracy: 0.9957 - val_dense_16_accuracy: 0.9993\n",
      "Epoch 15/20\n",
      "188604/188604 [==============================] - 471s 2ms/step - loss: 0.5349 - dense_11_loss: 0.0568 - dense_12_loss: 0.1362 - dense_13_loss: 0.1755 - dense_14_loss: 0.1280 - dense_15_loss: 0.0356 - dense_16_loss: 0.0029 - dense_11_accuracy: 0.9841 - dense_12_accuracy: 0.9646 - dense_13_accuracy: 0.9543 - dense_14_accuracy: 0.9678 - dense_15_accuracy: 0.9909 - dense_16_accuracy: 0.9995 - val_loss: 0.2785 - val_dense_11_loss: 0.0409 - val_dense_12_loss: 0.0618 - val_dense_13_loss: 0.0837 - val_dense_14_loss: 0.0682 - val_dense_15_loss: 0.0198 - val_dense_16_loss: 0.0040 - val_dense_11_accuracy: 0.9908 - val_dense_12_accuracy: 0.9866 - val_dense_13_accuracy: 0.9821 - val_dense_14_accuracy: 0.9853 - val_dense_15_accuracy: 0.9960 - val_dense_16_accuracy: 0.9993\n",
      "Epoch 16/20\n",
      "188604/188604 [==============================] - 475s 3ms/step - loss: 0.5310 - dense_11_loss: 0.0564 - dense_12_loss: 0.1356 - dense_13_loss: 0.1743 - dense_14_loss: 0.1267 - dense_15_loss: 0.0352 - dense_16_loss: 0.0028 - dense_11_accuracy: 0.9838 - dense_12_accuracy: 0.9645 - dense_13_accuracy: 0.9544 - dense_14_accuracy: 0.9676 - dense_15_accuracy: 0.9912 - dense_16_accuracy: 0.9995 - val_loss: 0.2820 - val_dense_11_loss: 0.0418 - val_dense_12_loss: 0.0623 - val_dense_13_loss: 0.0836 - val_dense_14_loss: 0.0706 - val_dense_15_loss: 0.0195 - val_dense_16_loss: 0.0042 - val_dense_11_accuracy: 0.9904 - val_dense_12_accuracy: 0.9871 - val_dense_13_accuracy: 0.9822 - val_dense_14_accuracy: 0.9847 - val_dense_15_accuracy: 0.9962 - val_dense_16_accuracy: 0.9993\n",
      "Epoch 17/20\n",
      "188604/188604 [==============================] - 476s 3ms/step - loss: 0.5233 - dense_11_loss: 0.0558 - dense_12_loss: 0.1330 - dense_13_loss: 0.1710 - dense_14_loss: 0.1252 - dense_15_loss: 0.0356 - dense_16_loss: 0.0027 - dense_11_accuracy: 0.9842 - dense_12_accuracy: 0.9656 - dense_13_accuracy: 0.9555 - dense_14_accuracy: 0.9680 - dense_15_accuracy: 0.9912 - dense_16_accuracy: 0.9995 - val_loss: 0.2790 - val_dense_11_loss: 0.0418 - val_dense_12_loss: 0.0634 - val_dense_13_loss: 0.0829 - val_dense_14_loss: 0.0687 - val_dense_15_loss: 0.0192 - val_dense_16_loss: 0.0030 - val_dense_11_accuracy: 0.9909 - val_dense_12_accuracy: 0.9864 - val_dense_13_accuracy: 0.9824 - val_dense_14_accuracy: 0.9856 - val_dense_15_accuracy: 0.9964 - val_dense_16_accuracy: 0.9993\n",
      "Epoch 18/20\n",
      "188604/188604 [==============================] - 477s 3ms/step - loss: 0.5085 - dense_11_loss: 0.0531 - dense_12_loss: 0.1310 - dense_13_loss: 0.1668 - dense_14_loss: 0.1204 - dense_15_loss: 0.0344 - dense_16_loss: 0.0027 - dense_11_accuracy: 0.9851 - dense_12_accuracy: 0.9654 - dense_13_accuracy: 0.9563 - dense_14_accuracy: 0.9692 - dense_15_accuracy: 0.9913 - dense_16_accuracy: 0.9995 - val_loss: 0.2825 - val_dense_11_loss: 0.0420 - val_dense_12_loss: 0.0624 - val_dense_13_loss: 0.0828 - val_dense_14_loss: 0.0712 - val_dense_15_loss: 0.0208 - val_dense_16_loss: 0.0032 - val_dense_11_accuracy: 0.9906 - val_dense_12_accuracy: 0.9863 - val_dense_13_accuracy: 0.9824 - val_dense_14_accuracy: 0.9846 - val_dense_15_accuracy: 0.9961 - val_dense_16_accuracy: 0.9992\n",
      "Epoch 19/20\n",
      "188604/188604 [==============================] - 482s 3ms/step - loss: 0.5016 - dense_11_loss: 0.0529 - dense_12_loss: 0.1300 - dense_13_loss: 0.1644 - dense_14_loss: 0.1179 - dense_15_loss: 0.0341 - dense_16_loss: 0.0023 - dense_11_accuracy: 0.9846 - dense_12_accuracy: 0.9661 - dense_13_accuracy: 0.9571 - dense_14_accuracy: 0.9697 - dense_15_accuracy: 0.9912 - dense_16_accuracy: 0.9995 - val_loss: 0.2627 - val_dense_11_loss: 0.0385 - val_dense_12_loss: 0.0595 - val_dense_13_loss: 0.0803 - val_dense_14_loss: 0.0641 - val_dense_15_loss: 0.0173 - val_dense_16_loss: 0.0029 - val_dense_11_accuracy: 0.9910 - val_dense_12_accuracy: 0.9871 - val_dense_13_accuracy: 0.9826 - val_dense_14_accuracy: 0.9861 - val_dense_15_accuracy: 0.9964 - val_dense_16_accuracy: 0.9994\n",
      "Epoch 20/20\n",
      "188604/188604 [==============================] - 483s 3ms/step - loss: 0.4957 - dense_11_loss: 0.0519 - dense_12_loss: 0.1284 - dense_13_loss: 0.1621 - dense_14_loss: 0.1179 - dense_15_loss: 0.0328 - dense_16_loss: 0.0025 - dense_11_accuracy: 0.9850 - dense_12_accuracy: 0.9671 - dense_13_accuracy: 0.9581 - dense_14_accuracy: 0.9700 - dense_15_accuracy: 0.9916 - dense_16_accuracy: 0.9995 - val_loss: 0.2582 - val_dense_11_loss: 0.0378 - val_dense_12_loss: 0.0576 - val_dense_13_loss: 0.0776 - val_dense_14_loss: 0.0631 - val_dense_15_loss: 0.0191 - val_dense_16_loss: 0.0029 - val_dense_11_accuracy: 0.9911 - val_dense_12_accuracy: 0.9875 - val_dense_13_accuracy: 0.9835 - val_dense_14_accuracy: 0.9864 - val_dense_15_accuracy: 0.9965 - val_dense_16_accuracy: 0.9993\n"
     ]
    }
   ],
   "source": [
    "# model with different optimizers\n",
    "# with optimizer stochastic Nadam\n",
    "model1= build_model2(0.5)\n",
    "# nadam = keras.optimizers.Nadam(learning_rate=0.001, beta_1=0.9, beta_2=0.999)\n",
    "adam = optimizers.Adam(learning_rate=0.001, beta_1=0.9, beta_2=0.999, amsgrad=False)\n",
    "model1.compile(optimizer = adam, loss = \"categorical_crossentropy\",metrics = [\"accuracy\"])\n",
    "history1 = model1.fit(x=x_train,\n",
    "               y=[y_train_num,y_train_digits[0],y_train_digits[1],y_train_digits[2],y_train_digits[3],y_train_digits[4]],\n",
    "                batch_size=64, epochs=20,verbose=1,validation_split=0.2,shuffle=True)"
   ]
  },
  {
   "cell_type": "code",
   "execution_count": 25,
   "metadata": {},
   "outputs": [
    {
     "name": "stdout",
     "output_type": "stream",
     "text": [
      "['loss', 'dense_11_loss', 'dense_12_loss', 'dense_13_loss', 'dense_14_loss', 'dense_15_loss', 'dense_16_loss', 'dense_11_accuracy', 'dense_12_accuracy', 'dense_13_accuracy', 'dense_14_accuracy', 'dense_15_accuracy', 'dense_16_accuracy']\n"
     ]
    }
   ],
   "source": [
    "print(model1.metrics_names)"
   ]
  },
  {
   "cell_type": "markdown",
   "metadata": {},
   "source": [
    "Show the prediction accuracy of this model"
   ]
  },
  {
   "cell_type": "code",
   "execution_count": 31,
   "metadata": {},
   "outputs": [
    {
     "name": "stdout",
     "output_type": "stream",
     "text": [
      "0.9244444444444444\n"
     ]
    }
   ],
   "source": [
    "test1_4 = test_acc(model1)\n",
    "print(test1_4)\n",
    "val_loss1_4,val_acc1_4,train_loss1_4,train_acc1_4 = get_array(history1,11)\n",
    "val_acc1_4 = np.insert(val_acc1_4,0,0)\n",
    "train_acc1_4 = np.insert(train_acc1_4,0,0)"
   ]
  },
  {
   "cell_type": "markdown",
   "metadata": {},
   "source": [
    "Accuracy history plot "
   ]
  },
  {
   "cell_type": "code",
   "execution_count": 41,
   "metadata": {},
   "outputs": [
    {
     "data": {
      "image/png": "[encoded data removed]",
      "text/plain": [
       "<Figure size 432x288 with 1 Axes>"
      ]
     },
     "metadata": {
      "needs_background": "light"
     },
     "output_type": "display_data"
    }
   ],
   "source": [
    "# plt.plot(val_loss1_2)\n",
    "%matplotlib inline\n",
    "# plt.plot(plt.plot(val_acc1_2))\n",
    "plt.plot(val_acc1_4)\n",
    "plt.plot(train_acc1_4)\n",
    "plt.plot(20,test1_4,'o')\n",
    "plt.title('Model Accurracy: Adam-8Layers-0.5Dropout')\n",
    "plt.ylabel('Accuracy')\n",
    "plt.xlabel('Epoch')\n",
    "plt.legend(['Train','Validatiaon','Test'], loc='upper left')\n",
    "plt.grid()\n",
    "plt.savefig('nadam_with_extra.png')\n",
    "plt.show()"
   ]
  }
 ],
 "metadata": {
  "kernelspec": {
   "display_name": "Python 3",
   "language": "python",
   "name": "python3"
  },
  "language_info": {
   "codemirror_mode": {
    "name": "ipython",
    "version": 3
   },
   "file_extension": ".py",
   "mimetype": "text/x-python",
   "name": "python",
   "nbconvert_exporter": "python",
   "pygments_lexer": "ipython3",
   "version": "3.7.5"
  }
 },
 "nbformat": 4,
 "nbformat_minor": 2
}
